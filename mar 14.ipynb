{
 "cells": [
  {
   "cell_type": "markdown",
   "id": "97bca3e6",
   "metadata": {},
   "source": [
    "ans1"
   ]
  },
  {
   "cell_type": "code",
   "execution_count": 1,
   "id": "3909c497",
   "metadata": {},
   "outputs": [],
   "source": [
    "import numpy as np\n",
    "from scipy.stats import f\n",
    "\n",
    "def variance_ratio_test(x, y):\n",
    "    n = len(x)\n",
    "    m = len(y)\n",
    "    \n",
    "    var_x = np.var(x, ddof=1)\n",
    "    var_y = np.var(y, ddof=1)\n",
    "    \n",
    "    f_value = var_x / var_y\n",
    "    \n",
    "    df1 = n - 1\n",
    "    df2 = m - 1\n",
    "    p_value = 1 - f.cdf(f_value, df1, df2)\n",
    "    \n",
    "    return f_value, p_value"
   ]
  },
  {
   "cell_type": "markdown",
   "id": "9d659593",
   "metadata": {},
   "source": [
    "ans2"
   ]
  },
  {
   "cell_type": "code",
   "execution_count": 2,
   "id": "3aea8e85",
   "metadata": {},
   "outputs": [
    {
     "name": "stdout",
     "output_type": "stream",
     "text": [
      "The critical F-value for a two-tailed test with dfn=5, dfd=20, and alpha=0.05 is between 0.15801394834141053 and 3.289055845680407\n"
     ]
    }
   ],
   "source": [
    "from scipy.stats import f\n",
    "\n",
    "def critical_f(dfn, dfd, alpha=0.05):\n",
    "    return f.ppf(alpha/2, dfn, dfd), f.ppf(1-alpha/2, dfn, dfd)\n",
    "\n",
    "dfn = 5\n",
    "dfd = 20\n",
    "alpha = 0.05\n",
    "\n",
    "lower_crit_f, upper_crit_f = critical_f(dfn, dfd, alpha)\n",
    "\n",
    "print(f\"The critical F-value for a two-tailed test with dfn={dfn}, dfd={dfd}, and alpha={alpha} is between {lower_crit_f} and {upper_crit_f}\")\n"
   ]
  },
  {
   "cell_type": "markdown",
   "id": "99fc5e23",
   "metadata": {},
   "source": [
    "ans3"
   ]
  },
  {
   "cell_type": "code",
   "execution_count": 3,
   "id": "fa52748f",
   "metadata": {},
   "outputs": [
    {
     "name": "stdout",
     "output_type": "stream",
     "text": [
      "Sample 1 Mean: 9.729153192966763\n",
      "Sample 1 Variance: 2.304136424926773\n",
      "Sample 2 Mean: 11.563180845216179\n",
      "Sample 2 Variance: 2.561801114114011\n",
      "F-value: 0.8994204945233032\n",
      "Degrees of freedom: 19 24\n",
      "p-value: 0.41146946659839967\n"
     ]
    }
   ],
   "source": [
    "import numpy as np\n",
    "from scipy.stats import f\n",
    "\n",
    "np.random.seed(42)\n",
    "\n",
    "n1, n2 = 20, 25\n",
    "var1, var2 = 2.5, 3.0\n",
    "mean1, mean2 = 10, 12\n",
    "\n",
    "sample1 = np.random.normal(loc=mean1, scale=np.sqrt(var1), size=n1)\n",
    "sample2 = np.random.normal(loc=mean2, scale=np.sqrt(var2), size=n2)\n",
    "\n",
    "f_value, p_value = np.var(sample1, ddof=1) / np.var(sample2, ddof=1), \\\n",
    "                  f.cdf(np.var(sample1, ddof=1) / np.var(sample2, ddof=1), n1-1, n2-1)\n",
    "\n",
    "dfn, dfd = n1-1, n2-1\n",
    "\n",
    "print(\"Sample 1 Mean:\", np.mean(sample1))\n",
    "print(\"Sample 1 Variance:\", np.var(sample1, ddof=1))\n",
    "print(\"Sample 2 Mean:\", np.mean(sample2))\n",
    "print(\"Sample 2 Variance:\", np.var(sample2, ddof=1))\n",
    "print(\"F-value:\", f_value)\n",
    "print(\"Degrees of freedom:\", dfn, dfd)\n",
    "print(\"p-value:\", p_value)"
   ]
  },
  {
   "cell_type": "markdown",
   "id": "70c7b8b9",
   "metadata": {},
   "source": [
    "ans4"
   ]
  },
  {
   "cell_type": "code",
   "execution_count": 4,
   "id": "80fb0656",
   "metadata": {},
   "outputs": [
    {
     "name": "stdout",
     "output_type": "stream",
     "text": [
      "0.28787755798459863\n"
     ]
    }
   ],
   "source": [
    "from scipy.stats import f\n",
    "\n",
    "alpha = 0.05\n",
    "dfn = 11\n",
    "dfd = 11\n",
    "\n",
    "crit_f = f.ppf(alpha/2, dfn, dfd)\n",
    "print(crit_f)"
   ]
  },
  {
   "cell_type": "markdown",
   "id": "f19c2f31",
   "metadata": {},
   "source": [
    "ans5"
   ]
  },
  {
   "cell_type": "code",
   "execution_count": 5,
   "id": "eefd7359",
   "metadata": {},
   "outputs": [
    {
     "name": "stdout",
     "output_type": "stream",
     "text": [
      "nan\n"
     ]
    }
   ],
   "source": [
    "from scipy.stats import f\n",
    "\n",
    "alpha = 0.01\n",
    "dfn = 24\n",
    "dfd = float(\"inf\")\n",
    "\n",
    "crit_f = f.ppf(alpha/2, dfn, dfd)\n",
    "print(crit_f)"
   ]
  },
  {
   "cell_type": "markdown",
   "id": "1b317e8b",
   "metadata": {},
   "source": [
    "ans6"
   ]
  },
  {
   "cell_type": "code",
   "execution_count": 6,
   "id": "dffe514c",
   "metadata": {},
   "outputs": [
    {
     "name": "stdout",
     "output_type": "stream",
     "text": [
      "Mean: 1.25\n",
      "Variance: 1.9097222222222223\n"
     ]
    }
   ],
   "source": [
    "def f_dist_mean_var(dfn, dfd):\n",
    "    mean = dfd / (dfd - 2)\n",
    "    variance = (2 * (dfd ** 2) * (dfn + dfd - 2)) / ((dfn * (dfd - 2) ** 2 * (dfd - 4)))\n",
    "    return mean, variance\n",
    "\n",
    "mean, variance = f_dist_mean_var(3, 10)\n",
    "print(\"Mean:\", mean)\n",
    "print(\"Variance:\", variance)\n"
   ]
  },
  {
   "cell_type": "markdown",
   "id": "30f2151b",
   "metadata": {},
   "source": [
    "ans7"
   ]
  },
  {
   "cell_type": "code",
   "execution_count": 7,
   "id": "a18ebfa4",
   "metadata": {},
   "outputs": [
    {
     "name": "stdout",
     "output_type": "stream",
     "text": [
      "Fail to reject the null hypothesis.\n",
      "F-statistic: 1.25\n",
      "Critical F-value: 2.6457907352338195\n",
      "P-value: 0.6832194382585954\n"
     ]
    }
   ],
   "source": [
    "import scipy.stats as stats\n",
    "\n",
    "s1_sq = 25\n",
    "s2_sq = 20\n",
    "n1 = 10\n",
    "n2 = 15\n",
    "dfn = n1 - 1\n",
    "dfd = n2 - 1\n",
    "\n",
    "F = s1_sq / s2_sq\n",
    "critical_F = stats.f.ppf(0.95, dfn, dfd)\n",
    "p_value = 2 * (1 - stats.f.cdf(F, dfn, dfd))\n",
    "\n",
    "if F > critical_F:\n",
    "    print(\"Reject the null hypothesis.\")\n",
    "else:\n",
    "    print(\"Fail to reject the null hypothesis.\")\n",
    "\n",
    "print(\"F-statistic:\", F)\n",
    "print(\"Critical F-value:\", critical_F)\n",
    "print(\"P-value:\", p_value)"
   ]
  },
  {
   "cell_type": "markdown",
   "id": "2ff66285",
   "metadata": {},
   "source": [
    "ans8"
   ]
  },
  {
   "cell_type": "code",
   "execution_count": 8,
   "id": "d3278b8b",
   "metadata": {},
   "outputs": [
    {
     "name": "stdout",
     "output_type": "stream",
     "text": [
      "Sample variance of restaurant A: 7.80952380952381\n",
      "Sample variance of restaurant B: 5.366666666666667\n"
     ]
    }
   ],
   "source": [
    "import numpy as np\n",
    "\n",
    "a = np.array([24, 25, 28, 23, 22, 20, 27])\n",
    "b = np.array([31, 33, 35, 30, 32, 36])\n",
    "\n",
    "s_a_sq = np.var(a, ddof=1)\n",
    "s_b_sq = np.var(b, ddof=1)\n",
    "\n",
    "print(\"Sample variance of restaurant A:\", s_a_sq)\n",
    "print(\"Sample variance of restaurant B:\", s_b_sq)"
   ]
  },
  {
   "cell_type": "code",
   "execution_count": 9,
   "id": "5bb55bad",
   "metadata": {},
   "outputs": [
    {
     "name": "stdout",
     "output_type": "stream",
     "text": [
      "Fail to reject the null hypothesis.\n",
      "F-statistic: 1.5411764705882354\n",
      "Critical F-value: 6.977701858535566\n",
      "P-value: 0.6516707616190192\n"
     ]
    }
   ],
   "source": [
    "import scipy.stats as stats\n",
    "\n",
    "s1_sq = 10.48\n",
    "s2_sq = 6.8\n",
    "n1 = 7\n",
    "n2 = 6\n",
    "dfn = n1 - 1\n",
    "dfd = n2 - 1\n",
    "\n",
    "F = s1_sq / s2_sq\n",
    "critical_F = stats.f.ppf(0.975, dfn, dfd)\n",
    "p_value = 2 * (1 - stats.f.cdf(F, dfn, dfd))\n",
    "\n",
    "if F > critical_F:\n",
    "    print(\"Reject the null hypothesis.\")\n",
    "else:\n",
    "    print(\"Fail to reject the null hypothesis.\")\n",
    "\n",
    "print(\"F-statistic:\", F)\n",
    "print(\"Critical F-value:\", critical_F)\n",
    "print(\"P-value:\", p_value)"
   ]
  },
  {
   "cell_type": "markdown",
   "id": "68a9d17c",
   "metadata": {},
   "source": [
    "ans9"
   ]
  },
  {
   "cell_type": "code",
   "execution_count": 10,
   "id": "8114e9b3",
   "metadata": {},
   "outputs": [
    {
     "name": "stdout",
     "output_type": "stream",
     "text": [
      "Sample variance of group A: 19.76666666666667\n",
      "Sample variance of group B: 10.166666666666666\n"
     ]
    }
   ],
   "source": [
    "import numpy as np\n",
    "\n",
    "a = np.array([80, 85, 90, 92, 87, 83])\n",
    "b = np.array([75, 78, 82, 79, 81, 84])\n",
    "\n",
    "s_a_sq = np.var(a, ddof=1)\n",
    "s_b_sq = np.var(b, ddof=1)\n",
    "\n",
    "print(\"Sample variance of group A:\", s_a_sq)\n",
    "print(\"Sample variance of group B:\", s_b_sq)"
   ]
  },
  {
   "cell_type": "code",
   "execution_count": 11,
   "id": "4dd01d55",
   "metadata": {},
   "outputs": [
    {
     "name": "stdout",
     "output_type": "stream",
     "text": [
      "Fail to reject the null hypothesis.\n",
      "F-statistic: 2.5217391304347827\n",
      "Critical F-value: 14.939605459912224\n",
      "P-value: 0.3329639690377555\n"
     ]
    }
   ],
   "source": [
    "import scipy.stats as stats\n",
    "\n",
    "s1_sq = 23.2\n",
    "s2_sq = 9.2\n",
    "n1 = 6\n",
    "n2 = 6\n",
    "dfn = n1 - 1\n",
    "dfd = n2 - 1\n",
    "\n",
    "F = s1_sq / s2_sq\n",
    "critical_F = stats.f.ppf(0.995, dfn, dfd)\n",
    "p_value = 2 * (1 - stats.f.cdf(F, dfn, dfd))\n",
    "\n",
    "if F > critical_F:\n",
    "    print(\"Reject the null hypothesis.\")\n",
    "else:\n",
    "    print(\"Fail to reject the null hypothesis.\")\n",
    "\n",
    "print(\"F-statistic:\", F)\n",
    "print(\"Critical F-value:\", critical_F)\n",
    "print(\"P-value:\", p_value)"
   ]
  }
 ],
 "metadata": {
  "kernelspec": {
   "display_name": "Python 3 (ipykernel)",
   "language": "python",
   "name": "python3"
  },
  "language_info": {
   "codemirror_mode": {
    "name": "ipython",
    "version": 3
   },
   "file_extension": ".py",
   "mimetype": "text/x-python",
   "name": "python",
   "nbconvert_exporter": "python",
   "pygments_lexer": "ipython3",
   "version": "3.9.7"
  }
 },
 "nbformat": 4,
 "nbformat_minor": 5
}
