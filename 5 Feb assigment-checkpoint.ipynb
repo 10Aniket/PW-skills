{
 "cells": [
  {
   "cell_type": "markdown",
   "id": "e271026d",
   "metadata": {},
   "source": [
    "Ans1 : In object-oriented programming we use class and method a class is a blueprint or template for creating objects that encapsulate data and behavior. It defines the properties (attributes) and methods (functions) that an object of that class can have."
   ]
  },
  {
   "cell_type": "code",
   "execution_count": 1,
   "id": "48f76a8a",
   "metadata": {},
   "outputs": [],
   "source": [
    "class Car:\n",
    "    def __init__(self, make, model, year):\n",
    "        self.make = make\n",
    "        self.model = model\n",
    "        self.year = year\n"
   ]
  },
  {
   "cell_type": "code",
   "execution_count": 2,
   "id": "da117eb6",
   "metadata": {},
   "outputs": [],
   "source": [
    "car1 = Car('Mahindra','Thar',2016)"
   ]
  },
  {
   "cell_type": "code",
   "execution_count": 3,
   "id": "178345dc",
   "metadata": {},
   "outputs": [
    {
     "data": {
      "text/plain": [
       "'Thar'"
      ]
     },
     "execution_count": 3,
     "metadata": {},
     "output_type": "execute_result"
    }
   ],
   "source": [
    "car1.model"
   ]
  },
  {
   "cell_type": "markdown",
   "id": "9ab899e2",
   "metadata": {},
   "source": [
    "Ans2 : Inheritance, Polymorphism, Encapsulation and Abstraction"
   ]
  },
  {
   "cell_type": "markdown",
   "id": "a7b30aad",
   "metadata": {},
   "source": [
    "Ans3 : In object-oriented programming, the __init__ function is a special method that gets called when an object of\n",
    "       a class is created.It is used to initialize the attributes of the object to their initial values."
   ]
  },
  {
   "cell_type": "markdown",
   "id": "16d4e3cd",
   "metadata": {},
   "source": [
    "Ans4 : The self parameter is a reference to the current instance of the class,\n",
    "       and is used to access variables that belongs to the class."
   ]
  },
  {
   "cell_type": "markdown",
   "id": "7ad7afdb",
   "metadata": {},
   "source": [
    "Ans5 : there are four type of Inheritance in opps concept for example single inheritance, Multiple inheritance, \n",
    "       Multilevel inheritance, Hierarchical inheritance  "
   ]
  },
  {
   "cell_type": "code",
   "execution_count": 4,
   "id": "ccd333ef",
   "metadata": {},
   "outputs": [
    {
     "name": "stdout",
     "output_type": "stream",
     "text": [
      "Buddy Golden Retriever\n",
      "Woof!\n"
     ]
    }
   ],
   "source": [
    "#single inheritance\n",
    "class Animal:  #class1\n",
    "    def __init__(self, name, species):\n",
    "        self.name = name\n",
    "        self.species = species\n",
    "\n",
    "class Dog(Animal): #class2 but refer class1 \n",
    "    def bark(self):\n",
    "        print(\"Woof!\")\n",
    "\n",
    "dog1 = Dog(\"Buddy\", \"Golden Retriever\")\n",
    "print(dog1.name, dog1.species)\n",
    "dog1.bark()\n"
   ]
  },
  {
   "cell_type": "code",
   "execution_count": 5,
   "id": "cf6598dc",
   "metadata": {},
   "outputs": [
    {
     "name": "stdout",
     "output_type": "stream",
     "text": [
      "I can fly!\n",
      "I can swim!\n",
      "Quack!\n"
     ]
    }
   ],
   "source": [
    "#Multiple inheritance\n",
    "class Flyer: #class1\n",
    "    def fly(self):\n",
    "        print(\"I can fly!\")\n",
    "\n",
    "class Swimmer: #class2\n",
    "    def swim(self):\n",
    "        print(\"I can swim!\")\n",
    "\n",
    "class Duck(Flyer, Swimmer): #refer class1 and class2\n",
    "    def quack(self):\n",
    "        print(\"Quack!\")\n",
    "\n",
    "duck1 = Duck()\n",
    "duck1.fly()\n",
    "duck1.swim()\n",
    "duck1.quack()\n"
   ]
  },
  {
   "cell_type": "code",
   "execution_count": 6,
   "id": "68ca6fb4",
   "metadata": {},
   "outputs": [
    {
     "data": {
      "text/plain": [
       "'Buddy'"
      ]
     },
     "execution_count": 6,
     "metadata": {},
     "output_type": "execute_result"
    }
   ],
   "source": [
    "#multilevel inheritance\n",
    "class Animal: #class1\n",
    "    def __init__(self, name, species):\n",
    "        self.name = name\n",
    "        self.species = species\n",
    "\n",
    "class Mammal(Animal): #refer class1\n",
    "    def nurse(self):\n",
    "        print(\"I can nurse my young!\")\n",
    "\n",
    "class Dog(Mammal): #refer calss2\n",
    "    def bark(self):\n",
    "        print(\"Woof!\")\n",
    "\n",
    "dog1 = Dog(\"Buddy\", \"Golden Retriever\") #can acess @class Animal using @class Mammal & @class Dog\n",
    "dog1.name"
   ]
  }
 ],
 "metadata": {
  "kernelspec": {
   "display_name": "Python 3 (ipykernel)",
   "language": "python",
   "name": "python3"
  },
  "language_info": {
   "codemirror_mode": {
    "name": "ipython",
    "version": 3
   },
   "file_extension": ".py",
   "mimetype": "text/x-python",
   "name": "python",
   "nbconvert_exporter": "python",
   "pygments_lexer": "ipython3",
   "version": "3.9.7"
  }
 },
 "nbformat": 4,
 "nbformat_minor": 5
}
