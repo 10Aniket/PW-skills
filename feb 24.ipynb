{
 "cells": [
  {
   "cell_type": "markdown",
   "id": "89f1c574",
   "metadata": {},
   "source": [
    "Ans1"
   ]
  },
  {
   "cell_type": "code",
   "execution_count": 1,
   "id": "76b2774c",
   "metadata": {},
   "outputs": [],
   "source": [
    "import seaborn as sns\n",
    "import pandas as pd\n",
    "\n",
    "df = pd.DataFrame(sns.load_dataset('iris'))"
   ]
  },
  {
   "cell_type": "code",
   "execution_count": 2,
   "id": "5d5885c9",
   "metadata": {},
   "outputs": [
    {
     "data": {
      "text/html": [
       "<div>\n",
       "<style scoped>\n",
       "    .dataframe tbody tr th:only-of-type {\n",
       "        vertical-align: middle;\n",
       "    }\n",
       "\n",
       "    .dataframe tbody tr th {\n",
       "        vertical-align: top;\n",
       "    }\n",
       "\n",
       "    .dataframe thead th {\n",
       "        text-align: right;\n",
       "    }\n",
       "</style>\n",
       "<table border=\"1\" class=\"dataframe\">\n",
       "  <thead>\n",
       "    <tr style=\"text-align: right;\">\n",
       "      <th></th>\n",
       "      <th>sepal_length</th>\n",
       "      <th>sepal_width</th>\n",
       "      <th>petal_length</th>\n",
       "      <th>petal_width</th>\n",
       "      <th>species</th>\n",
       "    </tr>\n",
       "  </thead>\n",
       "  <tbody>\n",
       "    <tr>\n",
       "      <th>0</th>\n",
       "      <td>5.1</td>\n",
       "      <td>3.5</td>\n",
       "      <td>1.4</td>\n",
       "      <td>0.2</td>\n",
       "      <td>setosa</td>\n",
       "    </tr>\n",
       "    <tr>\n",
       "      <th>1</th>\n",
       "      <td>4.9</td>\n",
       "      <td>3.0</td>\n",
       "      <td>1.4</td>\n",
       "      <td>0.2</td>\n",
       "      <td>setosa</td>\n",
       "    </tr>\n",
       "    <tr>\n",
       "      <th>2</th>\n",
       "      <td>4.7</td>\n",
       "      <td>3.2</td>\n",
       "      <td>1.3</td>\n",
       "      <td>0.2</td>\n",
       "      <td>setosa</td>\n",
       "    </tr>\n",
       "    <tr>\n",
       "      <th>3</th>\n",
       "      <td>4.6</td>\n",
       "      <td>3.1</td>\n",
       "      <td>1.5</td>\n",
       "      <td>0.2</td>\n",
       "      <td>setosa</td>\n",
       "    </tr>\n",
       "    <tr>\n",
       "      <th>4</th>\n",
       "      <td>5.0</td>\n",
       "      <td>3.6</td>\n",
       "      <td>1.4</td>\n",
       "      <td>0.2</td>\n",
       "      <td>setosa</td>\n",
       "    </tr>\n",
       "  </tbody>\n",
       "</table>\n",
       "</div>"
      ],
      "text/plain": [
       "   sepal_length  sepal_width  petal_length  petal_width species\n",
       "0           5.1          3.5           1.4          0.2  setosa\n",
       "1           4.9          3.0           1.4          0.2  setosa\n",
       "2           4.7          3.2           1.3          0.2  setosa\n",
       "3           4.6          3.1           1.5          0.2  setosa\n",
       "4           5.0          3.6           1.4          0.2  setosa"
      ]
     },
     "execution_count": 2,
     "metadata": {},
     "output_type": "execute_result"
    }
   ],
   "source": [
    "df.head()"
   ]
  },
  {
   "cell_type": "code",
   "execution_count": 3,
   "id": "d7d085d1",
   "metadata": {},
   "outputs": [
    {
     "name": "stdout",
     "output_type": "stream",
     "text": [
      "(150, 5)\n",
      "***********************************\n",
      "    sepal_length  sepal_width  petal_length  petal_width     species\n",
      "63           6.1          2.9           4.7          1.4  versicolor\n",
      "***********************************\n",
      "       sepal_length  sepal_width  petal_length  petal_width\n",
      "count    150.000000   150.000000    150.000000   150.000000\n",
      "mean       5.843333     3.057333      3.758000     1.199333\n",
      "std        0.828066     0.435866      1.765298     0.762238\n",
      "min        4.300000     2.000000      1.000000     0.100000\n",
      "25%        5.100000     2.800000      1.600000     0.300000\n",
      "50%        5.800000     3.000000      4.350000     1.300000\n",
      "75%        6.400000     3.300000      5.100000     1.800000\n",
      "max        7.900000     4.400000      6.900000     2.500000\n",
      "***********************************\n",
      "<class 'pandas.core.frame.DataFrame'>\n",
      "RangeIndex: 150 entries, 0 to 149\n",
      "Data columns (total 5 columns):\n",
      " #   Column        Non-Null Count  Dtype  \n",
      "---  ------        --------------  -----  \n",
      " 0   sepal_length  150 non-null    float64\n",
      " 1   sepal_width   150 non-null    float64\n",
      " 2   petal_length  150 non-null    float64\n",
      " 3   petal_width   150 non-null    float64\n",
      " 4   species       150 non-null    object \n",
      "dtypes: float64(4), object(1)\n",
      "memory usage: 6.0+ KB\n",
      "None\n",
      "***********************************\n",
      "              sepal_length  sepal_width  petal_length  petal_width\n",
      "sepal_length      1.000000    -0.117570      0.871754     0.817941\n",
      "sepal_width      -0.117570     1.000000     -0.428440    -0.366126\n",
      "petal_length      0.871754    -0.428440      1.000000     0.962865\n",
      "petal_width       0.817941    -0.366126      0.962865     1.000000\n"
     ]
    }
   ],
   "source": [
    "print(df.shape)\n",
    "print(\"*\"*35)\n",
    "print(df.sample())\n",
    "print(\"*\"*35)\n",
    "print(df.describe())\n",
    "print(\"*\"*35)\n",
    "print(df.info())\n",
    "print(\"*\"*35)\n",
    "print(df.corr())"
   ]
  },
  {
   "cell_type": "markdown",
   "id": "c24238ec",
   "metadata": {},
   "source": [
    "Ans2"
   ]
  },
  {
   "cell_type": "code",
   "execution_count": 4,
   "id": "19282c32",
   "metadata": {},
   "outputs": [],
   "source": [
    "import numpy as np\n",
    "import pandas as pd\n",
    "\n",
    "def reindex_df(data):\n",
    "    # create a new index using numpy.arange() starting from 1 and incrementing by 2\n",
    "    new_index = np.arange(start=1, stop=2*len(df)+1, step=2)\n",
    "    # set the new index using set_index() method of the DataFrame\n",
    "    new_df = data.set_index(new_index)\n",
    "    return new_df\n",
    "\n",
    "new_df = reindex_df(df)"
   ]
  },
  {
   "cell_type": "markdown",
   "id": "010ef398",
   "metadata": {},
   "source": [
    "Ans3"
   ]
  },
  {
   "cell_type": "code",
   "execution_count": 5,
   "id": "4f1e2a21",
   "metadata": {},
   "outputs": [
    {
     "name": "stdout",
     "output_type": "stream",
     "text": [
      "The sum of the first three values sepal_length is: 14.7\n"
     ]
    }
   ],
   "source": [
    "def sum_first_three(data):\n",
    "    # initialize a variable to store the sum\n",
    "    total = 0\n",
    "    \n",
    "    # iterate over the first three rows of the DataFrame\n",
    "    for index, row in df.head(3).iterrows():\n",
    "        # add the value of the 'Values' column to the total\n",
    "        total += row['sepal_length']\n",
    "    \n",
    "    # print the total to the console\n",
    "    print('The sum of the first three values sepal_length is:', total)\n",
    "\n",
    "sum_first_three(df)"
   ]
  },
  {
   "cell_type": "markdown",
   "id": "46015291",
   "metadata": {},
   "source": [
    "Ans4"
   ]
  },
  {
   "cell_type": "code",
   "execution_count": 6,
   "id": "c1a0093a",
   "metadata": {},
   "outputs": [
    {
     "data": {
      "text/html": [
       "<div>\n",
       "<style scoped>\n",
       "    .dataframe tbody tr th:only-of-type {\n",
       "        vertical-align: middle;\n",
       "    }\n",
       "\n",
       "    .dataframe tbody tr th {\n",
       "        vertical-align: top;\n",
       "    }\n",
       "\n",
       "    .dataframe thead th {\n",
       "        text-align: right;\n",
       "    }\n",
       "</style>\n",
       "<table border=\"1\" class=\"dataframe\">\n",
       "  <thead>\n",
       "    <tr style=\"text-align: right;\">\n",
       "      <th></th>\n",
       "      <th>sepal_length</th>\n",
       "      <th>sepal_width</th>\n",
       "      <th>petal_length</th>\n",
       "      <th>petal_width</th>\n",
       "      <th>species</th>\n",
       "      <th>Word_Count</th>\n",
       "    </tr>\n",
       "  </thead>\n",
       "  <tbody>\n",
       "    <tr>\n",
       "      <th>0</th>\n",
       "      <td>5.1</td>\n",
       "      <td>3.5</td>\n",
       "      <td>1.4</td>\n",
       "      <td>0.2</td>\n",
       "      <td>setosa</td>\n",
       "      <td>1</td>\n",
       "    </tr>\n",
       "    <tr>\n",
       "      <th>1</th>\n",
       "      <td>4.9</td>\n",
       "      <td>3.0</td>\n",
       "      <td>1.4</td>\n",
       "      <td>0.2</td>\n",
       "      <td>setosa</td>\n",
       "      <td>1</td>\n",
       "    </tr>\n",
       "    <tr>\n",
       "      <th>2</th>\n",
       "      <td>4.7</td>\n",
       "      <td>3.2</td>\n",
       "      <td>1.3</td>\n",
       "      <td>0.2</td>\n",
       "      <td>setosa</td>\n",
       "      <td>1</td>\n",
       "    </tr>\n",
       "  </tbody>\n",
       "</table>\n",
       "</div>"
      ],
      "text/plain": [
       "   sepal_length  sepal_width  petal_length  petal_width species  Word_Count\n",
       "0           5.1          3.5           1.4          0.2  setosa           1\n",
       "1           4.9          3.0           1.4          0.2  setosa           1\n",
       "2           4.7          3.2           1.3          0.2  setosa           1"
      ]
     },
     "execution_count": 6,
     "metadata": {},
     "output_type": "execute_result"
    }
   ],
   "source": [
    "def add_word_count(data):\n",
    "    # create a lambda function that counts the number of words in a string\n",
    "    word_count = lambda x: len(x.split())\n",
    "    \n",
    "    # apply the lambda function to the 'Text' column using apply() method and assign the result to a new column 'Word_Count'\n",
    "    df['Word_Count'] = df['species'].apply(word_count)\n",
    "    \n",
    "    return df\n",
    "\n",
    "new_df = add_word_count(df)\n",
    "new_df.head(3)"
   ]
  },
  {
   "cell_type": "markdown",
   "id": "d0235ef8",
   "metadata": {},
   "source": [
    "Ans5"
   ]
  },
  {
   "cell_type": "markdown",
   "id": "b6b49fa4",
   "metadata": {},
   "source": [
    "DataFrame.size() returns the total number of elements in the DataFrame. That is,\n",
    "it returns the product of the number of rows and the number of columns in the DataFrame.\n",
    "\n",
    "DataFrame.shape() returns a tuple that contains the number of rows and the number of columns in the DataFrame. That is,\n",
    "it returns the dimensions of the DataFrame."
   ]
  },
  {
   "cell_type": "markdown",
   "id": "130ae1ca",
   "metadata": {},
   "source": [
    "Ans6"
   ]
  },
  {
   "cell_type": "markdown",
   "id": "95751a01",
   "metadata": {},
   "source": [
    "pd.read_excel(\"data.xlxs\")"
   ]
  },
  {
   "cell_type": "markdown",
   "id": "9a819400",
   "metadata": {},
   "source": [
    "Ans7"
   ]
  },
  {
   "cell_type": "code",
   "execution_count": 7,
   "id": "475ff25d",
   "metadata": {},
   "outputs": [],
   "source": [
    "import pandas as pd\n",
    "\n",
    "def extract_username(df):\n",
    "    # extract the username from each email address\n",
    "    usernames = df['Email'].str.split('@').str[0]\n",
    "\n",
    "    # create a new column 'Username' in df with the extracted usernames\n",
    "    df['Username'] = usernames\n",
    "\n",
    "    return df"
   ]
  },
  {
   "cell_type": "markdown",
   "id": "b4af1149",
   "metadata": {},
   "source": [
    "Ans8"
   ]
  },
  {
   "cell_type": "code",
   "execution_count": 8,
   "id": "16f0f73e",
   "metadata": {},
   "outputs": [],
   "source": [
    "import pandas as pd\n",
    "\n",
    "def select_rows(df):\n",
    "    # select the rows where A > 5 and B < 10\n",
    "    selected_rows = df[(df['A'] > 5) & (df['B'] < 10)]\n",
    "\n",
    "    # return the new DataFrame\n",
    "    return selected_rows\n"
   ]
  },
  {
   "cell_type": "markdown",
   "id": "7cabee03",
   "metadata": {},
   "source": [
    "Ans9"
   ]
  },
  {
   "cell_type": "code",
   "execution_count": 9,
   "id": "88e977e1",
   "metadata": {},
   "outputs": [],
   "source": [
    "import pandas as pd\n",
    "\n",
    "def calculate_stats(df):\n",
    "    # calculate the mean, median, and standard deviation of the 'Values' column\n",
    "    mean = df['Values'].mean()\n",
    "    median = df['Values'].median()\n",
    "    std_dev = df['Values'].std()\n",
    "\n",
    "    # print the results\n",
    "    print('Mean:', mean)\n",
    "    print('Median:', median)\n",
    "    print('Standard deviation:', std_dev)\n"
   ]
  },
  {
   "cell_type": "markdown",
   "id": "b47b22a5",
   "metadata": {},
   "source": [
    "Ans10"
   ]
  },
  {
   "cell_type": "code",
   "execution_count": 10,
   "id": "ead72c74",
   "metadata": {},
   "outputs": [],
   "source": [
    "import pandas as pd\n",
    "\n",
    "def add_moving_average(df):\n",
    "    # calculate the moving average of the 'Sales' column with a window of size 7\n",
    "    moving_average = df['Sales'].rolling(window=7, min_periods=1).mean()\n",
    "\n",
    "    # add the moving average to the DataFrame as a new column 'MovingAverage'\n",
    "    df['MovingAverage'] = moving_average\n",
    "\n",
    "    # return the updated DataFrame\n",
    "    return df\n"
   ]
  },
  {
   "cell_type": "markdown",
   "id": "62c5faf0",
   "metadata": {},
   "source": [
    "Ans11"
   ]
  },
  {
   "cell_type": "code",
   "execution_count": 11,
   "id": "d6b7f397",
   "metadata": {},
   "outputs": [],
   "source": [
    "import pandas as pd\n",
    "\n",
    "def add_weekday(df):\n",
    "    # convert the 'Date' column to a datetime format\n",
    "    df['Date'] = pd.to_datetime(df['Date'])\n",
    "\n",
    "    # extract the weekday name from the 'Date' column and add it to a new column 'Weekday'\n",
    "    df['Weekday'] = df['Date'].dt.strftime('%A')\n",
    "\n",
    "    # return the updated DataFrame\n",
    "    return df\n"
   ]
  },
  {
   "cell_type": "markdown",
   "id": "39f5fcf9",
   "metadata": {},
   "source": [
    "Ans12"
   ]
  },
  {
   "cell_type": "code",
   "execution_count": 12,
   "id": "b3f15d10",
   "metadata": {},
   "outputs": [],
   "source": [
    "import pandas as pd\n",
    "\n",
    "def select_january(df):\n",
    "    # convert the 'Date' column to a datetime format\n",
    "    df['Date'] = pd.to_datetime(df['Date'])\n",
    "\n",
    "    # select rows where the date is between '2023-01-01' and '2023-01-31'\n",
    "    mask = (df['Date'] >= '2023-01-01') & (df['Date'] <= '2023-01-31')\n",
    "    df = df.loc[mask]\n",
    "\n",
    "    # return the updated DataFrame\n",
    "    return df"
   ]
  },
  {
   "cell_type": "markdown",
   "id": "2c8a0bd9",
   "metadata": {},
   "source": [
    "Ans13"
   ]
  },
  {
   "cell_type": "code",
   "execution_count": 13,
   "id": "355584fd",
   "metadata": {},
   "outputs": [],
   "source": [
    "import numpy as np \n",
    "import pandas as pd\n",
    "import seaborn as sns \n",
    "import matplotlib.pyplot as plt"
   ]
  },
  {
   "cell_type": "code",
   "execution_count": null,
   "id": "44851f6d",
   "metadata": {},
   "outputs": [],
   "source": []
  },
  {
   "cell_type": "code",
   "execution_count": null,
   "id": "30aa850f",
   "metadata": {},
   "outputs": [],
   "source": []
  },
  {
   "cell_type": "code",
   "execution_count": null,
   "id": "2cd12bd2",
   "metadata": {},
   "outputs": [],
   "source": []
  },
  {
   "cell_type": "code",
   "execution_count": null,
   "id": "25ea142a",
   "metadata": {},
   "outputs": [],
   "source": []
  },
  {
   "cell_type": "code",
   "execution_count": null,
   "id": "9aba7cf4",
   "metadata": {},
   "outputs": [],
   "source": []
  },
  {
   "cell_type": "code",
   "execution_count": null,
   "id": "0b217a01",
   "metadata": {},
   "outputs": [],
   "source": []
  }
 ],
 "metadata": {
  "kernelspec": {
   "display_name": "Python 3 (ipykernel)",
   "language": "python",
   "name": "python3"
  },
  "language_info": {
   "codemirror_mode": {
    "name": "ipython",
    "version": 3
   },
   "file_extension": ".py",
   "mimetype": "text/x-python",
   "name": "python",
   "nbconvert_exporter": "python",
   "pygments_lexer": "ipython3",
   "version": "3.9.7"
  }
 },
 "nbformat": 4,
 "nbformat_minor": 5
}
