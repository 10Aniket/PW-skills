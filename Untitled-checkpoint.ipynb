{
 "cells": [
  {
   "cell_type": "markdown",
   "id": "f9e0df4c",
   "metadata": {},
   "source": [
    "ANS1 : Tuples are order collection of items,and tuples are immutable"
   ]
  },
  {
   "cell_type": "code",
   "execution_count": 1,
   "id": "da42a0d4",
   "metadata": {},
   "outputs": [
    {
     "ename": "AttributeError",
     "evalue": "'tuple' object has no attribute 'replace'",
     "output_type": "error",
     "traceback": [
      "\u001b[1;31m---------------------------------------------------------------------------\u001b[0m",
      "\u001b[1;31mAttributeError\u001b[0m                            Traceback (most recent call last)",
      "\u001b[1;32m~\\AppData\\Local\\Temp/ipykernel_1260/202601004.py\u001b[0m in \u001b[0;36m<cell line: 3>\u001b[1;34m()\u001b[0m\n\u001b[0;32m      1\u001b[0m \u001b[1;31m#for example\u001b[0m\u001b[1;33m\u001b[0m\u001b[1;33m\u001b[0m\u001b[0m\n\u001b[0;32m      2\u001b[0m \u001b[0ma\u001b[0m \u001b[1;33m=\u001b[0m \u001b[1;33m(\u001b[0m\u001b[1;36m14\u001b[0m\u001b[1;33m,\u001b[0m\u001b[1;36m96\u001b[0m\u001b[1;33m,\u001b[0m\u001b[1;36m7\u001b[0m\u001b[1;33m,\u001b[0m\u001b[1;34m\"afhj\"\u001b[0m\u001b[1;33m)\u001b[0m\u001b[1;33m\u001b[0m\u001b[1;33m\u001b[0m\u001b[0m\n\u001b[1;32m----> 3\u001b[1;33m \u001b[0ma\u001b[0m\u001b[1;33m.\u001b[0m\u001b[0mreplace\u001b[0m\u001b[1;33m(\u001b[0m\u001b[1;36m96\u001b[0m\u001b[1;33m,\u001b[0m\u001b[1;34m\"afhn\"\u001b[0m\u001b[1;33m)\u001b[0m\u001b[1;33m\u001b[0m\u001b[1;33m\u001b[0m\u001b[0m\n\u001b[0m",
      "\u001b[1;31mAttributeError\u001b[0m: 'tuple' object has no attribute 'replace'"
     ]
    }
   ],
   "source": [
    "#for example\n",
    "a = (14,96,7,\"afhj\")\n",
    "a.replace(96,\"afhn\")"
   ]
  },
  {
   "cell_type": "markdown",
   "id": "912d8526",
   "metadata": {},
   "source": [
    "ANS2 : because Tuples are immutable there are only two methods"
   ]
  },
  {
   "cell_type": "code",
   "execution_count": 2,
   "id": "3805d71e",
   "metadata": {},
   "outputs": [
    {
     "name": "stdout",
     "output_type": "stream",
     "text": [
      "1\n",
      "***************\n",
      "3\n"
     ]
    }
   ],
   "source": [
    "#for example\n",
    "print(a.count(7))\n",
    "print('*'*15)\n",
    "print(a.index(\"afhj\"))"
   ]
  },
  {
   "cell_type": "markdown",
   "id": "db157341",
   "metadata": {},
   "source": [
    "ANS3 : set don't allow the duplicates in the collection of items "
   ]
  },
  {
   "cell_type": "code",
   "execution_count": 3,
   "id": "c6b2c543",
   "metadata": {},
   "outputs": [],
   "source": [
    "List = [1,1,1,2,1,3,1,4,2,1,2,2,2,3,2,4,3,1,3,2,3,3,3,4,4,1,4,2,4,3,4,4]\n",
    "a = set(List)"
   ]
  },
  {
   "cell_type": "code",
   "execution_count": 4,
   "id": "41b9f380",
   "metadata": {},
   "outputs": [
    {
     "data": {
      "text/plain": [
       "{1, 2, 3, 4}"
      ]
     },
     "execution_count": 4,
     "metadata": {},
     "output_type": "execute_result"
    }
   ],
   "source": [
    "a"
   ]
  },
  {
   "cell_type": "markdown",
   "id": "5f211f97",
   "metadata": {},
   "source": [
    "Ans4 : update method updates the current set, by adding items from another set,\n",
    "    union() method returns a set that contains all items from the original set"
   ]
  },
  {
   "cell_type": "code",
   "execution_count": 5,
   "id": "e8e998ac",
   "metadata": {},
   "outputs": [],
   "source": [
    "Set = {4,6,7,8,9,4,2}\n",
    "y = {'apple','ball','cat'}"
   ]
  },
  {
   "cell_type": "code",
   "execution_count": 6,
   "id": "c14ba703",
   "metadata": {},
   "outputs": [
    {
     "name": "stdout",
     "output_type": "stream",
     "text": [
      "{2, 4, 6, 7, 8, 9, 'apple', 'ball', 'cat'}\n"
     ]
    }
   ],
   "source": [
    "Set.update(y)\n",
    "print(Set)"
   ]
  },
  {
   "cell_type": "code",
   "execution_count": 7,
   "id": "dbbbba8b",
   "metadata": {},
   "outputs": [
    {
     "data": {
      "text/plain": [
       "{2, 4, 6, 7, 8, 9, 'apple', 'ball', 'cat'}"
      ]
     },
     "execution_count": 7,
     "metadata": {},
     "output_type": "execute_result"
    }
   ],
   "source": [
    "Set.union(y)"
   ]
  },
  {
   "cell_type": "markdown",
   "id": "2b91a97c",
   "metadata": {},
   "source": [
    "Ans5 : Dictionary is unordered collection of items in keys and values pair"
   ]
  },
  {
   "cell_type": "code",
   "execution_count": 8,
   "id": "6403629e",
   "metadata": {},
   "outputs": [
    {
     "data": {
      "text/plain": [
       "{'pin_no.': [12, 56, 4, 5, 45]}"
      ]
     },
     "execution_count": 8,
     "metadata": {},
     "output_type": "execute_result"
    }
   ],
   "source": [
    "#for example\n",
    "dict_ =  {\"pin_no.\":[12,56,4,5,45,]}\n",
    "dict_"
   ]
  },
  {
   "cell_type": "markdown",
   "id": "1d3652a8",
   "metadata": {},
   "source": [
    "Ans6 : Yes we can create the nested dictionary"
   ]
  },
  {
   "cell_type": "code",
   "execution_count": 9,
   "id": "3d0c3b05",
   "metadata": {},
   "outputs": [],
   "source": [
    "Dict = {'dict1' : {'name': ['james','alan','mark']},\n",
    "        'dict2' : {'country': ['UK','US','COLAMBIA']}}"
   ]
  },
  {
   "cell_type": "markdown",
   "id": "2060a687",
   "metadata": {},
   "source": [
    "Ans7"
   ]
  },
  {
   "cell_type": "code",
   "execution_count": 10,
   "id": "bfc2d9a6",
   "metadata": {},
   "outputs": [
    {
     "name": "stdout",
     "output_type": "stream",
     "text": [
      "{'language': 'Python', 'course': 'Data Science Masters', 'topic': ['Python', 'Machine Learning', 'Deep Learning']}\n"
     ]
    }
   ],
   "source": [
    "dict1 = {'language':'Python','course':'Data Science Masters'}\n",
    "dict1.setdefault('topic',['Python','Machine Learning','Deep Learning'])\n",
    "print(dict1)"
   ]
  },
  {
   "cell_type": "markdown",
   "id": "0a01f4ea",
   "metadata": {},
   "source": [
    "Ans8 : keys(), values(), and items() are the three main view object in dictionary"
   ]
  },
  {
   "cell_type": "code",
   "execution_count": 11,
   "id": "641cae3d",
   "metadata": {},
   "outputs": [
    {
     "data": {
      "text/plain": [
       "dict_keys(['language', 'course', 'topic'])"
      ]
     },
     "execution_count": 11,
     "metadata": {},
     "output_type": "execute_result"
    }
   ],
   "source": [
    "#for example\n",
    "dict1.keys()"
   ]
  },
  {
   "cell_type": "code",
   "execution_count": 12,
   "id": "a304f211",
   "metadata": {},
   "outputs": [
    {
     "data": {
      "text/plain": [
       "dict_values(['Python', 'Data Science Masters', ['Python', 'Machine Learning', 'Deep Learning']])"
      ]
     },
     "execution_count": 12,
     "metadata": {},
     "output_type": "execute_result"
    }
   ],
   "source": [
    "dict1.values()"
   ]
  },
  {
   "cell_type": "code",
   "execution_count": 13,
   "id": "dcfde3da",
   "metadata": {},
   "outputs": [
    {
     "data": {
      "text/plain": [
       "dict_items([('language', 'Python'), ('course', 'Data Science Masters'), ('topic', ['Python', 'Machine Learning', 'Deep Learning'])])"
      ]
     },
     "execution_count": 13,
     "metadata": {},
     "output_type": "execute_result"
    }
   ],
   "source": [
    "dict1.items()"
   ]
  }
 ],
 "metadata": {
  "kernelspec": {
   "display_name": "Python 3 (ipykernel)",
   "language": "python",
   "name": "python3"
  },
  "language_info": {
   "codemirror_mode": {
    "name": "ipython",
    "version": 3
   },
   "file_extension": ".py",
   "mimetype": "text/x-python",
   "name": "python",
   "nbconvert_exporter": "python",
   "pygments_lexer": "ipython3",
   "version": "3.9.7"
  }
 },
 "nbformat": 4,
 "nbformat_minor": 5
}
