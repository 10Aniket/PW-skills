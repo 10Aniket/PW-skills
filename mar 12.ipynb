{
 "cells": [
  {
   "cell_type": "markdown",
   "id": "cc34e49f",
   "metadata": {},
   "source": [
    "ans1"
   ]
  },
  {
   "cell_type": "code",
   "execution_count": 1,
   "id": "d18bc3b9",
   "metadata": {},
   "outputs": [
    {
     "name": "stdout",
     "output_type": "stream",
     "text": [
      "The 95% confidence interval is (49.01, 50.99)\n"
     ]
    }
   ],
   "source": [
    "import scipy.stats as stats\n",
    "\n",
    "mean = 50\n",
    "std_dev = 5\n",
    "sample_size = 100\n",
    "confidence_level = 0.95\n",
    "\n",
    "# Calculate the standard error\n",
    "std_err = std_dev / (sample_size ** 0.5)\n",
    "\n",
    "# Calculate the margin of error\n",
    "margin_of_error = stats.t.ppf((1 + confidence_level) / 2, sample_size - 1) * std_err\n",
    "\n",
    "# Calculate the confidence interval\n",
    "lower_ci = mean - margin_of_error\n",
    "upper_ci = mean + margin_of_error\n",
    "\n",
    "print(f\"The 95% confidence interval is ({lower_ci:.2f}, {upper_ci:.2f})\")\n"
   ]
  },
  {
   "cell_type": "markdown",
   "id": "6b25bee1",
   "metadata": {},
   "source": [
    "ans2"
   ]
  },
  {
   "cell_type": "markdown",
   "id": "44204edd",
   "metadata": {},
   "source": [
    "import numpy as np\n",
    "from scipy.stats import chisquare\n",
    "\n",
    "### Set the observed frequencies of each color\n",
    "observed = np.array([15, 20, 18, 8, 10, 19])\n",
    "\n",
    "### Set the expected frequencies of each color\n",
    "expected = np.array([0.2, 0.2, 0.2, 0.1, 0.1, 0.2]) * len(observed)\n",
    "\n",
    "### Perform the chi-square test\n",
    "chi2_stat, p_value = chisquare(observed, expected)\n",
    "\n",
    "### Set the significance level\n",
    "alpha = 0.05\n",
    "\n",
    "### Print the results\n",
    "print(f\"Chi-square statistic: {chi2_stat:.2f}\")\n",
    "print(f\"P-value: {p_value:.2f}\")\n",
    "\n",
    "if p_value < alpha:\n",
    "    print(\"The distribution of colors in the bag is significantly different from the expected distribution.\")\n",
    "else:\n",
    "    print(\"The distribution of colors in the bag is not significantly different from the expected distribution.\")"
   ]
  },
  {
   "cell_type": "markdown",
   "id": "ee8dbc8e",
   "metadata": {},
   "source": [
    "ans3"
   ]
  },
  {
   "cell_type": "code",
   "execution_count": 2,
   "id": "900b57e6",
   "metadata": {},
   "outputs": [
    {
     "name": "stdout",
     "output_type": "stream",
     "text": [
      "Chi-square statistic: 5.83\n",
      "P-value: 0.05\n"
     ]
    }
   ],
   "source": [
    "import numpy as np\n",
    "from scipy.stats import chi2_contingency\n",
    "\n",
    "# Set up the contingency table\n",
    "table = np.array([[20, 15], [10, 25], [15, 20]])\n",
    "\n",
    "# Perform the chi-square test\n",
    "chi2_stat, p_value, dof, expected = chi2_contingency(table)\n",
    "\n",
    "# Print the results\n",
    "print(f\"Chi-square statistic: {chi2_stat:.2f}\")\n",
    "print(f\"P-value: {p_value:.2f}\")"
   ]
  },
  {
   "cell_type": "markdown",
   "id": "fe06872b",
   "metadata": {},
   "source": [
    "ans4"
   ]
  },
  {
   "cell_type": "code",
   "execution_count": 3,
   "id": "32c68fa9",
   "metadata": {},
   "outputs": [
    {
     "name": "stdout",
     "output_type": "stream",
     "text": [
      "Sample proportion: 0.120\n",
      "95% confidence interval: (0.09151638887130706, 0.14848361112869293)\n"
     ]
    }
   ],
   "source": [
    "from statsmodels.stats.proportion import proportion_confint\n",
    "\n",
    "n = 500\n",
    "x = 60\n",
    "\n",
    "p = x / n\n",
    "conf_int = proportion_confint(x, n, alpha=0.05)\n",
    "\n",
    "# Print the results\n",
    "print(f\"Sample proportion: {p:.3f}\")\n",
    "print(f\"95% confidence interval: {conf_int}\")\n"
   ]
  },
  {
   "cell_type": "markdown",
   "id": "fbe052d5",
   "metadata": {},
   "source": [
    "ans5"
   ]
  },
  {
   "cell_type": "code",
   "execution_count": 4,
   "id": "2734177a",
   "metadata": {},
   "outputs": [
    {
     "name": "stdout",
     "output_type": "stream",
     "text": [
      "Sample mean: 75.00\n",
      "Sample standard deviation: 12.00\n",
      "Sample size: 100\n",
      "90% confidence interval: (73.01, 76.99)\n"
     ]
    }
   ],
   "source": [
    "import numpy as np\n",
    "from scipy.stats import t\n",
    "\n",
    "# Set the sample mean, standard deviation, and sample size\n",
    "mean = 75\n",
    "std = 12\n",
    "n = 100\n",
    "sem = std / np.sqrt(n)\n",
    "t_val = t.ppf(0.95, n-1)\n",
    "\n",
    "# Calculate the confidence interval for the true population mean\n",
    "lower = mean - t_val * sem\n",
    "upper = mean + t_val * sem\n",
    "\n",
    "# Print the results\n",
    "print(f\"Sample mean: {mean:.2f}\")\n",
    "print(f\"Sample standard deviation: {std:.2f}\")\n",
    "print(f\"Sample size: {n}\")\n",
    "print(f\"90% confidence interval: ({lower:.2f}, {upper:.2f})\")\n"
   ]
  },
  {
   "cell_type": "markdown",
   "id": "14c59d5f",
   "metadata": {},
   "source": [
    "ans6"
   ]
  },
  {
   "cell_type": "code",
   "execution_count": 5,
   "id": "17456f3f",
   "metadata": {},
   "outputs": [
    {
     "data": {
      "image/png": "[encoded data removed]",
      "text/plain": [
       "<Figure size 432x288 with 1 Axes>"
      ]
     },
     "metadata": {
      "needs_background": "light"
     },
     "output_type": "display_data"
    }
   ],
   "source": [
    "import numpy as np\n",
    "from scipy.stats import chi2\n",
    "import matplotlib.pyplot as plt\n",
    "\n",
    "# Set the degrees of freedom\n",
    "df = 10\n",
    "\n",
    "# Create an array of x-values from 0 to 30\n",
    "x = np.linspace(0, 30, 500)\n",
    "\n",
    "# Create a chi-square distribution with df degrees of freedom\n",
    "chi2_dist = chi2(df)\n",
    "\n",
    "# Calculate the probability density function (pdf) for the distribution\n",
    "pdf = chi2_dist.pdf(x)\n",
    "\n",
    "# Plot the pdf\n",
    "fig, ax = plt.subplots()\n",
    "ax.plot(x, pdf, label='Chi-Square PDF')\n",
    "\n",
    "# Shade the area under the curve from 0 to 15\n",
    "ax.fill_between(x[x<=15], pdf[x<=15], alpha=0.5)\n",
    "\n",
    "# Label the axes\n",
    "ax.set_xlabel('Chi-Square Statistic')\n",
    "ax.set_ylabel('Probability Density')\n",
    "\n",
    "# Show the plot\n",
    "plt.show()"
   ]
  },
  {
   "cell_type": "markdown",
   "id": "8690b655",
   "metadata": {},
   "source": [
    "ans7"
   ]
  },
  {
   "cell_type": "code",
   "execution_count": 6,
   "id": "d36b8ec6",
   "metadata": {},
   "outputs": [
    {
     "name": "stdout",
     "output_type": "stream",
     "text": [
      "99% Confidence Interval: (0.4793, 0.5607)\n"
     ]
    }
   ],
   "source": [
    "import math\n",
    "\n",
    "# Set the sample proportion, sample size, and desired confidence level\n",
    "p_hat = 520/1000\n",
    "n = 1000\n",
    "z = 2.576\n",
    "\n",
    "# Calculate the standard error\n",
    "se = math.sqrt(p_hat*(1-p_hat)/n)\n",
    "\n",
    "# Calculate the confidence interval\n",
    "lower = p_hat - z*se\n",
    "upper = p_hat + z*se\n",
    "\n",
    "# Print the results\n",
    "print(\"99% Confidence Interval: ({:.4f}, {:.4f})\".format(lower, upper))"
   ]
  },
  {
   "cell_type": "markdown",
   "id": "aaca8878",
   "metadata": {},
   "source": [
    "ans8"
   ]
  },
  {
   "cell_type": "code",
   "execution_count": 7,
   "id": "903b1fdb",
   "metadata": {},
   "outputs": [
    {
     "name": "stdout",
     "output_type": "stream",
     "text": [
      "Chi-square test statistic: 1.0\n",
      "p-value: 0.31731050786291115\n",
      "Fail to reject null hypothesis. There is not enough evidence to support a bias towards tails.\n"
     ]
    }
   ],
   "source": [
    "import scipy.stats as stats\n",
    "\n",
    "# Set the observed frequencies\n",
    "observed = [45, 55]\n",
    "\n",
    "# Set the expected frequencies\n",
    "expected = [50, 50]\n",
    "\n",
    "# Calculate the chi-square test statistic and p-value\n",
    "chi2_stat, p_value = stats.chisquare(observed, expected)\n",
    "\n",
    "# Print the results\n",
    "print(\"Chi-square test statistic:\", chi2_stat)\n",
    "print(\"p-value:\", p_value)\n",
    "\n",
    "# Compare the p-value to the significance level\n",
    "alpha = 0.05\n",
    "if p_value < alpha:\n",
    "    print(\"Reject null hypothesis. There is evidence of a bias towards tails.\")\n",
    "else:\n",
    "    print(\"Fail to reject null hypothesis. There is not enough evidence to support a bias towards tails.\")"
   ]
  },
  {
   "cell_type": "markdown",
   "id": "9b536b82",
   "metadata": {},
   "source": [
    "ans9"
   ]
  },
  {
   "cell_type": "code",
   "execution_count": 8,
   "id": "ecd7185f",
   "metadata": {},
   "outputs": [
    {
     "name": "stdout",
     "output_type": "stream",
     "text": [
      "Chi-square statistic: 12.057347670250895\n",
      "P-value: 0.0005158863863703744\n"
     ]
    }
   ],
   "source": [
    "from scipy.stats import chi2_contingency\n",
    "\n",
    "observed = [[60, 140], [30, 170]]\n",
    "chi2, p, dof, expected = chi2_contingency(observed)\n",
    "\n",
    "print(\"Chi-square statistic:\", chi2)\n",
    "print(\"P-value:\", p)"
   ]
  },
  {
   "cell_type": "markdown",
   "id": "2d7d3acb",
   "metadata": {},
   "source": [
    "ans10"
   ]
  },
  {
   "cell_type": "code",
   "execution_count": 9,
   "id": "3a3e580c",
   "metadata": {},
   "outputs": [
    {
     "name": "stdout",
     "output_type": "stream",
     "text": [
      "Chi-square statistic: 13.393665158371041\n",
      "P-value: 0.0012348168997745918\n"
     ]
    }
   ],
   "source": [
    "from scipy.stats import chi2_contingency\n",
    "\n",
    "observed = [[200, 150, 150], [225, 175, 100]]\n",
    "chi2, p, dof, expected = chi2_contingency(observed)\n",
    "\n",
    "print(\"Chi-square statistic:\", chi2)\n",
    "print(\"P-value:\", p)"
   ]
  },
  {
   "cell_type": "markdown",
   "id": "33d0b008",
   "metadata": {},
   "source": [
    "ans11"
   ]
  },
  {
   "cell_type": "code",
   "execution_count": 10,
   "id": "afb499a6",
   "metadata": {},
   "outputs": [
    {
     "name": "stdout",
     "output_type": "stream",
     "text": [
      "t-statistic: 1.0954451150103321\n",
      "p-value: 0.28233623728606977\n"
     ]
    }
   ],
   "source": [
    "import math\n",
    "from scipy.stats import t\n",
    "\n",
    "sample_mean = 72\n",
    "sample_std = 10\n",
    "sample_size = 30\n",
    "pop_mean = 70\n",
    "significance_level = 0.05\n",
    "\n",
    "t_stat = (sample_mean - pop_mean) / (sample_std / math.sqrt(sample_size))\n",
    "degrees_of_freedom = sample_size - 1\n",
    "\n",
    "p_val = t.sf(abs(t_stat), degrees_of_freedom) * 2\n",
    "\n",
    "print(\"t-statistic:\", t_stat)\n",
    "print(\"p-value:\", p_val)"
   ]
  }
 ],
 "metadata": {
  "kernelspec": {
   "display_name": "Python 3 (ipykernel)",
   "language": "python",
   "name": "python3"
  },
  "language_info": {
   "codemirror_mode": {
    "name": "ipython",
    "version": 3
   },
   "file_extension": ".py",
   "mimetype": "text/x-python",
   "name": "python",
   "nbconvert_exporter": "python",
   "pygments_lexer": "ipython3",
   "version": "3.9.7"
  }
 },
 "nbformat": 4,
 "nbformat_minor": 5
}
