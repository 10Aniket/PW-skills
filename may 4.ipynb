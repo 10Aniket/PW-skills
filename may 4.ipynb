{
 "cells": [
  {
   "cell_type": "markdown",
   "id": "06431faf",
   "metadata": {},
   "source": [
    "ans1"
   ]
  },
  {
   "cell_type": "markdown",
   "id": "4990b744",
   "metadata": {},
   "source": [
    "Time series analysis is used for non-stationary data—things that are constantly fluctuating over time or are affected by time. Industries like finance, retail, and economics frequently use time series analysis because currency and sales are always changing"
   ]
  },
  {
   "cell_type": "markdown",
   "id": "f6737b38",
   "metadata": {},
   "source": [
    "ans2"
   ]
  },
  {
   "cell_type": "markdown",
   "id": "0c28d539",
   "metadata": {},
   "source": [
    "Time series analysis is used for non-stationary data—things that are constantly fluctuating over time or are affected by time. Industries like finance, retail, and economics frequently use time series analysis because currency and sales are always changing"
   ]
  },
  {
   "cell_type": "markdown",
   "id": "949fc3dc",
   "metadata": {},
   "source": [
    "ans3"
   ]
  },
  {
   "cell_type": "markdown",
   "id": "879431b7",
   "metadata": {},
   "source": [
    "Handling Missing Values: Check for missing values in the time series data and decide on an appropriate strategy to handle them. This may involve imputing missing values using techniques such as interpolation, forward filling, or backward filling.\n",
    "\n",
    "Resampling: If the time series data has irregular time intervals or high-frequency data, it may be necessary to resample the data to a lower frequency or regular time intervals. This can be done by aggregating the data over specific time periods, such as hourly, daily, or monthly intervals.\n",
    "\n",
    "Data Transformation: Apply transformations to stabilize variance or normalize the data if needed. Common transformations include logarithmic transformation, Box-Cox transformation, or min-max scaling.\n",
    "\n",
    "Detrending: Remove any underlying trends in the data that can skew the analysis results. This can be done by subtracting a moving average, applying differencing, or using more advanced techniques like polynomial fitting or seasonal decomposition.\n",
    "\n",
    "Handling Outliers: Identify and handle outliers in the time series data. Outliers can be detected using statistical methods such as z-score, percentile-based approaches, or machine learning algorithms. Depending on the nature of the outliers, they can be removed, replaced with imputed values, or treated separately during the analysis.\n",
    "\n",
    "Normalization: Normalize the time series data to a common scale if necessary. This ensures that different variables or time series can be compared and analyzed on the same scale. Common normalization techniques include z-score normalization or min-max scaling.\n",
    "\n",
    "Feature Engineering: Create additional features or variables that may enhance the analysis. This can include adding lagged variables, creating moving averages, or extracting relevant time-based features such as day of the week, month, or season.\n",
    "\n",
    "Handling Seasonality: If the time series exhibits seasonality, methods like seasonal decomposition can be applied to separate the seasonal component from the trend and residual components. This helps in understanding and analyzing the data at different time scales.\n",
    "\n",
    "These preprocessing steps help in cleaning, transforming, and organizing the time series data for effective analysis. The specific steps may vary depending on the characteristics of the data and the analysis techniques being used. The goal is to ensure that the data is in a suitable format and condition for accurate and meaningful analysis"
   ]
  },
  {
   "cell_type": "markdown",
   "id": "5d0b94ac",
   "metadata": {},
   "source": [
    "ans4"
   ]
  },
  {
   "cell_type": "markdown",
   "id": "ec5e2230",
   "metadata": {},
   "source": [
    "Time series analysis helps organizations understand the underlying causes of trends or systemic patterns over time. Using data visualizations, business users can see seasonal trends and dig deeper into why these trends occur. With modern analytics platforms, these visualizations can go far beyond line graphs."
   ]
  },
  {
   "cell_type": "markdown",
   "id": "892b6c9a",
   "metadata": {},
   "source": [
    "ans5"
   ]
  },
  {
   "cell_type": "markdown",
   "id": "a6f6669f",
   "metadata": {},
   "source": [
    "An autoregressive integrated moving average, or ARIMA, is a statistical analysis model that uses time series data to either better understand the data set or to predict future trends. A statistical model is autoregressive if it predicts future values based on past values."
   ]
  },
  {
   "cell_type": "markdown",
   "id": "18b6d220",
   "metadata": {},
   "source": [
    "ans6"
   ]
  },
  {
   "cell_type": "markdown",
   "id": "61854a3f",
   "metadata": {},
   "source": [
    "ACF: Significant correlations at lag 0 or at a few lags indicate the need for a MA term.\n",
    "PACF: Significant correlations at a specific lag and insignificant correlations at other lags suggest the need for an AR term."
   ]
  },
  {
   "cell_type": "markdown",
   "id": "4cb166bb",
   "metadata": {},
   "source": [
    "ans7"
   ]
  },
  {
   "cell_type": "markdown",
   "id": "95790ee1",
   "metadata": {},
   "source": [
    "Stationarity: ARIMA models assume that the time series is stationary, meaning that the statistical properties (mean, variance, autocorrelation) of the series do not change over time. Stationarity can be assessed through visual inspection of the time series plot and by conducting statistical tests such as the Augmented Dickey-Fuller (ADF) test or the Kwiatkowski-Phillips-Schmidt-Shin (KPSS) test. If the series is non-stationary, differencing can be applied to achieve stationarity.\n",
    "\n",
    "Linearity: ARIMA models assume a linear relationship between the observed values and the lagged values. This assumption can be evaluated by examining the residuals of the ARIMA model. Residual plots should not exhibit any systematic patterns or trends, indicating that the linear relationship assumption holds.\n",
    "\n",
    "Independence: ARIMA models assume that the residuals or errors are independent and identically distributed (i.i.d.). The independence assumption can be evaluated by examining the autocorrelation of the residuals. The ACF plot of the residuals should not exhibit significant autocorrelation at any lag.\n",
    "\n",
    "Normality: ARIMA models assume that the residuals follow a normal distribution. This assumption can be tested by visual inspection of the histogram of the residuals or using statistical tests such as the Shapiro-Wilk test or the Kolmogorov-Smirnov test. Deviations from normality may indicate the presence of outliers or other distributional issues."
   ]
  },
  {
   "cell_type": "markdown",
   "id": "c01e20fc",
   "metadata": {},
   "source": [
    "ans8"
   ]
  },
  {
   "cell_type": "markdown",
   "id": "e1e77818",
   "metadata": {},
   "source": [
    "Trend and Seasonality: ARIMA models are capable of capturing both trend and seasonality patterns in the data, which are often present in sales data. By including appropriate orders of the AR (AutoRegressive) and MA (Moving Average) components, along with differencing to handle non-stationarity, ARIMA models can effectively model and forecast trends and seasonal fluctuations.\n",
    "\n",
    "Flexibility: ARIMA models offer flexibility in handling different types of time series data. They can accommodate both stationary and non-stationary series, making them suitable for a wide range of scenarios. By adjusting the orders (p, d, q) of the ARIMA model, it can be tailored to capture the specific characteristics of the sales data.\n",
    "\n",
    "Interpretability: ARIMA models provide interpretable parameters that can offer insights into the underlying dynamics of the sales data. The coefficients of the AR and MA terms can indicate the strength and nature of the relationships between past observations and the current forecast.\n",
    "\n",
    "Availability of Historical Data: ARIMA models perform well when there is a sufficient amount of historical data available. With three years of monthly sales data, there is a reasonable amount of information to estimate the model parameters accurately and make reliable forecasts."
   ]
  },
  {
   "cell_type": "markdown",
   "id": "58266246",
   "metadata": {},
   "source": [
    "ans9"
   ]
  },
  {
   "cell_type": "markdown",
   "id": "314e1d1b",
   "metadata": {},
   "source": [
    "Assumption of Stationarity: Time series analysis often assumes that the underlying data is stationary, meaning that the statistical properties do not change over time. However, real-world data may exhibit non-stationarity, such as trends, seasonality, or structural breaks. Failing to address non-stationarity can lead to inaccurate forecasts or misleading interpretations.\n",
    "\n",
    "Limited Impact of External Factors: Time series analysis primarily focuses on capturing patterns and dependencies within the time series itself. It may not fully account for external factors that can influence the data, such as economic conditions, policy changes, or sudden events. Neglecting these external factors can result in incomplete or biased forecasts.\n",
    "\n",
    "Sensitivity to Outliers and Anomalies: Time series models can be sensitive to outliers or anomalies, which are observations that deviate significantly from the overall pattern. Outliers can distort the model's estimation and affect the accuracy of forecasts. Detecting and appropriately handling outliers is essential for robust time series analysis.\n",
    "\n",
    "Dependence on Historical Data: Time series analysis heavily relies on historical data to make forecasts. This means that the accuracy of predictions is directly influenced by the quality and relevance of past observations. In situations where historical patterns may not accurately reflect future behavior, such as during major market disruptions or sudden shifts in consumer preferences, time series analysis may struggle to provide reliable forecasts."
   ]
  },
  {
   "cell_type": "markdown",
   "id": "b236abdd",
   "metadata": {},
   "source": [
    "ans10"
   ]
  },
  {
   "cell_type": "markdown",
   "id": "466a997c",
   "metadata": {},
   "source": [
    "Stationary Time Series: If a time series is stationary, it implies that the statistical properties remain consistent, and the data is relatively predictable. In such cases, traditional forecasting models like ARIMA (AutoRegressive Integrated Moving Average) can be used effectively. ARIMA models capture the autocorrelation and seasonality patterns in stationary data and provide accurate forecasts. Other models like exponential smoothing methods can also be appropriate for stationary time series.\n",
    "\n",
    "Non-Stationary Time Series: When a time series exhibits non-stationarity, it means the statistical properties change over time, making it more challenging to model and forecast accurately. In these cases, it is important to transform the data to achieve stationarity before applying forecasting models. Common transformations include differencing to remove trends or seasonal components, or applying logarithmic or power transformations to stabilize variance. Once stationarity is achieved, models like ARIMA or seasonal ARIMA (SARIMA) can be applied."
   ]
  },
  {
   "cell_type": "code",
   "execution_count": null,
   "id": "2ef6cc2f",
   "metadata": {},
   "outputs": [],
   "source": []
  },
  {
   "cell_type": "code",
   "execution_count": null,
   "id": "bac3820d",
   "metadata": {},
   "outputs": [],
   "source": []
  },
  {
   "cell_type": "code",
   "execution_count": null,
   "id": "4efc45d6",
   "metadata": {},
   "outputs": [],
   "source": []
  }
 ],
 "metadata": {
  "kernelspec": {
   "display_name": "Python 3 (ipykernel)",
   "language": "python",
   "name": "python3"
  },
  "language_info": {
   "codemirror_mode": {
    "name": "ipython",
    "version": 3
   },
   "file_extension": ".py",
   "mimetype": "text/x-python",
   "name": "python",
   "nbconvert_exporter": "python",
   "pygments_lexer": "ipython3",
   "version": "3.9.7"
  }
 },
 "nbformat": 4,
 "nbformat_minor": 5
}
