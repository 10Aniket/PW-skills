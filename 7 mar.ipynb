{
 "cells": [
  {
   "cell_type": "markdown",
   "id": "49eaf3e3",
   "metadata": {},
   "source": [
    "Ans1"
   ]
  },
  {
   "cell_type": "markdown",
   "id": "ae2c3e18",
   "metadata": {},
   "source": [
    "measure of central tendency focus on center of the data like mean , median and mode"
   ]
  },
  {
   "cell_type": "markdown",
   "id": "de2a1a97",
   "metadata": {},
   "source": [
    "Ans2"
   ]
  },
  {
   "cell_type": "markdown",
   "id": "33ac30d5",
   "metadata": {},
   "source": [
    "mean : mean is the average of the data\n",
    "median : median is 50 percentile of data\n",
    "mode : mode is the most frequent number occurs in dataset"
   ]
  },
  {
   "cell_type": "markdown",
   "id": "afafc402",
   "metadata": {},
   "source": [
    "Ans3"
   ]
  },
  {
   "cell_type": "code",
   "execution_count": 3,
   "id": "1273e47a",
   "metadata": {},
   "outputs": [
    {
     "name": "stdout",
     "output_type": "stream",
     "text": [
      "mean : 177.01875\n",
      "median : 177.0\n",
      "mode : 177\n"
     ]
    }
   ],
   "source": [
    "import numpy as np\n",
    "num =  [178,177,176,177,178.2,178,175,179,180,175,178.9,176.2,177,172.5,178,176.5]\n",
    "print(f\"mean : {np.mean(num)}\")\n",
    "print(f\"median : {np.median(num)}\")\n",
    "print(f\"mode : {177}\")"
   ]
  },
  {
   "cell_type": "markdown",
   "id": "248f0292",
   "metadata": {},
   "source": [
    "Ans4"
   ]
  },
  {
   "cell_type": "code",
   "execution_count": 4,
   "id": "4df78dbf",
   "metadata": {},
   "outputs": [
    {
     "name": "stdout",
     "output_type": "stream",
     "text": [
      "std : 1.7885814036548633\n"
     ]
    }
   ],
   "source": [
    "print(f\"std : {np.std(num)}\")"
   ]
  },
  {
   "cell_type": "markdown",
   "id": "48fdc727",
   "metadata": {},
   "source": [
    "Ans6"
   ]
  },
  {
   "cell_type": "markdown",
   "id": "d48d5bf0",
   "metadata": {},
   "source": [
    "A Venn diagram is used to visually represent the differences and the similarities between two concepts."
   ]
  },
  {
   "cell_type": "markdown",
   "id": "7f34e76c",
   "metadata": {},
   "source": [
    "Ans7"
   ]
  },
  {
   "cell_type": "markdown",
   "id": "968369fe",
   "metadata": {},
   "source": [
    "A u B = (2,6)\n",
    "A n B = (0,2,3,4,5,6,7,8,10)"
   ]
  },
  {
   "cell_type": "markdown",
   "id": "2a95b370",
   "metadata": {},
   "source": [
    "Ans8"
   ]
  },
  {
   "cell_type": "markdown",
   "id": "3f3ad353",
   "metadata": {},
   "source": [
    "by understand the skewness in the data means data is not distributed normally and it has outliers "
   ]
  },
  {
   "cell_type": "markdown",
   "id": "46155b92",
   "metadata": {},
   "source": [
    "Ans9"
   ]
  },
  {
   "cell_type": "markdown",
   "id": "37fb4562",
   "metadata": {},
   "source": [
    "If the distribution of data is skewed to the right, the mode is often less than the median, which is less than the mean"
   ]
  },
  {
   "cell_type": "markdown",
   "id": "5b4393fc",
   "metadata": {},
   "source": [
    "Ans10"
   ]
  },
  {
   "cell_type": "markdown",
   "id": "814250c8",
   "metadata": {},
   "source": [
    "Covariance and correlation are two statistical measures that describe the relationship between two variables.\n",
    "While they are related concepts, there are some important differences between them."
   ]
  },
  {
   "cell_type": "markdown",
   "id": "2ebe0a52",
   "metadata": {},
   "source": [
    "Ans11"
   ]
  },
  {
   "cell_type": "markdown",
   "id": "ed31d5be",
   "metadata": {},
   "source": [
    "3, 5, 7, 9, 11\n",
    "\n",
    "3 + 5 + 7 + 9 + 11 = 35\n",
    "\n",
    "Then, we divide the sum by the sample size:\n",
    "\n",
    "$\\bar{x} = \\frac{35}{5} = 7$\n",
    "\n",
    "Therefore, the sample mean of this dataset is 7."
   ]
  },
  {
   "cell_type": "markdown",
   "id": "f0dbbdd5",
   "metadata": {},
   "source": [
    "Ans12"
   ]
  },
  {
   "cell_type": "markdown",
   "id": "3b136fc4",
   "metadata": {},
   "source": [
    "For a normal distribution, the measures of central tendency, namely mean, median, and mode, are equal.\n",
    "This is due to the symmetric nature of the normal distribution, where the data is equally distributed around the central point. \n",
    "The mean is the arithmetic average of the dataset, the median is the middle value when the data is sorted, and the mode is \n",
    "the most frequent value in the dataset. In a normal distribution, the mean, median, and mode will all be located at \n",
    "the center of the distribution."
   ]
  },
  {
   "cell_type": "markdown",
   "id": "6ae93f8c",
   "metadata": {},
   "source": [
    "Ans13"
   ]
  },
  {
   "cell_type": "markdown",
   "id": "a4a0d019",
   "metadata": {},
   "source": [
    "Covariance is an indicator of the extent to which 2 random variables are dependent on each other.\n",
    "A higher number denotes higher dependency. Correlation is a statistical measure that indicates how strongly two variables are\n",
    "related."
   ]
  },
  {
   "cell_type": "markdown",
   "id": "2e21b6cf",
   "metadata": {},
   "source": [
    "Ans14"
   ]
  },
  {
   "cell_type": "code",
   "execution_count": null,
   "id": "0d192742",
   "metadata": {},
   "outputs": [],
   "source": []
  }
 ],
 "metadata": {
  "kernelspec": {
   "display_name": "Python 3 (ipykernel)",
   "language": "python",
   "name": "python3"
  },
  "language_info": {
   "codemirror_mode": {
    "name": "ipython",
    "version": 3
   },
   "file_extension": ".py",
   "mimetype": "text/x-python",
   "name": "python",
   "nbconvert_exporter": "python",
   "pygments_lexer": "ipython3",
   "version": "3.9.7"
  }
 },
 "nbformat": 4,
 "nbformat_minor": 5
}
