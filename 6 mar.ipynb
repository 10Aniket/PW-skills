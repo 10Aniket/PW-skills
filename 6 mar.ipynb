{
 "cells": [
  {
   "cell_type": "markdown",
   "id": "6d11e967",
   "metadata": {},
   "source": [
    "Ans1"
   ]
  },
  {
   "cell_type": "markdown",
   "id": "8e1bd164",
   "metadata": {},
   "source": [
    "Statistics is science of collecting, organizing and analysing the data"
   ]
  },
  {
   "cell_type": "markdown",
   "id": "d4f93521",
   "metadata": {},
   "source": [
    "Ans2"
   ]
  },
  {
   "cell_type": "markdown",
   "id": "c55e6ba3",
   "metadata": {},
   "source": [
    "Descriptive Statistics: Measures of central tendency, Measures of variability\n",
    "Inferential Statistics: Hypothesis testing, Confidence intervals"
   ]
  },
  {
   "cell_type": "markdown",
   "id": "56320760",
   "metadata": {},
   "source": [
    "Ans3"
   ]
  },
  {
   "cell_type": "markdown",
   "id": "d2bebd9b",
   "metadata": {},
   "source": [
    "Qualatitive Data\n",
    "Nominal Data : data which don't have ranking in nature for example : gender, hair color, religion, etc\n",
    "Ordinal Data : data which have ranking  example : satisfaction, education level, letter grades, etc\n",
    "    \n",
    "Quantative Data\n",
    "discrete data : data which is countable example : gender , tossing of coin , rolling of dice etc\n",
    "continuous data : data which have magnitude example : height , weight, salary etc"
   ]
  },
  {
   "cell_type": "markdown",
   "id": "1348a122",
   "metadata": {},
   "source": [
    "Ans4 & Ans5"
   ]
  },
  {
   "cell_type": "markdown",
   "id": "36085c1c",
   "metadata": {},
   "source": [
    "(i)\tGrading in exam: A+, A, B+, B, C+, C, D, E -- Qualatitive Data -- Ordinal Data\n",
    "\n",
    "(ii)\tColour of mangoes: yellow, green, orange, red -- Qualatitive Data -- Nominal Data\n",
    "\n",
    "(iii)\tHeight data of a class: [178.9, 179, 179.5, 176, 177.2, 178.3, 175.8,...] -- Quantative Data -- continuous data\n",
    "\n",
    "(iv)\tNumber of mangoes exported by a farm: [500, 600, 478, 672, …] --  Quantative Data -- discrete data"
   ]
  },
  {
   "cell_type": "markdown",
   "id": "f3930c84",
   "metadata": {},
   "source": [
    "Ans6"
   ]
  },
  {
   "cell_type": "markdown",
   "id": "0ca4d570",
   "metadata": {},
   "source": [
    "It is important to understand the level of measurement when analyzing data because it affects the types of statistical analysis\n",
    "that can be applied and the conclusions that can be drawn from the data."
   ]
  },
  {
   "cell_type": "markdown",
   "id": "83ab8a3f",
   "metadata": {},
   "source": [
    "Ans7"
   ]
  },
  {
   "cell_type": "markdown",
   "id": "f5032906",
   "metadata": {},
   "source": [
    "Qualatitive Data\n",
    "Nominal Data : data which don't have ranking in nature for example : gender, hair color, religion, etc\n",
    "Ordinal Data : data which have ranking  example : satisfaction, education level, letter grades, etc"
   ]
  },
  {
   "cell_type": "markdown",
   "id": "ca9505d6",
   "metadata": {},
   "source": [
    "Ans8"
   ]
  },
  {
   "cell_type": "markdown",
   "id": "30586977",
   "metadata": {},
   "source": [
    "A box plot can be used to display data in terms of range. A box plot shows the range of the data by displaying \n",
    "the minimum and maximum values as whiskers, while the box represents the interquartile range (IQR),\n",
    "which includes the middle 50% of the data. The median is also shown as a horizontal line inside the box."
   ]
  },
  {
   "cell_type": "markdown",
   "id": "65c52d99",
   "metadata": {},
   "source": [
    "Ans9"
   ]
  },
  {
   "cell_type": "markdown",
   "id": "928ac482",
   "metadata": {},
   "source": [
    "descriptive :  it consist of collecting organizind and analysing the data\n",
    "inferential : it achive to form a conclusion of the data "
   ]
  },
  {
   "cell_type": "markdown",
   "id": "f41b0ee4",
   "metadata": {},
   "source": [
    "Ans10"
   ]
  },
  {
   "cell_type": "code",
   "execution_count": null,
   "id": "56c14abf",
   "metadata": {},
   "outputs": [],
   "source": [
    "measure of central tendenct : mean, median , mode\n",
    "measure of variablity : "
   ]
  }
 ],
 "metadata": {
  "kernelspec": {
   "display_name": "Python 3 (ipykernel)",
   "language": "python",
   "name": "python3"
  },
  "language_info": {
   "codemirror_mode": {
    "name": "ipython",
    "version": 3
   },
   "file_extension": ".py",
   "mimetype": "text/x-python",
   "name": "python",
   "nbconvert_exporter": "python",
   "pygments_lexer": "ipython3",
   "version": "3.9.7"
  }
 },
 "nbformat": 4,
 "nbformat_minor": 5
}
