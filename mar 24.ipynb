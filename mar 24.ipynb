{
 "cells": [
  {
   "cell_type": "markdown",
   "id": "9263bfe0",
   "metadata": {},
   "source": [
    "ans1"
   ]
  },
  {
   "cell_type": "code",
   "execution_count": null,
   "id": "81497006",
   "metadata": {},
   "outputs": [],
   "source": [
    "from sklearn.datasets import load_wine\n",
    "wine = load_wine()"
   ]
  },
  {
   "cell_type": "code",
   "execution_count": null,
   "id": "a50296d6",
   "metadata": {},
   "outputs": [],
   "source": [
    "X = wine.data\n",
    "y = wine.target\n",
    "feature_names = wine.feature_names\n",
    "target_names = wine.target_names\n"
   ]
  },
  {
   "cell_type": "code",
   "execution_count": null,
   "id": "3005a56b",
   "metadata": {},
   "outputs": [],
   "source": [
    "print(feature_names)\n",
    "print('*'*30)\n",
    "print(target_names)"
   ]
  },
  {
   "cell_type": "markdown",
   "id": "24718abb",
   "metadata": {},
   "source": [
    "ans2"
   ]
  },
  {
   "cell_type": "markdown",
   "id": "a10726d8",
   "metadata": {},
   "source": [
    "Deletion: This technique involves removing missing values from the dataset. The advantage of this technique is that it is straightforward and requires no assumptions about the data. However, it may lead to a reduction in the sample size, and the remaining data may not be representative of the population.\n",
    "\n",
    "Mean/Mode/Median imputation: This technique involves replacing missing values with the mean/mode/median value of the available data. The advantage of this technique is that it is simple and can be easily implemented. However, it may result in biased estimates if the missing values are not missing at random."
   ]
  },
  {
   "cell_type": "markdown",
   "id": "989f7b5d",
   "metadata": {},
   "source": [
    "ans3"
   ]
  },
  {
   "cell_type": "markdown",
   "id": "df253902",
   "metadata": {},
   "source": [
    "There are many factors that can affect students' performance in exams, including:\n",
    "\n",
    "Study habits: How often and how effectively students study can impact their exam performance.\n",
    "\n",
    "Test anxiety: Students who experience high levels of anxiety before or during exams may struggle to perform well.\n",
    "\n",
    "Motivation: Students who are motivated to learn and succeed are more likely to perform well on exams.\n",
    "\n",
    "Prior knowledge: Students who have a strong foundation of knowledge in the subject matter are more likely to perform well on exams.\n",
    "\n",
    "Sleep and nutrition: Adequate sleep and proper nutrition can impact cognitive function and, consequently, exam performance."
   ]
  },
  {
   "cell_type": "markdown",
   "id": "e7d6972e",
   "metadata": {},
   "source": [
    "ans4"
   ]
  },
  {
   "cell_type": "markdown",
   "id": "44a5c3e4",
   "metadata": {},
   "source": [
    "The process of feature engineering involves selecting and transforming the variables in a data set to improve the performance of a predictive model. In the context of the student performance data set, the following steps could be taken for feature engineering:\n",
    "\n",
    "Identify and remove irrelevant variables: Some variables in the data set may have little or no impact on student performance, and could be removed to simplify the model and reduce noise.\n",
    "\n",
    "Handle missing data: Missing data could be imputed using appropriate techniques, such as mean imputation or regression imputation, to avoid biased or incomplete results."
   ]
  },
  {
   "cell_type": "markdown",
   "id": "3fd8994d",
   "metadata": {},
   "source": [
    "ans5"
   ]
  },
  {
   "cell_type": "markdown",
   "id": "bbf48404",
   "metadata": {},
   "source": [
    "import pandas as pd\n",
    "import matplotlib.pyplot as plt\n",
    "import seaborn as sns\n",
    "\n",
    "### Load wine quality data set\n",
    "wine_data = pd.read_csv('winequality-red.csv', sep=';')\n",
    "\n",
    "### Examine data distribution\n",
    "sns.displot(wine_data, x='fixed acidity', kde=True)\n",
    "sns.displot(wine_data, x='volatile acidity', kde=True)\n",
    "sns.displot(wine_data, x='citric acid', kde=True)\n",
    "sns.displot(wine_data, x='residual sugar', kde=True)\n",
    "sns.displot(wine_data, x='chlorides', kde=True)\n",
    "sns.displot(wine_data, x='free sulfur dioxide', kde=True)\n",
    "sns.displot(wine_data, x='total sulfur dioxide', kde=True)\n",
    "sns.displot(wine_data, x='density', kde=True)\n",
    "sns.displot(wine_data, x='pH', kde=True)\n",
    "sns.displot(wine_data, x='sulphates', kde=True)\n",
    "sns.displot(wine_data, x='alcohol', kde=True)\n",
    "sns.displot(wine_data, x='quality', kde=True)"
   ]
  },
  {
   "cell_type": "markdown",
   "id": "fde1ce15",
   "metadata": {},
   "source": [
    "ans6"
   ]
  },
  {
   "cell_type": "markdown",
   "id": "2ac90f5d",
   "metadata": {},
   "source": [
    "import pandas as pd\n",
    "from sklearn.decomposition import PCA\n",
    "from sklearn.preprocessing import StandardScaler\n",
    "\n",
    "\n",
    "wine_data = pd.read_csv('winequality-red.csv', sep=';')\n",
    "\n",
    "X = wine_data.drop('quality', axis=1)\n",
    "y = wine_data['quality']\n",
    "\n",
    "\n",
    "scaler = StandardScaler()\n",
    "X_std = scaler.fit_transform(X)\n",
    "\n",
    "pca = PCA()\n",
    "X_pca = pca.fit_transform(X_std)\n",
    "\n",
    "cumulative_variance_ratio = np.cumsum(pca.explained_variance_ratio_)\n",
    "n_components = np.argmax(cumulative_variance_ratio >= 0.9) + 1\n",
    "\n",
    "print(f\"Number of principal components required to explain 90% of variance: {n_components}\")"
   ]
  }
 ],
 "metadata": {
  "kernelspec": {
   "display_name": "Python 3 (ipykernel)",
   "language": "python",
   "name": "python3"
  },
  "language_info": {
   "codemirror_mode": {
    "name": "ipython",
    "version": 3
   },
   "file_extension": ".py",
   "mimetype": "text/x-python",
   "name": "python",
   "nbconvert_exporter": "python",
   "pygments_lexer": "ipython3",
   "version": "3.9.7"
  }
 },
 "nbformat": 4,
 "nbformat_minor": 5
}
