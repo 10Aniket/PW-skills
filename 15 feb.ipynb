{
 "cells": [
  {
   "cell_type": "markdown",
   "id": "ca71e9e7",
   "metadata": {},
   "source": [
    "Ans1"
   ]
  },
  {
   "cell_type": "markdown",
   "id": "b1c9a882",
   "metadata": {},
   "source": [
    "Multiprocessing in Python is a technique that allows a program to use multiple CPU cores simultaneously to execute code \n",
    "in parallel, resulting in faster execution of certain types of tasks.\n",
    "\n",
    "Python's multiprocessing module provides a way to run multiple processes concurrently,\n",
    "each with its own interpreter and memory space. These processes can communicate with each other using pipes, queues,\n",
    "and shared memory."
   ]
  },
  {
   "cell_type": "markdown",
   "id": "ed3eca69",
   "metadata": {},
   "source": [
    "Ans2"
   ]
  },
  {
   "cell_type": "markdown",
   "id": "13a5072a",
   "metadata": {},
   "source": [
    "Multiprocessing uses two or more CPUs to increase computing power, whereas multithreading uses a single process with multiple\n",
    "code segments to increase computing power. Multithreading focuses on generating computing threads from a single process,\n",
    "whereas multiprocessing increases computing power by adding CPUs"
   ]
  },
  {
   "cell_type": "markdown",
   "id": "47df29d0",
   "metadata": {},
   "source": [
    "Ans3"
   ]
  },
  {
   "cell_type": "code",
   "execution_count": 1,
   "id": "059e029c",
   "metadata": {},
   "outputs": [
    {
     "name": "stdout",
     "output_type": "stream",
     "text": [
      "Main process continues while worker process is running\n",
      "Main process finished\n"
     ]
    }
   ],
   "source": [
    "import multiprocessing\n",
    "\n",
    "def worker():\n",
    "    \"\"\"Worker function for the new process\"\"\"\n",
    "    print(\"Worker process started\")\n",
    "    print(\"Worker process finished\")\n",
    "\n",
    "if __name__ == \"__main__\":\n",
    "    p = multiprocessing.Process(target=worker)\n",
    "    p.start()\n",
    "    print(\"Main process continues while worker process is running\")\n",
    "    p.join()\n",
    "    print(\"Main process finished\")"
   ]
  },
  {
   "cell_type": "markdown",
   "id": "9564680d",
   "metadata": {},
   "source": [
    "Ans4"
   ]
  },
  {
   "cell_type": "markdown",
   "id": "4639cf66",
   "metadata": {},
   "source": [
    "Python multiprocessing Pool can be used for parallel execution of a function across multiple input values,\n",
    "distributing the input data across processes (data parallelism)."
   ]
  },
  {
   "cell_type": "markdown",
   "id": "bc91a451",
   "metadata": {},
   "source": [
    "Ans5 & Ans6"
   ]
  },
  {
   "cell_type": "code",
   "execution_count": null,
   "id": "e7e74392",
   "metadata": {},
   "outputs": [],
   "source": [
    "def worker(input):\n",
    "    \"\"\"Worker function for the pool\"\"\"\n",
    "    return input * input\n",
    "\n",
    "if __name__ == \"__main__\":\n",
    "    pool = multiprocessing.Pool(processes=4)\n",
    "    inputs = [1, 2, 3, 4, 5]\n",
    "    results = pool.map(worker, inputs)\n",
    "\n",
    "    print(results)\n",
    "\n",
    "    pool.close()\n",
    "    pool.join()\n"
   ]
  },
  {
   "cell_type": "code",
   "execution_count": null,
   "id": "41bffc47",
   "metadata": {},
   "outputs": [],
   "source": []
  },
  {
   "cell_type": "code",
   "execution_count": null,
   "id": "38389102",
   "metadata": {},
   "outputs": [],
   "source": []
  },
  {
   "cell_type": "code",
   "execution_count": null,
   "id": "c1daeb0d",
   "metadata": {},
   "outputs": [],
   "source": []
  }
 ],
 "metadata": {
  "kernelspec": {
   "display_name": "Python 3 (ipykernel)",
   "language": "python",
   "name": "python3"
  },
  "language_info": {
   "codemirror_mode": {
    "name": "ipython",
    "version": 3
   },
   "file_extension": ".py",
   "mimetype": "text/x-python",
   "name": "python",
   "nbconvert_exporter": "python",
   "pygments_lexer": "ipython3",
   "version": "3.9.7"
  }
 },
 "nbformat": 4,
 "nbformat_minor": 5
}
