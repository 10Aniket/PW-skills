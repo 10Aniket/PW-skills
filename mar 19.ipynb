{
 "cells": [
  {
   "cell_type": "markdown",
   "id": "9e160b9a",
   "metadata": {},
   "source": [
    "ans1"
   ]
  },
  {
   "cell_type": "markdown",
   "id": "58fc6e37",
   "metadata": {},
   "source": [
    "X_scaled = (X - X_min) / (X_max - X_min)\n",
    "size_scaled = (size - 500) / (2500 - 500)\n",
    "bedrooms_scaled = (bedrooms - 1) / (5 - 1)\n",
    "size_scaled = (1500 - 500) / (2500 - 500) = 0.5\n",
    "bedrooms_scaled = (3 - 1) / (5 - 1) = 0.5"
   ]
  },
  {
   "cell_type": "markdown",
   "id": "76ae8c93",
   "metadata": {},
   "source": [
    "ans2"
   ]
  },
  {
   "cell_type": "markdown",
   "id": "e301caaf",
   "metadata": {},
   "source": [
    "The Unit Vector technique, also known as normalization, is another method for feature scaling used in data preprocessing. The main difference between Unit Vector and Min-Max scaling is that Unit Vector scales the data based on its direction rather than its range.\n",
    "\n",
    "In Unit Vector scaling, each feature vector is divided by its magnitude to obtain a new vector of length 1. This method is particularly useful when the magnitude of the features is not important, but the direction of the data points is essential."
   ]
  },
  {
   "cell_type": "markdown",
   "id": "406d9ca9",
   "metadata": {},
   "source": [
    "ans3"
   ]
  },
  {
   "cell_type": "markdown",
   "id": "7394371e",
   "metadata": {},
   "source": [
    "PCA (Principal Component Analysis) is a technique used in dimensionality reduction that transforms a high-dimensional dataset into a lower-dimensional space while retaining most of the variability present in the original dataset. It does this by identifying the principal components that capture the most significant variance in the data and then projecting the data onto these components."
   ]
  },
  {
   "cell_type": "code",
   "execution_count": 1,
   "id": "28d10e9c",
   "metadata": {},
   "outputs": [
    {
     "name": "stdout",
     "output_type": "stream",
     "text": [
      "[[ 0.5456317   0.45544952 -0.62490198 ... -0.62673822 -0.40458924\n",
      "   0.61564673]\n",
      " [ 0.30976467 -0.25517728 -0.16873546 ... -0.14554337 -0.41517632\n",
      "  -0.04701884]\n",
      " [ 0.0634253   0.61240006 -0.62894238 ...  0.28650767 -0.0504672\n",
      "  -0.19927079]\n",
      " ...\n",
      " [-0.09519159  0.13089313 -0.210164   ...  0.53572721 -0.59927764\n",
      "   0.31540405]\n",
      " [-0.3797957   0.07028939  0.33889244 ... -0.10635584  0.28541868\n",
      "   0.44146467]\n",
      " [-0.14506951 -0.0448676  -0.16499062 ...  0.74629917 -0.42841262\n",
      "   0.20886167]]\n"
     ]
    }
   ],
   "source": [
    "from sklearn.decomposition import PCA\n",
    "import numpy as np\n",
    "\n",
    "X = np.random.rand(1000, 50)\n",
    "\n",
    "pca = PCA(n_components=10)\n",
    "X_reduced = pca.fit_transform(X)\n",
    "print(X_reduced)"
   ]
  },
  {
   "cell_type": "markdown",
   "id": "0e947a54",
   "metadata": {},
   "source": [
    "ans4"
   ]
  },
  {
   "cell_type": "markdown",
   "id": "097524b6",
   "metadata": {},
   "source": [
    "PCA (Principal Component Analysis) is a technique used in dimensionality reduction, which is a type of feature extraction. Feature extraction is the process of transforming a dataset of high-dimensional features into a lower-dimensional space while retaining the most important information.\n",
    "\n",
    "PCA can be used for feature extraction by identifying the most important features or combinations of features, called principal components, in a dataset. These principal components are then used to represent the original dataset in a lower-dimensional space."
   ]
  },
  {
   "cell_type": "markdown",
   "id": "63af09e8",
   "metadata": {},
   "source": [
    "ans5"
   ]
  },
  {
   "cell_type": "markdown",
   "id": "2a0a7db2",
   "metadata": {},
   "source": [
    "i will normalize the price and the delivery time column and cause this two columns have magnitude and minmaxscaler will convert it ranging 0-1"
   ]
  },
  {
   "cell_type": "markdown",
   "id": "ac5e93af",
   "metadata": {},
   "source": [
    "ans6"
   ]
  },
  {
   "cell_type": "markdown",
   "id": "a34d84e0",
   "metadata": {},
   "source": [
    "PCA can be used to reduce the dimensionality of the dataset by transforming the original features into a smaller set of new features, called principal components. The principal components are chosen in a way that they capture the maximum amount of variation in the original data. This is done by identifying the directions of maximum variance in the data and projecting the data onto those directions.\n",
    "\n",
    "To apply PCA to the stock price dataset, the first step would be to preprocess the data by standardizing the features. Then, the covariance matrix of the standardized features would be calculated. The eigenvectors and eigenvalues of the covariance matrix would be computed, and the eigenvectors would be sorted in descending order of eigenvalues. The eigenvectors corresponding to the top k eigenvalues would be selected as the new set of features for the reduced dataset."
   ]
  },
  {
   "cell_type": "markdown",
   "id": "df84e2dd",
   "metadata": {},
   "source": [
    "ans7"
   ]
  },
  {
   "cell_type": "markdown",
   "id": "92da78fc",
   "metadata": {},
   "source": [
    "where X is the original value, X_min and X_max are the minimum and maximum values in the dataset, and max_range and min_range are the desired maximum and minimum values, respectively.\n",
    "\n",
    "In this case, the minimum value in the dataset is 1, and the maximum value is 20. We want to transform the values to a range of -1 to 1. Therefore, max_range is 1 and min_range is -1."
   ]
  },
  {
   "cell_type": "markdown",
   "id": "affd602d",
   "metadata": {},
   "source": [
    "ans8"
   ]
  },
  {
   "cell_type": "code",
   "execution_count": 2,
   "id": "baf332a1",
   "metadata": {},
   "outputs": [
    {
     "data": {
      "image/png": "[encoded data removed]",
      "text/plain": [
       "<Figure size 432x288 with 1 Axes>"
      ]
     },
     "metadata": {
      "needs_background": "light"
     },
     "output_type": "display_data"
    }
   ],
   "source": [
    "from sklearn.decomposition import PCA\n",
    "import numpy as np\n",
    "\n",
    "X = np.array([[1, 2, 3, 0, 1], [4, 5, 6, 1, 2], [7, 8, 9, 0, 3]])\n",
    "\n",
    "pca = PCA()\n",
    "\n",
    "X_pca = pca.fit_transform(X)\n",
    "\n",
    "var_exp = pca.explained_variance_ratio_\n",
    "\n",
    "import matplotlib.pyplot as plt\n",
    "plt.plot(np.cumsum(var_exp))\n",
    "plt.xlabel('Number of components')\n",
    "plt.ylabel('Cumulative explained variance')\n",
    "plt.show()\n"
   ]
  },
  {
   "cell_type": "code",
   "execution_count": null,
   "id": "113408b8",
   "metadata": {},
   "outputs": [],
   "source": []
  },
  {
   "cell_type": "code",
   "execution_count": null,
   "id": "ed096502",
   "metadata": {},
   "outputs": [],
   "source": []
  },
  {
   "cell_type": "code",
   "execution_count": null,
   "id": "80ad8a1f",
   "metadata": {},
   "outputs": [],
   "source": []
  },
  {
   "cell_type": "code",
   "execution_count": null,
   "id": "aeaafbc0",
   "metadata": {},
   "outputs": [],
   "source": []
  }
 ],
 "metadata": {
  "kernelspec": {
   "display_name": "Python 3 (ipykernel)",
   "language": "python",
   "name": "python3"
  },
  "language_info": {
   "codemirror_mode": {
    "name": "ipython",
    "version": 3
   },
   "file_extension": ".py",
   "mimetype": "text/x-python",
   "name": "python",
   "nbconvert_exporter": "python",
   "pygments_lexer": "ipython3",
   "version": "3.9.7"
  }
 },
 "nbformat": 4,
 "nbformat_minor": 5
}
