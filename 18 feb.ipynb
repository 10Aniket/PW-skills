{
 "cells": [
  {
   "cell_type": "markdown",
   "id": "05e6bc4b",
   "metadata": {},
   "source": [
    "Ans1"
   ]
  },
  {
   "cell_type": "markdown",
   "id": "56b97dfe",
   "metadata": {},
   "source": [
    "API stands for \"Application Programming Interface\". It is a set of protocols,routines, and tools for building software \n",
    "applications that specify how different software components should interact with each other.\n",
    "In simpler terms, an API is a way for different software applications to communicate with each other. \n",
    "It enables one application to access the services or data provided by another application in a standardized and secure manner.\n",
    "A common example of an API in real life is the Google Maps API."
   ]
  },
  {
   "cell_type": "markdown",
   "id": "a7623f34",
   "metadata": {},
   "source": [
    "Ans2"
   ]
  },
  {
   "cell_type": "markdown",
   "id": "2bfbe3d5",
   "metadata": {},
   "source": [
    "ADVANTAGES\n",
    "an integration. An example of an integration is to push notifications from your product (such as CRM, Helpdesk) to a messaging\n",
    "tool such as Slack. In this way, if your customer uses Slack they can receive notifications without having to login directly to\n",
    "your system or check emails.\n",
    "\n",
    "new functionality. In the early days of Twitter, some of the most popular Twitter clients were produced by third parties using \n",
    "the Twitter API. Twitter and its users benefited from the new functionality that was undertaken by other companies.\n",
    "\n",
    "\n",
    "DISADVANTAGES\n",
    "Cost. Providing an API is expensive in terms of development time, ongoing maintenance, providing API documentation on your\n",
    "website and providing support to users of your API.\n",
    "\n",
    "Security exposure. Adding an API adds another attack surface to your website.\n",
    "You might not like the result or you may change business direction.\n",
    "\n",
    "It's not always easy to predict exactly how your API will be used. If your integration with a messaging system means that users \n",
    "login to your service less often, will there be an overall negative impact for you? Withdrawing an API can be painful for users\n",
    "if you decide that you need to do so. This is unusual but it can happen. As Twitter's business evolved it changed its rules for\n",
    "accessing its API which resulted in a number of problems for users and developers"
   ]
  },
  {
   "cell_type": "markdown",
   "id": "f8be40e9",
   "metadata": {},
   "source": [
    "Ans3"
   ]
  },
  {
   "cell_type": "markdown",
   "id": "f91751af",
   "metadata": {},
   "source": [
    "The main difference between API and Web API is that API can be any type of interface that allows software components to interact\n",
    "with each other, while Web API specifically refers to APIs that are designed to be used in web-based applications.\n",
    "\n",
    "Here are some additional differences between API and Web API:\n",
    "\n",
    "Protocol: APIs can be accessed using different protocols, such as TCP/IP or RPC, while Web APIs are accessed using the HTTP protocol.\n",
    "\n",
    "Format: APIs can use different formats for transferring data, such as binary or text, while Web APIs typically use standardized \n",
    "formats such as JSON or XML.\n",
    "\n",
    "Purpose: APIs can be used for different purposes, such as accessing hardware devices or communicating between different software\n",
    "components, while Web APIs are specifically designed for use in web-based applications.\n",
    "\n",
    "Accessibility: APIs can be accessed from any application that has access to the underlying system or hardware, \n",
    "while Web APIs are accessed over the internet and are accessible from any application that has an internet connection."
   ]
  },
  {
   "cell_type": "markdown",
   "id": "f86fbcbf",
   "metadata": {},
   "source": [
    "Ans4 & Ans5"
   ]
  },
  {
   "cell_type": "markdown",
   "id": "c68326c3",
   "metadata": {},
   "source": [
    "SOAP needs more bandwidth for its usage whereas REST doesn't need much bandwidth. Comparing SOAP vs REST API,\n",
    "SOAP only works with XML formats whereas REST work with plain text, XML, HTML and JSON. SOAP cannot make use of REST whereas \n",
    "REST can make use of SOAP"
   ]
  },
  {
   "cell_type": "code",
   "execution_count": null,
   "id": "cd20e866",
   "metadata": {},
   "outputs": [],
   "source": []
  }
 ],
 "metadata": {
  "kernelspec": {
   "display_name": "Python 3 (ipykernel)",
   "language": "python",
   "name": "python3"
  },
  "language_info": {
   "codemirror_mode": {
    "name": "ipython",
    "version": 3
   },
   "file_extension": ".py",
   "mimetype": "text/x-python",
   "name": "python",
   "nbconvert_exporter": "python",
   "pygments_lexer": "ipython3",
   "version": "3.9.7"
  }
 },
 "nbformat": 4,
 "nbformat_minor": 5
}
