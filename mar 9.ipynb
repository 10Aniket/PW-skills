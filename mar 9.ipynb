{
 "cells": [
  {
   "cell_type": "markdown",
   "id": "f7aabd91",
   "metadata": {},
   "source": [
    "Ans1"
   ]
  },
  {
   "cell_type": "markdown",
   "id": "bf113a15",
   "metadata": {},
   "source": [
    "The PMF is used for discrete random variables, and it gives the probability that the random variable takes on a particular value.\n",
    "example : rolling a fair die\n",
    "    \n",
    "On the other hand, the PDF is used for continuous random variables, and it gives the probability density of the random variable\n",
    "at a particular point.\n",
    "example : height of the students in classrom "
   ]
  },
  {
   "cell_type": "markdown",
   "id": "d08e8be6",
   "metadata": {},
   "source": [
    "Ans2"
   ]
  },
  {
   "cell_type": "markdown",
   "id": "b894e683",
   "metadata": {},
   "source": [
    "The Cumulative Distribution Function (CDF) is a function that describes the probability that a random variable X takes\n",
    "on a value less than or equal to a certain value x. In other words, the CDF gives the cumulative probability of X \n",
    "up to a certain point."
   ]
  },
  {
   "cell_type": "markdown",
   "id": "cce8bc5e",
   "metadata": {},
   "source": [
    "Ans3"
   ]
  },
  {
   "cell_type": "markdown",
   "id": "8ca7e2dc",
   "metadata": {},
   "source": [
    "The shape of the normal distribution is symmetric and bell-shaped, with the peak at the mean.\n",
    "The spread of the distribution is determined by the standard deviation. A smaller standard deviation indicates that \n",
    "the data is more tightly clustered around the mean, while a larger standard deviation indicates a wider spread of the data."
   ]
  },
  {
   "cell_type": "markdown",
   "id": "beb0d2e1",
   "metadata": {},
   "source": [
    "Ans4"
   ]
  },
  {
   "cell_type": "markdown",
   "id": "f615030b",
   "metadata": {},
   "source": [
    "Normal distribution, also known as Gaussian distribution, is one of the most important probability distributions in statistics\n",
    "and probability theory. It is often used in modeling real-world phenomena because of its many desirable properties.\n",
    "Some of the importance of the normal distribution are:\n",
    "\n",
    "Height: The height of adult humans in a population tends to follow a normal distribution with a mean around 5 feet 7 inches\n",
    "and a standard deviation of about 2.5 inches.\n",
    "\n",
    "IQ Scores: Q scores of a large population tend to follow a normal distribution with a mean of 100 and a standard deviation of 15."
   ]
  },
  {
   "cell_type": "markdown",
   "id": "a0dccea4",
   "metadata": {},
   "source": [
    "Ans5"
   ]
  },
  {
   "cell_type": "markdown",
   "id": "588d752f",
   "metadata": {},
   "source": [
    "The Bernoulli distribution represents the success or failure of a single Bernoulli trial. The Binomial Distribution represents the number of successes and failures in n independent Bernoulli trials for some given value of n."
   ]
  },
  {
   "cell_type": "markdown",
   "id": "14347a98",
   "metadata": {},
   "source": [
    "Ans6"
   ]
  },
  {
   "cell_type": "code",
   "execution_count": 5,
   "id": "ea065010",
   "metadata": {},
   "outputs": [
    {
     "name": "stdout",
     "output_type": "stream",
     "text": [
      "1.0\n"
     ]
    }
   ],
   "source": [
    "#z = (x - mu) / sigma\n",
    "z = (60 - 50) / 10\n",
    "print(z)"
   ]
  },
  {
   "cell_type": "markdown",
   "id": "0dc3988d",
   "metadata": {},
   "source": [
    "Ans7"
   ]
  },
  {
   "cell_type": "markdown",
   "id": "a071c59b",
   "metadata": {},
   "source": [
    "Uniform distribution is a continuous probability distribution where every possible value between a minimum and maximum value has an equal chance of occurring. In other words, the probability of an event occurring is equally likely across the entire range of possible outcomes."
   ]
  },
  {
   "cell_type": "markdown",
   "id": "e377986b",
   "metadata": {},
   "source": [
    "Ans8"
   ]
  },
  {
   "cell_type": "markdown",
   "id": "452f0cce",
   "metadata": {},
   "source": [
    "z-score (also known as a standard score) is a measure of how many standard deviations a given value is above or below the mean of a distribution. It is calculated by subtracting the mean from the value and then dividing the result by the standard deviation.\n",
    "\n",
    "The formula for calculating the z-score is:\n",
    "\n",
    "z = (x - mu) / sigma\n",
    "\n",
    "where z is the z-score, x is the value being standardized, mu is the mean of the distribution, and sigma is the standard deviation of the distribution"
   ]
  },
  {
   "cell_type": "markdown",
   "id": "b878fa5b",
   "metadata": {},
   "source": [
    "Ans9"
   ]
  },
  {
   "cell_type": "markdown",
   "id": "a41bcde2",
   "metadata": {},
   "source": [
    "The Central Limit Theorem (CLT) is a fundamental concept in statistics that states that, under certain conditions, the distribution of the sample means of a random variable approaches a normal distribution as the sample size increases, regardless of the distribution of the population from which the samples are taken."
   ]
  },
  {
   "cell_type": "markdown",
   "id": "42fbcb29",
   "metadata": {},
   "source": [
    "Ans10"
   ]
  },
  {
   "cell_type": "markdown",
   "id": "3620f382",
   "metadata": {},
   "source": [
    "The data must adhere to the randomization rule. It needs to be sampled at random. The samples should be unrelated to one another. One sample should not impact the others"
   ]
  }
 ],
 "metadata": {
  "kernelspec": {
   "display_name": "Python 3 (ipykernel)",
   "language": "python",
   "name": "python3"
  },
  "language_info": {
   "codemirror_mode": {
    "name": "ipython",
    "version": 3
   },
   "file_extension": ".py",
   "mimetype": "text/x-python",
   "name": "python",
   "nbconvert_exporter": "python",
   "pygments_lexer": "ipython3",
   "version": "3.9.7"
  }
 },
 "nbformat": 4,
 "nbformat_minor": 5
}
