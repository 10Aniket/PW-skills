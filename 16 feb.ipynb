{
 "cells": [
  {
   "cell_type": "markdown",
   "id": "ddc8c0ef",
   "metadata": {},
   "source": [
    "Ans1"
   ]
  },
  {
   "cell_type": "markdown",
   "id": "bb72ec4c",
   "metadata": {},
   "source": [
    "A database is an organized collection of structured information, or data, typically stored electronically in a computer system. \n",
    "SQL is structured Query language it store the data in structured format for example .csv , .xlsx etc we can use microsoft acess,\n",
    "MySQL and SQL.\n",
    "NoSQL is No structured Query language it store the data in non structured for example audio,png.jpg.videos etc for NoSQL\n",
    "we can use mongodb "
   ]
  },
  {
   "cell_type": "markdown",
   "id": "23c3cf5b",
   "metadata": {},
   "source": [
    "Ans2"
   ]
  },
  {
   "cell_type": "markdown",
   "id": "f924764b",
   "metadata": {},
   "source": [
    "DDL stands for Data Definition Language, which is a set of SQL commands that are used to define the structure and\n",
    "characteristics of the database objects such as tables, views, indexes, etc.\n",
    "\n",
    "CREATE: \n",
    "This command is used to create a new database object, such as a table, view, index, etc. For example,\n",
    "the following SQL statement creates a new table called \"customers\":\n",
    "CREATE TABLE customers (id INT,name VARCHAR(50), email VARCHAR(50),PRIMARY KEY (id));\n",
    "\n",
    "DROP:\n",
    "This command is used to delete an existing database object, such as a table, view, index, etc. For example,\n",
    "the following SQL statement drops the \"customers\" table:\n",
    "DROP TABLE customers;\n",
    "\n",
    "ALTER: \n",
    "This command is used to modify the structure of an existing database object, such as adding or deleting columns froma table.\n",
    "For example, the following SQL statement adds a new column called \"phone\" to the \"customers\" table:\n",
    "ALTER TABLE customers ADD phone VARCHAR(20);\n",
    "\n",
    "TRUNCATE:\n",
    "This command is used to delete all the data from an existing table. It is similar to the DELETE command,but it does not delete\n",
    "the table structure. For example, the following SQL statement deletes all the data from the\"customers\" table:\n",
    "TRUNCATE TABLE customers;\n",
    "\n"
   ]
  },
  {
   "cell_type": "markdown",
   "id": "74e54d62",
   "metadata": {},
   "source": [
    "Ans3"
   ]
  },
  {
   "cell_type": "markdown",
   "id": "e5fae858",
   "metadata": {},
   "source": [
    "DML stands for Data Manipulation Language, which is a set of SQL commands that are used to manipulate the data stored in the\n",
    "database objects such as tables. The three most commonly used DML commands are:\n",
    "    \n",
    "INSERT: \n",
    "This command is used to insert new data into a table. For example, the following SQL statement inserts a new row into\n",
    "the \"customers\" table:\n",
    "INSERT INTO customers (id, name, email)VALUES (1, 'John Doe', 'johndoe@example.com');\n",
    "\n",
    "UPDATE: \n",
    "This command is used to modify existing data in a table. For example, the following SQL statement updates \n",
    "the email address of the customer with an ID of 1:\n",
    "UPDATE customers\n",
    "SET email = 'johndoe1@example.com'\n",
    "WHERE id = 1;\n",
    "\n",
    "DELETE: \n",
    "This command is used to delete existing data from a table. For example, \n",
    "the following SQL statement deletes the customer with an ID of 1:\n",
    "DELETE FROM customersWHERE id = 1;\n"
   ]
  },
  {
   "cell_type": "markdown",
   "id": "fb4ca627",
   "metadata": {},
   "source": [
    "Ans4"
   ]
  },
  {
   "cell_type": "markdown",
   "id": "8ff8f3c2",
   "metadata": {},
   "source": [
    "An SQL SELECT statement retrieves records from a database table according to clauses (for example, FROM and WHERE ) \n",
    "that specify criteria. The syntax is: SELECT column1, column2 FROM table1, table2 WHERE column2='value';"
   ]
  },
  {
   "cell_type": "markdown",
   "id": "e9332a00",
   "metadata": {},
   "source": [
    "Ans5"
   ]
  },
  {
   "cell_type": "markdown",
   "id": "512c8a3b",
   "metadata": {},
   "source": [
    "A relational database is designed to enforce the uniqueness of primary keys by allowing only one row with a given primary key\n",
    "value in a table. A foreign key is a column or a set of columns in a table whose values correspond to the values of \n",
    "the primary key in another table."
   ]
  },
  {
   "cell_type": "markdown",
   "id": "537756cb",
   "metadata": {},
   "source": [
    "Ans6"
   ]
  },
  {
   "cell_type": "code",
   "execution_count": 1,
   "id": "105e935f",
   "metadata": {},
   "outputs": [],
   "source": [
    "# import mysql.connector\n",
    "# mydb = mysql.connector.connect(\n",
    "#   host=\"localhost\",\n",
    "#   user=\"yourusername\",\n",
    "#   password=\"yourpassword\",\n",
    "#   database=\"yourdatabase\")\n",
    "\n",
    "# mycursor = mydb.cursor()\n",
    "\n",
    "# mycursor.execute(\"SELECT * FROM customers\")\n",
    "\n",
    "# result = mycursor.fetchall()"
   ]
  },
  {
   "cell_type": "markdown",
   "id": "0db2247e",
   "metadata": {},
   "source": [
    "Ans7"
   ]
  },
  {
   "cell_type": "markdown",
   "id": "687685fc",
   "metadata": {},
   "source": [
    "FROM: This clause specifies the table or tables from which to retrieve data.\n",
    "JOIN: This clause is used to combine data from two or more tables based on a related column between them.\n",
    "WHERE: This clause is used to filter the data based on a specific condition.\n",
    "GROUP BY: This clause is used to group the data based on one or more columns.\n",
    "HAVING: This clause is used to filter the data after it has been grouped.\n",
    "SELECT: This clause is used to select the columns to retrieve data from the tables.\n",
    "DISTINCT: This clause is used to remove duplicates from the results.\n",
    "ORDER BY: This clause is used to sort the results based on one or more columns.\n",
    "LIMIT: This clause is used to limit the number of rows returned by the query."
   ]
  }
 ],
 "metadata": {
  "kernelspec": {
   "display_name": "Python 3 (ipykernel)",
   "language": "python",
   "name": "python3"
  },
  "language_info": {
   "codemirror_mode": {
    "name": "ipython",
    "version": 3
   },
   "file_extension": ".py",
   "mimetype": "text/x-python",
   "name": "python",
   "nbconvert_exporter": "python",
   "pygments_lexer": "ipython3",
   "version": "3.9.7"
  }
 },
 "nbformat": 4,
 "nbformat_minor": 5
}
