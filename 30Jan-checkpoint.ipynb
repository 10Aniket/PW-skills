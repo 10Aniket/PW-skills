{
 "cells": [
  {
   "cell_type": "markdown",
   "id": "fd34a0ac",
   "metadata": {},
   "source": [
    "Ans1"
   ]
  },
  {
   "cell_type": "code",
   "execution_count": 1,
   "id": "48e6baed",
   "metadata": {},
   "outputs": [
    {
     "name": "stdout",
     "output_type": "stream",
     "text": [
      "enter the marks : 85\n",
      "B\n"
     ]
    }
   ],
   "source": [
    "per = int(input('enter the marks : '))\n",
    "\n",
    "if per > 90:\n",
    "    print(\"A\")\n",
    "elif per >80 and per < 90:\n",
    "    print(\"B\")\n",
    "elif per >60 and per <= 80:\n",
    "    print(\"C\")\n",
    "elif per < 60:\n",
    "    print(\"D\")\n",
    "else:\n",
    "    pass"
   ]
  },
  {
   "cell_type": "markdown",
   "id": "e177422f",
   "metadata": {},
   "source": [
    "Ans2"
   ]
  },
  {
   "cell_type": "code",
   "execution_count": 2,
   "id": "c9f1a668",
   "metadata": {},
   "outputs": [
    {
     "name": "stdout",
     "output_type": "stream",
     "text": [
      "enter the marks : 75000\n",
      "10%\n"
     ]
    }
   ],
   "source": [
    "cost = int(input('enter the marks : '))\n",
    "\n",
    "if cost > 100000:\n",
    "    print(\"15%\")\n",
    "elif cost > 50000 and cost <= 100000:\n",
    "    print(\"10%\")\n",
    "elif cost <= 50000:\n",
    "    print(\"5%\")\n",
    "else:\n",
    "    pass"
   ]
  },
  {
   "cell_type": "markdown",
   "id": "6217df68",
   "metadata": {},
   "source": [
    "Ans3"
   ]
  },
  {
   "cell_type": "code",
   "execution_count": 3,
   "id": "a9acb47d",
   "metadata": {},
   "outputs": [
    {
     "name": "stdout",
     "output_type": "stream",
     "text": [
      "enter the marks : delhi\n",
      "Red Fort\n"
     ]
    }
   ],
   "source": [
    "city = str(input('enter the marks : ')).capitalize()\n",
    "\n",
    "if city == 'Delhi':\n",
    "    print('Red Fort')\n",
    "elif city == 'Agra':\n",
    "    print('Taj Mahal')\n",
    "elif city == 'Jaipur':\n",
    "    print('Jal Mahal')\n",
    "else:\n",
    "    print('type city name like Delhi,Agra or Jaipur')"
   ]
  },
  {
   "cell_type": "markdown",
   "id": "19dfcd23",
   "metadata": {},
   "source": [
    "Ans4 "
   ]
  },
  {
   "cell_type": "code",
   "execution_count": 4,
   "id": "36f9f4f6",
   "metadata": {},
   "outputs": [],
   "source": [
    "def func(number):\n",
    "    count = 0\n",
    "    while number > 10:\n",
    "        number = number /3\n",
    "        count += 1\n",
    "    return count"
   ]
  },
  {
   "cell_type": "code",
   "execution_count": 5,
   "id": "9a4f64df",
   "metadata": {},
   "outputs": [
    {
     "data": {
      "text/plain": [
       "1"
      ]
     },
     "execution_count": 5,
     "metadata": {},
     "output_type": "execute_result"
    }
   ],
   "source": [
    "func(18)"
   ]
  },
  {
   "cell_type": "markdown",
   "id": "5b191d7b",
   "metadata": {},
   "source": [
    "Ans7 : while loop to iterate over the elements of a list or to read input from the user until a valid value is entered."
   ]
  },
  {
   "cell_type": "code",
   "execution_count": 6,
   "id": "a45cb57e",
   "metadata": {},
   "outputs": [
    {
     "name": "stdout",
     "output_type": "stream",
     "text": [
      "What is your name? jphn\n",
      "Please enter a valid name.\n",
      "What is your name? john\n",
      "Hello, John!\n"
     ]
    }
   ],
   "source": [
    "while True:\n",
    "    name = input(\"What is your name? \").capitalize()\n",
    "    if name == 'John':\n",
    "        break\n",
    "    else:\n",
    "        print(\"Please enter a valid name.\")\n",
    "print(\"Hello, \" + name + \"!\")"
   ]
  },
  {
   "cell_type": "markdown",
   "id": "daa0209f",
   "metadata": {},
   "source": [
    "Ans6"
   ]
  },
  {
   "cell_type": "code",
   "execution_count": 7,
   "id": "e3599e09",
   "metadata": {},
   "outputs": [
    {
     "name": "stdout",
     "output_type": "stream",
     "text": [
      "*\n",
      "**\n",
      "***\n",
      "****\n",
      "*****\n"
     ]
    }
   ],
   "source": [
    "i = 1\n",
    "while i <= 5:\n",
    "    j = 1\n",
    "    while j <= i:\n",
    "        print(\"*\", end=\"\")\n",
    "        j += 1\n",
    "    print()\n",
    "    i += 1"
   ]
  },
  {
   "cell_type": "code",
   "execution_count": 8,
   "id": "da8989d3",
   "metadata": {},
   "outputs": [
    {
     "name": "stdout",
     "output_type": "stream",
     "text": [
      "1\n",
      "12\n",
      "123\n",
      "1234\n",
      "12345\n"
     ]
    }
   ],
   "source": [
    "i = 1\n",
    "while i <= 5:\n",
    "    j = 1\n",
    "    while j <= i:\n",
    "        print(j, end=\"\")\n",
    "        j += 1\n",
    "    print()\n",
    "    i += 1"
   ]
  },
  {
   "cell_type": "code",
   "execution_count": 9,
   "id": "5a669753",
   "metadata": {},
   "outputs": [
    {
     "name": "stdout",
     "output_type": "stream",
     "text": [
      "*****\n",
      "****\n",
      "***\n",
      "**\n",
      "*\n"
     ]
    }
   ],
   "source": [
    "i = 5\n",
    "while i >= 1:\n",
    "    j = 1\n",
    "    while j <= i:\n",
    "        print(\"*\", end=\"\")\n",
    "        j += 1\n",
    "    print()\n",
    "    i -= 1"
   ]
  },
  {
   "cell_type": "markdown",
   "id": "34889c99",
   "metadata": {},
   "source": [
    "Ans7"
   ]
  },
  {
   "cell_type": "code",
   "execution_count": 10,
   "id": "3b9a00b5",
   "metadata": {},
   "outputs": [
    {
     "name": "stdout",
     "output_type": "stream",
     "text": [
      "10\n",
      "9\n",
      "8\n",
      "7\n",
      "6\n",
      "5\n",
      "4\n",
      "3\n",
      "2\n",
      "1\n"
     ]
    }
   ],
   "source": [
    "num = 10\n",
    "while num >= 1:\n",
    "    print(num)\n",
    "    num -= 1"
   ]
  },
  {
   "cell_type": "code",
   "execution_count": null,
   "id": "e59c8eb7",
   "metadata": {},
   "outputs": [],
   "source": []
  },
  {
   "cell_type": "code",
   "execution_count": null,
   "id": "afb799c6",
   "metadata": {},
   "outputs": [],
   "source": []
  },
  {
   "cell_type": "code",
   "execution_count": null,
   "id": "79ad73b2",
   "metadata": {},
   "outputs": [],
   "source": []
  },
  {
   "cell_type": "code",
   "execution_count": null,
   "id": "36bbf0da",
   "metadata": {},
   "outputs": [],
   "source": []
  },
  {
   "cell_type": "code",
   "execution_count": null,
   "id": "4464e6c9",
   "metadata": {},
   "outputs": [],
   "source": []
  }
 ],
 "metadata": {
  "kernelspec": {
   "display_name": "Python 3 (ipykernel)",
   "language": "python",
   "name": "python3"
  },
  "language_info": {
   "codemirror_mode": {
    "name": "ipython",
    "version": 3
   },
   "file_extension": ".py",
   "mimetype": "text/x-python",
   "name": "python",
   "nbconvert_exporter": "python",
   "pygments_lexer": "ipython3",
   "version": "3.9.7"
  }
 },
 "nbformat": 4,
 "nbformat_minor": 5
}
