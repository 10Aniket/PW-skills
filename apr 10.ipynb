{
 "cells": [
  {
   "cell_type": "markdown",
   "id": "2e68dcab",
   "metadata": {},
   "source": [
    "ans1"
   ]
  },
  {
   "cell_type": "markdown",
   "id": "06bbac04",
   "metadata": {},
   "source": [
    "P(A) = 0.7, the probability that an employee uses the health insurance plan\n",
    "P(B|A) = 0.4, the probability that an employee who uses the plan is a smoker\n",
    "P(B), the probability that an employee is a smoker, is not given directly, but we can calculate it using the law of total probability:\n",
    "P(B) = P(B|A) * P(A) + P(B|not A) * P(not A)\n",
    "\n",
    "where not A is the complement of A, i.e., the event that an employee does not use the health insurance plan. Since we are not given P(B|not A), we cannot directly calculate P(B), but we can make a reasonable assumption that the proportion of smokers is the same among employees who do not use the health insurance plan. Therefore, we can assume that:\n",
    "\n",
    "P(B|not A) = P(B), the probability that an employee is a smoker, regardless of whether they use the health insurance plan or not.\n",
    "\n",
    "Substituting into the formula for P(B):\n",
    "\n",
    "P(B) = P(B|A) * P(A) + P(B) * P(not A)\n",
    "\n",
    "Simplifying:\n",
    "\n",
    "P(B) = P(B|A) * P(A) / (1 - P(A))\n",
    "\n",
    "Substituting all the values we know:\n",
    "\n",
    "P(B|A) = P(A|B) * P(B) / P(A)\n",
    "\n",
    "P(B) = 0.4 * 0.7 / (1 - 0.7) = 0.56\n",
    "\n",
    "P(A|B) = P(B|A) * P(A) / P(B) = 0.4 * 0.7 / 0.56 = 0.5\n",
    "\n",
    "Therefore, the probability that an employee is a smoker given that he/she uses the health insurance plan is 0.5"
   ]
  },
  {
   "cell_type": "markdown",
   "id": "ff6dc151",
   "metadata": {},
   "source": [
    "ans2"
   ]
  },
  {
   "cell_type": "markdown",
   "id": "cfcd580d",
   "metadata": {},
   "source": [
    "Bernoulli Naive Bayes assumes binary features and models their distribution as a Bernoulli distribution, while Multinomial Naive Bayes assumes count-based features and models their distribution as a multinomial distribution. Both algorithms make the same assumption of conditional independence among features given the class variable, but their different modeling assumptions make them suitable for different types of text classification tasks. Bernoulli Naive Bayes is typically used for binary classification tasks, such as sentiment analysis, while Multinomial Naive Bayes is used for multi-class classification tasks, such as topic classification."
   ]
  },
  {
   "cell_type": "markdown",
   "id": "574330be",
   "metadata": {},
   "source": [
    "ans3"
   ]
  },
  {
   "cell_type": "markdown",
   "id": "181d2b54",
   "metadata": {},
   "source": [
    "In Bernoulli Naive Bayes, missing values are typically handled by simply ignoring them during the training phase. That is, if a feature value is missing for a particular instance, the instance is still used for training, but the missing value is not used to update the probabilities of the corresponding feature.\n",
    "\n",
    "During the classification phase, if a feature value is missing for a new instance, Bernoulli Naive Bayes simply ignores the corresponding feature and calculates the class probabilities based on the available features. In other words, the missing feature is assumed to have no effect on the classification decision."
   ]
  },
  {
   "cell_type": "markdown",
   "id": "8f4cd4b9",
   "metadata": {},
   "source": [
    "ans4"
   ]
  },
  {
   "cell_type": "markdown",
   "id": "472bbb07",
   "metadata": {},
   "source": [
    "Yes, Gaussian Naive Bayes can be used for multi-class classification. In fact, Gaussian Naive Bayes is one of the most popular algorithms for multi-class classification tasks."
   ]
  },
  {
   "cell_type": "code",
   "execution_count": null,
   "id": "8eccae56",
   "metadata": {},
   "outputs": [],
   "source": []
  },
  {
   "cell_type": "code",
   "execution_count": null,
   "id": "d7bd4de1",
   "metadata": {},
   "outputs": [],
   "source": []
  },
  {
   "cell_type": "code",
   "execution_count": null,
   "id": "e73f2f8d",
   "metadata": {},
   "outputs": [],
   "source": []
  },
  {
   "cell_type": "code",
   "execution_count": null,
   "id": "ecafc7a0",
   "metadata": {},
   "outputs": [],
   "source": []
  },
  {
   "cell_type": "code",
   "execution_count": null,
   "id": "833f5dc4",
   "metadata": {},
   "outputs": [],
   "source": []
  },
  {
   "cell_type": "code",
   "execution_count": null,
   "id": "bb6fbd77",
   "metadata": {},
   "outputs": [],
   "source": []
  },
  {
   "cell_type": "code",
   "execution_count": null,
   "id": "710bb13d",
   "metadata": {},
   "outputs": [],
   "source": []
  },
  {
   "cell_type": "code",
   "execution_count": null,
   "id": "61f76b23",
   "metadata": {},
   "outputs": [],
   "source": []
  },
  {
   "cell_type": "code",
   "execution_count": null,
   "id": "8a36f91b",
   "metadata": {},
   "outputs": [],
   "source": []
  },
  {
   "cell_type": "code",
   "execution_count": null,
   "id": "04fbdd11",
   "metadata": {},
   "outputs": [],
   "source": []
  },
  {
   "cell_type": "code",
   "execution_count": null,
   "id": "0203fa71",
   "metadata": {},
   "outputs": [],
   "source": []
  },
  {
   "cell_type": "code",
   "execution_count": null,
   "id": "49cedd9d",
   "metadata": {},
   "outputs": [],
   "source": []
  },
  {
   "cell_type": "code",
   "execution_count": null,
   "id": "8667554c",
   "metadata": {},
   "outputs": [],
   "source": []
  },
  {
   "cell_type": "code",
   "execution_count": null,
   "id": "37f95992",
   "metadata": {},
   "outputs": [],
   "source": []
  },
  {
   "cell_type": "code",
   "execution_count": null,
   "id": "7ea4bc62",
   "metadata": {},
   "outputs": [],
   "source": []
  },
  {
   "cell_type": "code",
   "execution_count": null,
   "id": "07ff91e3",
   "metadata": {},
   "outputs": [],
   "source": []
  }
 ],
 "metadata": {
  "kernelspec": {
   "display_name": "Python 3 (ipykernel)",
   "language": "python",
   "name": "python3"
  },
  "language_info": {
   "codemirror_mode": {
    "name": "ipython",
    "version": 3
   },
   "file_extension": ".py",
   "mimetype": "text/x-python",
   "name": "python",
   "nbconvert_exporter": "python",
   "pygments_lexer": "ipython3",
   "version": "3.9.7"
  }
 },
 "nbformat": 4,
 "nbformat_minor": 5
}
