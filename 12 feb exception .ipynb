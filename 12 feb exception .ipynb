{
 "cells": [
  {
   "cell_type": "markdown",
   "id": "d533897d",
   "metadata": {},
   "source": [
    "Ans1 : In Python, an exception is an error that occurs during the execution of a program.\n",
    "It is a signal that indicates that something unexpected or incorrect has happened, which causes the program to stop running.\n",
    "When an exception occurs, Python raises an error message that includes the type of the exception,\n",
    "the line number where the exception occurred, and a description of the error. On the other hand syntax error stop the programm and throw error where something unexcepted happens because of the that the whole programm could'nt get exceuted."
   ]
  },
  {
   "cell_type": "markdown",
   "id": "27244286",
   "metadata": {},
   "source": [
    "Ans2 : when the exception not get handled the below code could'nt get exceuted"
   ]
  },
  {
   "cell_type": "code",
   "execution_count": null,
   "id": "595056de",
   "metadata": {},
   "outputs": [],
   "source": [
    "#for example\n",
    "def divide(a, b):\n",
    "    return a / b\n",
    "\n",
    "result = divide(10, 0)\n",
    "print(\"*\"*15)\n",
    "print(\"thankyou\")\n"
   ]
  },
  {
   "cell_type": "code",
   "execution_count": 16,
   "id": "dac5e85c",
   "metadata": {},
   "outputs": [
    {
     "name": "stdout",
     "output_type": "stream",
     "text": [
      "can't divide by zero\n",
      "***************\n"
     ]
    }
   ],
   "source": [
    "def divide(a, b):\n",
    "    try:\n",
    "        return a / b\n",
    "    except:\n",
    "        print(\"can't divide by zero\")\n",
    "\n",
    "result = divide(10, 0)\n",
    "print(\"*\"*15)\n",
    "\n"
   ]
  },
  {
   "cell_type": "markdown",
   "id": "8d43fec5",
   "metadata": {},
   "source": [
    "Ans3 : try and except block help to do handle the exception case "
   ]
  },
  {
   "cell_type": "code",
   "execution_count": 17,
   "id": "65bf3e96",
   "metadata": {},
   "outputs": [
    {
     "name": "stdout",
     "output_type": "stream",
     "text": [
      "can't divide by zero\n",
      "***************\n"
     ]
    }
   ],
   "source": [
    "def divide(a, b):\n",
    "    try:\n",
    "        return a / b\n",
    "    except:\n",
    "        print(\"can't divide by zero\")\n",
    "\n",
    "result = divide(10, 0)\n",
    "print(\"*\"*15)"
   ]
  },
  {
   "cell_type": "code",
   "execution_count": null,
   "id": "633cbb6e",
   "metadata": {},
   "outputs": [],
   "source": [
    "Ans4 : "
   ]
  },
  {
   "cell_type": "code",
   "execution_count": 38,
   "id": "72cd97b6",
   "metadata": {},
   "outputs": [
    {
     "name": "stdout",
     "output_type": "stream",
     "text": [
      "Enter the first number: 45\n",
      "Enter the second number: gjop]\n",
      "Error: Invalid input.\n",
      "thankyou........................\n"
     ]
    }
   ],
   "source": [
    "try:\n",
    "    num1 = int(input(\"Enter the first number: \"))\n",
    "    num2 = int(input(\"Enter the second number: \"))\n",
    "    result = num1 / num2\n",
    "except ValueError:# incase user input string\n",
    "    print(\"Error: Invalid input.\")\n",
    "except ZeroDivisionError:# incase user give input as zero\n",
    "    print(\"Error: Cannot divide by zero.\")\n",
    "else: # if input don't go in the exception block else will excuted\n",
    "    print(\"The result of dividing\", num1, \"by\", num2, \"is:\", result)\n",
    "finally: # this will always excuted\n",
    "    print(\"thankyou........................\")"
   ]
  },
  {
   "cell_type": "code",
   "execution_count": 46,
   "id": "97ca6346",
   "metadata": {},
   "outputs": [],
   "source": [
    "def password(name):\n",
    "    if name == \"snow\":\n",
    "        print(\"......welcome\")\n",
    "    else:\n",
    "        raise NameError"
   ]
  },
  {
   "cell_type": "code",
   "execution_count": 50,
   "id": "8d5dd59e",
   "metadata": {},
   "outputs": [
    {
     "ename": "NameError",
     "evalue": "",
     "output_type": "error",
     "traceback": [
      "\u001b[1;31m---------------------------------------------------------------------------\u001b[0m",
      "\u001b[1;31mNameError\u001b[0m                                 Traceback (most recent call last)",
      "\u001b[1;32m~\\AppData\\Local\\Temp/ipykernel_17248/1192164237.py\u001b[0m in \u001b[0;36m<cell line: 1>\u001b[1;34m()\u001b[0m\n\u001b[1;32m----> 1\u001b[1;33m \u001b[0mpassword\u001b[0m\u001b[1;33m(\u001b[0m\u001b[1;34m'jon'\u001b[0m\u001b[1;33m)\u001b[0m\u001b[1;33m\u001b[0m\u001b[1;33m\u001b[0m\u001b[0m\n\u001b[0m",
      "\u001b[1;32m~\\AppData\\Local\\Temp/ipykernel_17248/3270222265.py\u001b[0m in \u001b[0;36mpassword\u001b[1;34m(name)\u001b[0m\n\u001b[0;32m      3\u001b[0m         \u001b[0mprint\u001b[0m\u001b[1;33m(\u001b[0m\u001b[1;34m\"welcome\"\u001b[0m\u001b[1;33m)\u001b[0m\u001b[1;33m\u001b[0m\u001b[1;33m\u001b[0m\u001b[0m\n\u001b[0;32m      4\u001b[0m     \u001b[1;32melse\u001b[0m\u001b[1;33m:\u001b[0m\u001b[1;33m\u001b[0m\u001b[1;33m\u001b[0m\u001b[0m\n\u001b[1;32m----> 5\u001b[1;33m         \u001b[1;32mraise\u001b[0m \u001b[0mNameError\u001b[0m\u001b[1;33m\u001b[0m\u001b[1;33m\u001b[0m\u001b[0m\n\u001b[0m",
      "\u001b[1;31mNameError\u001b[0m: "
     ]
    }
   ],
   "source": [
    "password('jon')"
   ]
  },
  {
   "cell_type": "code",
   "execution_count": 51,
   "id": "d7e9f809",
   "metadata": {},
   "outputs": [],
   "source": [
    "def login(username, password):\n",
    "    if password == 'password':\n",
    "        raise InvalidPasswordException(\"Invalid password\")\n",
    "    else:\n",
    "        print(\"Login successful\")"
   ]
  },
  {
   "cell_type": "code",
   "execution_count": 56,
   "id": "3525f402",
   "metadata": {},
   "outputs": [
    {
     "name": "stdout",
     "output_type": "stream",
     "text": [
      "Enter a number: 7\n",
      "Exception occurred: Invalid Age\n"
     ]
    }
   ],
   "source": [
    "# define Python user-defined exceptions\n",
    "class InvalidAgeException(Exception):\n",
    "    \"Raised when the input value is less than 18\"\n",
    "    pass\n",
    "\n",
    "# you need to guess this number\n",
    "number = 18\n",
    "\n",
    "try:\n",
    "    input_num = int(input(\"Enter a number: \"))\n",
    "    if input_num < number:\n",
    "        raise InvalidAgeException\n",
    "    else:\n",
    "        print(\"Eligible to Vote\")\n",
    "        \n",
    "except InvalidAgeException:\n",
    "    print(\"Exception occurred: Invalid Age\")"
   ]
  },
  {
   "cell_type": "code",
   "execution_count": null,
   "id": "65f91e04",
   "metadata": {},
   "outputs": [],
   "source": []
  }
 ],
 "metadata": {
  "kernelspec": {
   "display_name": "Python 3 (ipykernel)",
   "language": "python",
   "name": "python3"
  },
  "language_info": {
   "codemirror_mode": {
    "name": "ipython",
    "version": 3
   },
   "file_extension": ".py",
   "mimetype": "text/x-python",
   "name": "python",
   "nbconvert_exporter": "python",
   "pygments_lexer": "ipython3",
   "version": "3.9.7"
  }
 },
 "nbformat": 4,
 "nbformat_minor": 5
}
