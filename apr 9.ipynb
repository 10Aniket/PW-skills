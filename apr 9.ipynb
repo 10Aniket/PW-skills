{
 "cells": [
  {
   "cell_type": "markdown",
   "id": "58349bb5",
   "metadata": {},
   "source": [
    "ans1"
   ]
  },
  {
   "cell_type": "markdown",
   "id": "39133ab0",
   "metadata": {},
   "source": [
    "Bayes' theorem is a mathematical formula used in probability theory and statistics. It describes the probability of an event based on prior knowledge or belief about the event and new evidence that may modify the probability."
   ]
  },
  {
   "cell_type": "markdown",
   "id": "a13429ed",
   "metadata": {},
   "source": [
    "ans2"
   ]
  },
  {
   "cell_type": "markdown",
   "id": "bcab24ee",
   "metadata": {},
   "source": [
    "P(A|B) = P(B|A) * P(A) / P(B)\n",
    "\n",
    "where P(A) and P(B) are the prior probabilities of events A and B, and P(B|A) is the conditional probability of B given A."
   ]
  },
  {
   "cell_type": "markdown",
   "id": "d2b1405f",
   "metadata": {},
   "source": [
    "ans3"
   ]
  },
  {
   "cell_type": "markdown",
   "id": "c7227dad",
   "metadata": {},
   "source": [
    "Bayes' theorem is often used in applications such as medical diagnosis, spam filtering, and machine learning. It provides a way to update the probability of a hypothesis as new evidence is collected, allowing us to make more informed decisions based on available information."
   ]
  },
  {
   "cell_type": "markdown",
   "id": "2b62fcf4",
   "metadata": {},
   "source": [
    "ans4"
   ]
  },
  {
   "cell_type": "markdown",
   "id": "276e0adf",
   "metadata": {},
   "source": [
    "Bayes' theorem is closely related to conditional probability. Conditional probability is the probability of an event given that another event has occurred. Bayes' theorem provides a way to update the probability of an event based on new evidence or information."
   ]
  },
  {
   "cell_type": "markdown",
   "id": "823772b7",
   "metadata": {},
   "source": [
    "ans5"
   ]
  },
  {
   "cell_type": "markdown",
   "id": "5b1b7ba0",
   "metadata": {},
   "source": [
    "There are three main types of Naive Bayes classifiers: Gaussian Naive Bayes, Multinomial Naive Bayes, and Bernoulli Naive Bayes. Each type of Naive Bayes classifier has its own assumptions and characteristics, and the choice of which one to use depends on the nature of the problem and the data available.\n",
    "\n",
    "Gaussian Naive Bayes: This classifier assumes that the features in the data follow a Gaussian (normal) distribution. It is suitable for continuous or real-valued data, where the feature values are numeric and can take on any value.\n",
    "\n",
    "Multinomial Naive Bayes: This classifier assumes that the features in the data are counts or frequencies, and follows a multinomial distribution. It is suitable for discrete data, where the feature values are integers and represent the occurrence of a particular event or category.\n",
    "\n",
    "Bernoulli Naive Bayes: This classifier assumes that the features in the data are binary, i.e., they take on only two values (0 or 1). It is suitable for binary or Boolean data, where the feature values represent the presence or absence of a particular feature."
   ]
  },
  {
   "cell_type": "markdown",
   "id": "b2211a2f",
   "metadata": {},
   "source": [
    "ans6"
   ]
  },
  {
   "cell_type": "markdown",
   "id": "85f69ebe",
   "metadata": {},
   "source": [
    "P(A|X1=3, X2=4) = P(X1=3|A) * P(X2=4|A) * P(A)\n",
    "\n",
    "= (4/10) * (3/10) * (1/2)\n",
    "\n",
    "= 0.06\n",
    "\n",
    "P(B|X1=3, X2=4) = P(X1=3|B) * P(X2=4|B) * P(B)\n",
    "\n",
    "= (1/7) * (3/7) * (1/2)\n",
    "\n",
    "= 0.013\n",
    "\n",
    "Since P(A|X1=3, X2=4) > P(B|X1=3, X2=4), Naive Bayes would predict the new instance to belong to class A.\n",
    "\n",
    "Therefore, the Naive Bayes classifier would predict that the new instance with features X1=3 and X2=4 belongs to class A."
   ]
  },
  {
   "cell_type": "code",
   "execution_count": null,
   "id": "a4fd73ce",
   "metadata": {},
   "outputs": [],
   "source": []
  }
 ],
 "metadata": {
  "kernelspec": {
   "display_name": "Python 3 (ipykernel)",
   "language": "python",
   "name": "python3"
  },
  "language_info": {
   "codemirror_mode": {
    "name": "ipython",
    "version": 3
   },
   "file_extension": ".py",
   "mimetype": "text/x-python",
   "name": "python",
   "nbconvert_exporter": "python",
   "pygments_lexer": "ipython3",
   "version": "3.9.7"
  }
 },
 "nbformat": 4,
 "nbformat_minor": 5
}
