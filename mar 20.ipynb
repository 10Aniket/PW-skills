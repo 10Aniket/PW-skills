{
 "cells": [
  {
   "cell_type": "markdown",
   "id": "e29f9f60",
   "metadata": {},
   "source": [
    "ans1"
   ]
  },
  {
   "cell_type": "markdown",
   "id": "98e99676",
   "metadata": {},
   "source": [
    "Encoding is the process of converting the data or a given sequence of characters, symbols, alphabets etc., into a specified format, for the secured transmission of data. Decoding is the reverse process of encoding which is to extract the information from the converted format."
   ]
  },
  {
   "cell_type": "markdown",
   "id": "62df262a",
   "metadata": {},
   "source": [
    "ans2"
   ]
  },
  {
   "cell_type": "markdown",
   "id": "ca00c948",
   "metadata": {},
   "source": [
    "Nominal encoding, also known as one-hot encoding, is a technique used to convert categorical data into a numerical format that can be used for machine learning algorithms. It involves creating a binary column for each unique value in the categorical variable, where the presence of the value is represented by a 1 and the absence is represented by a 0."
   ]
  },
  {
   "cell_type": "markdown",
   "id": "5eb29524",
   "metadata": {},
   "source": [
    "ans3"
   ]
  },
  {
   "cell_type": "markdown",
   "id": "83110ab8",
   "metadata": {},
   "source": [
    "Nominal encoding is preferred over one-hot encoding when the categorical variables have a large number of unique values. One-hot encoding can lead to an increase in the dimensionality of the dataset, which can be problematic when working with large datasets."
   ]
  },
  {
   "cell_type": "markdown",
   "id": "093a9d3b",
   "metadata": {},
   "source": [
    "ans4"
   ]
  },
  {
   "cell_type": "markdown",
   "id": "59a05a74",
   "metadata": {},
   "source": [
    "The choice of encoding technique depends on the nature of the categorical data and the requirements of the machine learning algorithm.\n",
    "\n",
    "If the categorical data is ordinal, meaning that there is an inherent order or ranking between the categories, ordinal encoding could be used.\n",
    "\n",
    "If the categorical data is nominal, meaning that there is no inherent order or ranking between the categories, one-hot encoding or nominal encoding could be used."
   ]
  },
  {
   "cell_type": "markdown",
   "id": "ec1c9eaa",
   "metadata": {},
   "source": [
    "ans5"
   ]
  },
  {
   "cell_type": "markdown",
   "id": "582bd220",
   "metadata": {},
   "source": [
    "If we use nominal encoding for the two categorical columns, we would need to create a new column for each unique value in each categorical column. Let's say the first categorical column has 4 unique values, and the second categorical column has 6 unique values. Then we would need to create 4 + 6 = 10 new columns.\n",
    "\n",
    "Therefore, the resulting dataset would have 1000 rows and 10 + 3 = 13 columns."
   ]
  },
  {
   "cell_type": "markdown",
   "id": "5d0a0268",
   "metadata": {},
   "source": [
    "ans6"
   ]
  },
  {
   "cell_type": "markdown",
   "id": "2df2b757",
   "metadata": {},
   "source": [
    "In the case of the animal dataset, if the species, habitat, and diet are categorical variables, one-hot encoding can be used to transform them into binary features. This would involve creating a new binary column for each unique category in the categorical variable. For example, if there are five unique species of animals, five new binary columns would be created, with a value of 1 in the appropriate column to indicate the species of the animal.\n",
    "\n",
    "One-hot encoding is preferred over nominal encoding when there is no inherent order or ranking among the categories in a categorical variable. In the case of the animal dataset, there is no natural ordering or ranking among the species, habitat, or diet categories, making one-hot encoding the more appropriate choice."
   ]
  },
  {
   "cell_type": "markdown",
   "id": "6bad5999",
   "metadata": {},
   "source": [
    "ans7"
   ]
  },
  {
   "cell_type": "code",
   "execution_count": null,
   "id": "36125b55",
   "metadata": {},
   "outputs": [],
   "source": []
  },
  {
   "cell_type": "code",
   "execution_count": null,
   "id": "bf8a98d3",
   "metadata": {},
   "outputs": [],
   "source": []
  }
 ],
 "metadata": {
  "kernelspec": {
   "display_name": "Python 3 (ipykernel)",
   "language": "python",
   "name": "python3"
  },
  "language_info": {
   "codemirror_mode": {
    "name": "ipython",
    "version": 3
   },
   "file_extension": ".py",
   "mimetype": "text/x-python",
   "name": "python",
   "nbconvert_exporter": "python",
   "pygments_lexer": "ipython3",
   "version": "3.9.7"
  }
 },
 "nbformat": 4,
 "nbformat_minor": 5
}
