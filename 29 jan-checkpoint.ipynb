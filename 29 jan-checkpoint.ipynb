{
 "cells": [
  {
   "cell_type": "markdown",
   "id": "3d535f17",
   "metadata": {},
   "source": [
    "Ans1 : Guido van Rossum is the developer of python prgramming language in 1991"
   ]
  },
  {
   "cell_type": "markdown",
   "id": "eb173ac9",
   "metadata": {},
   "source": [
    "Ans2 : Python support three programming paradigms: Imperative, Functional, and Object-Oriented"
   ]
  },
  {
   "cell_type": "markdown",
   "id": "51c87cd6",
   "metadata": {},
   "source": [
    "Ans3 :Yes python is case sensitive when dealing with identifiers"
   ]
  },
  {
   "cell_type": "markdown",
   "id": "dad16701",
   "metadata": {},
   "source": [
    "Ans4 : .py is the correct extension of pyhton file"
   ]
  },
  {
   "cell_type": "markdown",
   "id": "5914c55c",
   "metadata": {},
   "source": [
    "Ans5 : pthon is interpreted language"
   ]
  },
  {
   "cell_type": "markdown",
   "id": "1c87ec73",
   "metadata": {},
   "source": [
    "Ans6 : Python is an interpreted, object-oriented, high-level programming language with dynamic semantics."
   ]
  },
  {
   "cell_type": "markdown",
   "id": "82bfc010",
   "metadata": {},
   "source": [
    "Ans7 : # is used to give single line comment in python"
   ]
  },
  {
   "cell_type": "code",
   "execution_count": 1,
   "id": "ca0cac82",
   "metadata": {},
   "outputs": [
    {
     "data": {
      "text/plain": [
       "'3.9.7 (tags/v3.9.7:1016ef3, Aug 30 2021, 20:19:38) [MSC v.1929 64 bit (AMD64)]'"
      ]
     },
     "execution_count": 1,
     "metadata": {},
     "output_type": "execute_result"
    }
   ],
   "source": [
    "#Ans8 : \n",
    "import sys\n",
    "sys.version"
   ]
  },
  {
   "cell_type": "markdown",
   "id": "35a21477",
   "metadata": {},
   "source": [
    "Ans9 : Anonymous functions in Python are also known as lambda functions."
   ]
  },
  {
   "cell_type": "markdown",
   "id": "06a525f1",
   "metadata": {},
   "source": [
    "Ans10 : pip stands for \"Preferred Installer Program\""
   ]
  },
  {
   "cell_type": "markdown",
   "id": "3dc106b2",
   "metadata": {},
   "source": [
    "Ans11 : bin(), bool(), bytes() etc."
   ]
  },
  {
   "cell_type": "markdown",
   "id": "915cf984",
   "metadata": {},
   "source": [
    "Ans12 : An identifier can have a maximum length of 79 characters in Python."
   ]
  },
  {
   "cell_type": "markdown",
   "id": "beb42de3",
   "metadata": {},
   "source": [
    "Ans13 : pyhton have a many build-in pacakges which help to do Data science.\n",
    "Scientific and mathematical computing.\n",
    "Web development.\n",
    "Finance and trading."
   ]
  },
  {
   "cell_type": "markdown",
   "id": "889188b3",
   "metadata": {},
   "source": [
    "Ans14 : Memory management in Python involves a private heap containing all Python objects and data structures.\n",
    "        The management of this private heap is ensured internally by the Python memory manager."
   ]
  },
  {
   "cell_type": "markdown",
   "id": "f5f1364d",
   "metadata": {},
   "source": [
    "Ans15 : step1 go on www.python.org and downlod the python \n",
    "        step2 check the add path while installing the pyhton"
   ]
  },
  {
   "cell_type": "markdown",
   "id": "7356fced",
   "metadata": {},
   "source": [
    "Ans16 : yes indention is required in pthon and when the indention is not given in the required block of code.\n",
    "    it will give indention error"
   ]
  }
 ],
 "metadata": {
  "kernelspec": {
   "display_name": "Python 3 (ipykernel)",
   "language": "python",
   "name": "python3"
  },
  "language_info": {
   "codemirror_mode": {
    "name": "ipython",
    "version": 3
   },
   "file_extension": ".py",
   "mimetype": "text/x-python",
   "name": "python",
   "nbconvert_exporter": "python",
   "pygments_lexer": "ipython3",
   "version": "3.9.7"
  }
 },
 "nbformat": 4,
 "nbformat_minor": 5
}
