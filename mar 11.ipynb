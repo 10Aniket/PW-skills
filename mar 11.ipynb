{
 "cells": [
  {
   "cell_type": "markdown",
   "id": "b48f2e1e",
   "metadata": {},
   "source": [
    "Ans1"
   ]
  },
  {
   "cell_type": "markdown",
   "id": "1c25e7df",
   "metadata": {},
   "source": [
    "A z-test is used when the population variance is known and the sample size is large (typically greater than 30). In a z-test, the standard error is calculated using the population variance and the null hypothesis is tested using a standard normal distribution.\n",
    "\n",
    "For example, if a researcher wants to test the hypothesis that the average weight of adult males in a particular country is 180 pounds, and the population variance is known to be 25 pounds, a z-test can be used if the sample size is large enough.\n",
    "\n",
    "On the other hand, a t-test is used when the population variance is unknown and the sample size is small (typically less than 30). In a t-test, the standard error is calculated using the sample variance and the null hypothesis is tested using a t-distribution.\n",
    "\n",
    "For example, if a researcher wants to test the hypothesis that the average IQ of a group of students is 100, and the population variance is unknown, a t-test can be used if the sample size is small."
   ]
  },
  {
   "cell_type": "markdown",
   "id": "3527a2d5",
   "metadata": {},
   "source": [
    "Ans2"
   ]
  },
  {
   "cell_type": "markdown",
   "id": "f9211e1e",
   "metadata": {},
   "source": [
    "The main difference between one-tailed and two-tailed tests is that one-tailed tests will only have one critical region whereas two-tailed tests will have two critical regions. If we require a 100(1−α) 100 ( 1 − α ) % confidence interval we have to make some adjustments when using a two-tailed test."
   ]
  },
  {
   "cell_type": "markdown",
   "id": "2ac0b9b7",
   "metadata": {},
   "source": [
    "Ans3"
   ]
  },
  {
   "cell_type": "markdown",
   "id": "81bc5239",
   "metadata": {},
   "source": [
    "Type 1 error occurs when a true null hypothesis is incorrectly rejected, while Type 2 error occurs when a false null hypothesis is incorrectly accepted. Both types of errors can have serious consequences and it is important to consider them when interpreting the results of a hypothesis test."
   ]
  },
  {
   "cell_type": "markdown",
   "id": "fc5be496",
   "metadata": {},
   "source": [
    "Ans4"
   ]
  },
  {
   "cell_type": "markdown",
   "id": "d220bd89",
   "metadata": {},
   "source": [
    "Bayes theorem gives the probability of an “event” with the given information on “tests”. There is a difference between “events” and “tests”. For example there is a test for liver disease, which is different from actually having the liver disease, i.e. an event. Rare events might be having a higher false positive rate."
   ]
  },
  {
   "cell_type": "markdown",
   "id": "f6576301",
   "metadata": {},
   "source": [
    "Ans5"
   ]
  },
  {
   "cell_type": "markdown",
   "id": "98ddeca6",
   "metadata": {},
   "source": [
    "Confidence, in statistics, is another way to describe probability. For example, if you construct a confidence interval with a 95% confidence level, you are confident that 95 out of 100 times the estimate will fall between the upper and lower values specified by the confidence interval."
   ]
  },
  {
   "cell_type": "markdown",
   "id": "65c9d016",
   "metadata": {},
   "source": [
    "Ans6"
   ]
  },
  {
   "cell_type": "markdown",
   "id": "b70b64bc",
   "metadata": {},
   "source": [
    "Here is an example problem to demonstrate the use of Bayes' Theorem:\n",
    "\n",
    "Suppose a certain disease affects 1% of the population. A medical test is available that correctly identifies the disease 95% of the time (true positive rate) and incorrectly identifies the disease in 3% of non-diseased individuals (false positive rate). If a person tests positive for the disease, what is the probability that they actually have the disease?\n",
    "\n",
    "Solution:\n",
    "\n",
    "Let A = the event that a person has the disease\n",
    "Let B = the event that a person tests positive for the disease\n",
    "\n",
    "From the problem statement, we know that P(A) = 0.01 (the prior probability of having the disease), P(B|A) = 0.95 (the true positive rate), and P(B|not A) = 0.03 (the false positive rate).\n",
    "\n",
    "To use Bayes' Theorem, we need to calculate P(B), which is the probability of testing positive for the disease, regardless of whether or not the person actually has the disease. This can be calculated using the Law of Total Probability:\n",
    "\n",
    "P(B) = P(B|A) * P(A) + P(B|not A) * P(not A)\n",
    "P(not A) = 1 - P(A) = 0.99 (the prior probability of not having the disease)\n",
    "\n",
    "P(B) = 0.95 * 0.01 + 0.03 * 0.99 = 0.0292\n",
    "\n",
    "Now we can use Bayes' Theorem to calculate P(A|B):\n",
    "\n",
    "P(A|B) = P(B|A) * P(A) / P(B)\n",
    "\n",
    "P(A|B) = 0.95 * 0.01 / 0.0292 = 0.326\n",
    "\n",
    "Therefore, the probability that a person who tests positive for the disease actually has the disease is approximately 32.6%."
   ]
  },
  {
   "cell_type": "markdown",
   "id": "1a1b4477",
   "metadata": {},
   "source": [
    "Ans7"
   ]
  },
  {
   "cell_type": "markdown",
   "id": "c8e91f57",
   "metadata": {},
   "source": [
    "CI = 50 ± 1.96 * (5 / √n)\n",
    "\n",
    "Since the sample size is not given, we cannot calculate the exact confidence interval. However, we can still interpret the results based on what we know.\n",
    "\n",
    "Therefore, we can interpret the 95% confidence interval for our given sample as an estimate of the range of values within which the true population mean is likely to fall, with a level of confidence of 95%.\n"
   ]
  },
  {
   "cell_type": "markdown",
   "id": "e8f0db50",
   "metadata": {},
   "source": [
    "Ans8"
   ]
  },
  {
   "cell_type": "markdown",
   "id": "c9047f68",
   "metadata": {},
   "source": [
    "The margin of error is a measure of the amount of error or uncertainty that is present in an estimate of a population parameter, such as a mean or proportion, based on a sample of data. In the context of a confidence interval, the margin of error is the distance between the point estimate (e.g., sample mean) and the upper or lower bound of the interval.\n",
    "\n",
    "Using the formula for the margin of error:\n",
    "\n",
    "Margin of error = z* (σ / √n)\n",
    "\n",
    "For both samples, we have z* = 1.96 for a 95% confidence interval, and σ = 2.5.\n",
    "\n",
    "For the first sample:\n",
    "Margin of error = 1.96 * (2.5 / √50) ≈ 0.70\n",
    "\n",
    "For the second sample:\n",
    "Margin of error = 1.96 * (2.5 / √100) ≈ 0.49"
   ]
  },
  {
   "cell_type": "markdown",
   "id": "715c0fc1",
   "metadata": {},
   "source": [
    "Ans9"
   ]
  },
  {
   "cell_type": "markdown",
   "id": "b0050850",
   "metadata": {},
   "source": [
    "z = (75 - 70) / 5 = 1\n",
    "\n",
    "This means that the data point of 75 is one standard deviation above the population mean of 70.\n",
    "\n",
    "The z-score tells us how many standard deviations a data point is from the population mean. A positive z-score indicates that the data point is above the mean, while a negative z-score indicates that the data point is below the mean.\n",
    "\n",
    "In this case, a z-score of 1 means that the data point of 75 is one standard deviation above the population mean, which indicates that it is relatively far from the center of the distribution. The z-score also allows us to compare the relative positions of different data points from the same distribution, even if they are measured on different scales."
   ]
  },
  {
   "cell_type": "markdown",
   "id": "0d085cb0",
   "metadata": {},
   "source": [
    "Ans10"
   ]
  },
  {
   "cell_type": "markdown",
   "id": "8fcb3bb3",
   "metadata": {},
   "source": [
    "The degrees of freedom for a one-sample t-test with n - 1 degrees of freedom is 49. Using a t-distribution table or calculator with 49 degrees of freedom, the p-value is found to be less than 0.001 (p < 0.001).\n",
    "\n",
    "Step 4: Make a decision and interpret the results\n",
    "\n",
    "Since the p-value (less than 0.001) is less than the level of significance (0.05), we reject the null hypothesis. We have sufficient evidence to conclude that the weight loss drug is significantly effective at a 95% confidence level.\n",
    "\n",
    "We can interpret the results as follows: Based on the sample of 50 participants, we can say with 95% confidence that the true mean weight loss of the population is greater than zero. In other words, the weight loss drug is effective in reducing weight, with an average weight loss of 6 pounds among the participants in the study."
   ]
  },
  {
   "cell_type": "markdown",
   "id": "8134d256",
   "metadata": {},
   "source": [
    "Ans11"
   ]
  },
  {
   "cell_type": "markdown",
   "id": "8b93bb84",
   "metadata": {},
   "source": [
    "p = 0.65\n",
    "z* = 1.96\n",
    "n = 500\n",
    "\n",
    "CI = 0.65 ± 1.96sqrt(0.65(1-0.65)/500)\n",
    "CI = 0.65 ± 0.0456\n",
    "\n",
    "The 95% confidence interval for the true proportion of people who are satisfied with their job is (0.6044, 0.6956).\n",
    "\n",
    "Interpretation: We can say with 95% confidence that the true proportion of people who are satisfied with their job is between 60.44% and 69.56%. This means that if we were to repeat the survey many times and calculate a 95% confidence interval each time, we would expect the true proportion to be within this range in 95% of the intervals."
   ]
  },
  {
   "cell_type": "markdown",
   "id": "85afdcfe",
   "metadata": {},
   "source": [
    "Ans12"
   ]
  },
  {
   "cell_type": "markdown",
   "id": "12563d3f",
   "metadata": {},
   "source": [
    "s_pool = sqrt(((nA-1)*sA^2 + (nB-1)*sB^2) / (nA+nB-2))\n",
    "\n",
    "x̄A = 85\n",
    "sA = 6\n",
    "nA = ?\n",
    "x̄B = 82\n",
    "sB = 5\n",
    "nB = ?\n",
    "α = 0.01\n",
    "\n",
    "s_pool = sqrt(((30-1)*6^2 + (30-1)*5^2) / (30+30-2)) = 5.395\n",
    "\n",
    "t = (85 - 82) / (5.395 * sqrt(1/30 + 1/30)) = 2.63\n",
    "\n",
    "The degrees of freedom for the two-sample t-test is:\n",
    "\n",
    "df = nA + nB - 2 = 58\n",
    "\n",
    "Using a t-table or a calculator, we can find the critical value for a two-tailed test with α = 0.01 and df = 58 to be ±2.660. Since our test statistic (2.63) falls outside the critical value range, we reject the null hypothesis."
   ]
  },
  {
   "cell_type": "markdown",
   "id": "c9ad021c",
   "metadata": {},
   "source": [
    "Ans13"
   ]
  },
  {
   "cell_type": "markdown",
   "id": "af75c024",
   "metadata": {},
   "source": [
    "CI = x̄ ± z*(σ/√n)\n",
    "\n",
    "x̄ = 65\n",
    "σ = 8\n",
    "n = 50\n",
    "z = 1.645 (from a z-table for a 90% confidence level)\n",
    "\n",
    "CI = 65 ± 1.645*(8/√50) = (62.56, 67.44)\n",
    "\n",
    "Interpretation: We are 90% confident that the true population mean is between 62.56 and 67.44."
   ]
  },
  {
   "cell_type": "code",
   "execution_count": null,
   "id": "faaaeba9",
   "metadata": {},
   "outputs": [],
   "source": []
  }
 ],
 "metadata": {
  "kernelspec": {
   "display_name": "Python 3 (ipykernel)",
   "language": "python",
   "name": "python3"
  },
  "language_info": {
   "codemirror_mode": {
    "name": "ipython",
    "version": 3
   },
   "file_extension": ".py",
   "mimetype": "text/x-python",
   "name": "python",
   "nbconvert_exporter": "python",
   "pygments_lexer": "ipython3",
   "version": "3.9.7"
  }
 },
 "nbformat": 4,
 "nbformat_minor": 5
}
