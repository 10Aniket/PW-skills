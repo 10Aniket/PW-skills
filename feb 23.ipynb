{
 "cells": [
  {
   "cell_type": "code",
   "execution_count": 1,
   "id": "c52933c8",
   "metadata": {},
   "outputs": [],
   "source": [
    "import pandas as pd"
   ]
  },
  {
   "cell_type": "markdown",
   "id": "244d1051",
   "metadata": {},
   "source": [
    "Ans1"
   ]
  },
  {
   "cell_type": "code",
   "execution_count": 2,
   "id": "4879611e",
   "metadata": {},
   "outputs": [
    {
     "name": "stdout",
     "output_type": "stream",
     "text": [
      "0     4\n",
      "1     8\n",
      "2    15\n",
      "3    16\n",
      "4    23\n",
      "5    42\n",
      "dtype: int64\n"
     ]
    }
   ],
   "source": [
    "data = [4, 8, 15, 16, 23, 42]\n",
    "series = pd.Series(data)\n",
    "print(series)\n"
   ]
  },
  {
   "cell_type": "markdown",
   "id": "018665a3",
   "metadata": {},
   "source": [
    "Ans2"
   ]
  },
  {
   "cell_type": "code",
   "execution_count": 3,
   "id": "4c961e13",
   "metadata": {},
   "outputs": [
    {
     "name": "stdout",
     "output_type": "stream",
     "text": [
      "0     10\n",
      "1     20\n",
      "2     30\n",
      "3     40\n",
      "4     50\n",
      "5     60\n",
      "6     70\n",
      "7     80\n",
      "8     90\n",
      "9    100\n",
      "dtype: int64\n"
     ]
    }
   ],
   "source": [
    "my_list = [10, 20, 30, 40, 50, 60, 70, 80, 90, 100]\n",
    "my_series = pd.Series(my_list)\n",
    "print(my_series)\n"
   ]
  },
  {
   "cell_type": "markdown",
   "id": "a3949951",
   "metadata": {},
   "source": [
    "Ans3"
   ]
  },
  {
   "cell_type": "code",
   "execution_count": 6,
   "id": "475dde37",
   "metadata": {},
   "outputs": [
    {
     "data": {
      "text/html": [
       "<div>\n",
       "<style scoped>\n",
       "    .dataframe tbody tr th:only-of-type {\n",
       "        vertical-align: middle;\n",
       "    }\n",
       "\n",
       "    .dataframe tbody tr th {\n",
       "        vertical-align: top;\n",
       "    }\n",
       "\n",
       "    .dataframe thead th {\n",
       "        text-align: right;\n",
       "    }\n",
       "</style>\n",
       "<table border=\"1\" class=\"dataframe\">\n",
       "  <thead>\n",
       "    <tr style=\"text-align: right;\">\n",
       "      <th></th>\n",
       "      <th>Name</th>\n",
       "      <th>Age</th>\n",
       "      <th>Gender</th>\n",
       "    </tr>\n",
       "  </thead>\n",
       "  <tbody>\n",
       "    <tr>\n",
       "      <th>0</th>\n",
       "      <td>Alice</td>\n",
       "      <td>25</td>\n",
       "      <td>Female</td>\n",
       "    </tr>\n",
       "    <tr>\n",
       "      <th>1</th>\n",
       "      <td>Bob</td>\n",
       "      <td>30</td>\n",
       "      <td>Male</td>\n",
       "    </tr>\n",
       "    <tr>\n",
       "      <th>2</th>\n",
       "      <td>Claire</td>\n",
       "      <td>27</td>\n",
       "      <td>Female</td>\n",
       "    </tr>\n",
       "  </tbody>\n",
       "</table>\n",
       "</div>"
      ],
      "text/plain": [
       "     Name  Age  Gender\n",
       "0   Alice   25  Female\n",
       "1     Bob   30    Male\n",
       "2  Claire   27  Female"
      ]
     },
     "execution_count": 6,
     "metadata": {},
     "output_type": "execute_result"
    }
   ],
   "source": [
    "dict1 = {\"Name\":['Alice','Bob',\"Claire\"],\"Age\":[25,30,27],\"Gender\":[\"Female\",\"Male\",\"Female\"]}\n",
    "df = pd.DataFrame(dict1)\n",
    "df"
   ]
  },
  {
   "cell_type": "markdown",
   "id": "22587ad7",
   "metadata": {},
   "source": [
    "Ans4"
   ]
  },
  {
   "cell_type": "markdown",
   "id": "6fa70804",
   "metadata": {},
   "source": [
    "In Pandas, a DataFrame is a two-dimensional labeled data structure with columns of potentially different types.\n",
    "It is similar to a spreadsheet or SQL table, and is one of the most commonly used Pandas objects for data analysis.\n",
    "\n",
    "A DataFrame is different from a Pandas Series in that a Series is a one-dimensional labeled array that can hold any data type,\n",
    "while a DataFrame is a two-dimensional labeled data structure that consists of rows and columns, where each column can have\n",
    "a different data type."
   ]
  },
  {
   "cell_type": "code",
   "execution_count": 8,
   "id": "4dbc7437",
   "metadata": {},
   "outputs": [
    {
     "name": "stdout",
     "output_type": "stream",
     "text": [
      "0         apple\n",
      "1        banana\n",
      "2        cherry\n",
      "3          date\n",
      "4    elderberry\n",
      "dtype: object\n",
      "******************************\n"
     ]
    },
    {
     "data": {
      "text/html": [
       "<div>\n",
       "<style scoped>\n",
       "    .dataframe tbody tr th:only-of-type {\n",
       "        vertical-align: middle;\n",
       "    }\n",
       "\n",
       "    .dataframe tbody tr th {\n",
       "        vertical-align: top;\n",
       "    }\n",
       "\n",
       "    .dataframe thead th {\n",
       "        text-align: right;\n",
       "    }\n",
       "</style>\n",
       "<table border=\"1\" class=\"dataframe\">\n",
       "  <thead>\n",
       "    <tr style=\"text-align: right;\">\n",
       "      <th></th>\n",
       "      <th>fruits</th>\n",
       "      <th>count</th>\n",
       "      <th>price</th>\n",
       "    </tr>\n",
       "  </thead>\n",
       "  <tbody>\n",
       "    <tr>\n",
       "      <th>0</th>\n",
       "      <td>apple</td>\n",
       "      <td>10</td>\n",
       "      <td>0.50</td>\n",
       "    </tr>\n",
       "    <tr>\n",
       "      <th>1</th>\n",
       "      <td>banana</td>\n",
       "      <td>5</td>\n",
       "      <td>0.25</td>\n",
       "    </tr>\n",
       "    <tr>\n",
       "      <th>2</th>\n",
       "      <td>cherry</td>\n",
       "      <td>12</td>\n",
       "      <td>0.75</td>\n",
       "    </tr>\n",
       "    <tr>\n",
       "      <th>3</th>\n",
       "      <td>date</td>\n",
       "      <td>8</td>\n",
       "      <td>1.00</td>\n",
       "    </tr>\n",
       "    <tr>\n",
       "      <th>4</th>\n",
       "      <td>elderberry</td>\n",
       "      <td>4</td>\n",
       "      <td>0.10</td>\n",
       "    </tr>\n",
       "  </tbody>\n",
       "</table>\n",
       "</div>"
      ],
      "text/plain": [
       "       fruits  count  price\n",
       "0       apple     10   0.50\n",
       "1      banana      5   0.25\n",
       "2      cherry     12   0.75\n",
       "3        date      8   1.00\n",
       "4  elderberry      4   0.10"
      ]
     },
     "execution_count": 8,
     "metadata": {},
     "output_type": "execute_result"
    }
   ],
   "source": [
    "import pandas as pd\n",
    "\n",
    "# Create a Pandas Series\n",
    "fruits = pd.Series(['apple', 'banana', 'cherry', 'date', 'elderberry'])\n",
    "\n",
    "# Create a Pandas DataFrame\n",
    "df = pd.DataFrame({'fruits': ['apple', 'banana', 'cherry', 'date', 'elderberry'],\n",
    "                   'count': [10, 5, 12, 8, 4],\n",
    "                   'price': [0.5, 0.25, 0.75, 1.0, 0.1]})\n",
    "\n",
    "# Print the Series and DataFrame\n",
    "print(fruits)\n",
    "print(\"*\"*30)\n",
    "df\n"
   ]
  },
  {
   "cell_type": "markdown",
   "id": "533d4bd6",
   "metadata": {},
   "source": [
    "Ans5"
   ]
  },
  {
   "cell_type": "code",
   "execution_count": 10,
   "id": "77daad25",
   "metadata": {},
   "outputs": [
    {
     "name": "stdout",
     "output_type": "stream",
     "text": [
      "       fruits  count  price\n",
      "0       apple     10   0.50\n",
      "1      banana      5   0.25\n",
      "2      cherry     12   0.75\n",
      "3        date      8   1.00\n",
      "4  elderberry      4   0.10\n",
      "******************************\n",
      "       fruits  count  price\n",
      "0       apple     10   0.50\n",
      "1      banana      5   0.25\n",
      "2      cherry     12   0.75\n",
      "3        date      8   1.00\n",
      "4  elderberry      4   0.10\n",
      "******************************\n",
      "<class 'pandas.core.frame.DataFrame'>\n",
      "RangeIndex: 5 entries, 0 to 4\n",
      "Data columns (total 3 columns):\n",
      " #   Column  Non-Null Count  Dtype  \n",
      "---  ------  --------------  -----  \n",
      " 0   fruits  5 non-null      object \n",
      " 1   count   5 non-null      int64  \n",
      " 2   price   5 non-null      float64\n",
      "dtypes: float64(1), int64(1), object(1)\n",
      "memory usage: 248.0+ bytes\n",
      "None\n",
      "******************************\n",
      "(5, 3)\n",
      "******************************\n",
      "          count     price\n",
      "count   5.00000  5.000000\n",
      "mean    7.80000  0.520000\n",
      "std     3.34664  0.365034\n",
      "min     4.00000  0.100000\n",
      "25%     5.00000  0.250000\n",
      "50%     8.00000  0.500000\n",
      "75%    10.00000  0.750000\n",
      "max    12.00000  1.000000\n",
      "******************************\n",
      "          count     price\n",
      "count  1.000000  0.689648\n",
      "price  0.689648  1.000000\n"
     ]
    }
   ],
   "source": [
    "print(df.head())\n",
    "print(\"*\"*30)\n",
    "print(df.tail())\n",
    "print(\"*\"*30)\n",
    "print(df.info())\n",
    "print(\"*\"*30)\n",
    "print(df.shape)\n",
    "print(\"*\"*30)\n",
    "print(df.describe())\n",
    "print(\"*\"*30)\n",
    "print(df.corr())"
   ]
  },
  {
   "cell_type": "markdown",
   "id": "5e2a9aec",
   "metadata": {},
   "source": [
    "Ans6"
   ]
  },
  {
   "cell_type": "markdown",
   "id": "78182b9c",
   "metadata": {},
   "source": [
    "Both Series and DataFrame are mutable in nature in Pandas, while Panel is deprecated in the latest version of Pandas and\n",
    "has been replaced by Panel4D and PanelND. However, even Panel4D and PanelND are also mutable in nature.\n",
    "\n",
    "In other words, all three - Series, DataFrame, and Panel(deprecated) - are mutable in nature."
   ]
  },
  {
   "cell_type": "markdown",
   "id": "95a3206a",
   "metadata": {},
   "source": [
    "Ans7"
   ]
  },
  {
   "cell_type": "code",
   "execution_count": 12,
   "id": "87bc73e2",
   "metadata": {},
   "outputs": [
    {
     "data": {
      "text/html": [
       "<div>\n",
       "<style scoped>\n",
       "    .dataframe tbody tr th:only-of-type {\n",
       "        vertical-align: middle;\n",
       "    }\n",
       "\n",
       "    .dataframe tbody tr th {\n",
       "        vertical-align: top;\n",
       "    }\n",
       "\n",
       "    .dataframe thead th {\n",
       "        text-align: right;\n",
       "    }\n",
       "</style>\n",
       "<table border=\"1\" class=\"dataframe\">\n",
       "  <thead>\n",
       "    <tr style=\"text-align: right;\">\n",
       "      <th></th>\n",
       "      <th>Name</th>\n",
       "      <th>Age</th>\n",
       "      <th>Country</th>\n",
       "    </tr>\n",
       "  </thead>\n",
       "  <tbody>\n",
       "    <tr>\n",
       "      <th>0</th>\n",
       "      <td>Alice</td>\n",
       "      <td>25</td>\n",
       "      <td>USA</td>\n",
       "    </tr>\n",
       "    <tr>\n",
       "      <th>1</th>\n",
       "      <td>Bob</td>\n",
       "      <td>30</td>\n",
       "      <td>Canada</td>\n",
       "    </tr>\n",
       "    <tr>\n",
       "      <th>2</th>\n",
       "      <td>Charlie</td>\n",
       "      <td>35</td>\n",
       "      <td>UK</td>\n",
       "    </tr>\n",
       "    <tr>\n",
       "      <th>3</th>\n",
       "      <td>David</td>\n",
       "      <td>40</td>\n",
       "      <td>Australia</td>\n",
       "    </tr>\n",
       "  </tbody>\n",
       "</table>\n",
       "</div>"
      ],
      "text/plain": [
       "      Name  Age    Country\n",
       "0    Alice   25        USA\n",
       "1      Bob   30     Canada\n",
       "2  Charlie   35         UK\n",
       "3    David   40  Australia"
      ]
     },
     "execution_count": 12,
     "metadata": {},
     "output_type": "execute_result"
    }
   ],
   "source": [
    "names = pd.Series(['Alice', 'Bob', 'Charlie', 'David'])\n",
    "\n",
    "ages = pd.Series([25, 30, 35, 40])\n",
    "\n",
    "countries = pd.Series(['USA', 'Canada', 'UK', 'Australia'])\n",
    "\n",
    "df = pd.concat([names, ages, countries], axis=1)\n",
    "\n",
    "df.columns = ['Name', 'Age', 'Country']\n",
    "\n",
    "# Print the resulting DataFrame\n",
    "df\n"
   ]
  }
 ],
 "metadata": {
  "kernelspec": {
   "display_name": "Python 3 (ipykernel)",
   "language": "python",
   "name": "python3"
  },
  "language_info": {
   "codemirror_mode": {
    "name": "ipython",
    "version": 3
   },
   "file_extension": ".py",
   "mimetype": "text/x-python",
   "name": "python",
   "nbconvert_exporter": "python",
   "pygments_lexer": "ipython3",
   "version": "3.9.7"
  }
 },
 "nbformat": 4,
 "nbformat_minor": 5
}
