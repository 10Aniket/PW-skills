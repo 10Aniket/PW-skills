{
 "cells": [
  {
   "cell_type": "markdown",
   "id": "10086cef",
   "metadata": {},
   "source": [
    "Ans1"
   ]
  },
  {
   "cell_type": "markdown",
   "id": "819136fa",
   "metadata": {},
   "source": [
    "MongoDB is a popular document-oriented NoSQL database system that is designed to store and manage large amounts of unstructured\n",
    "and semi-structured data. Unlike traditional SQL databases, MongoDB does not use tables and rows to store data. Instead, \n",
    "it stores data in flexible, JSON-like documents with dynamic schemas that can vary from one document to another.\n",
    "\n",
    "Non-relational databases, also known as NoSQL databases, are designed to handle large volumes of unstructured and\n",
    "semi-structured data, such as social media posts, sensor data, and user-generated content. These databases are flexible and \n",
    "scalable, allowing users to easily store and access large amounts of data without the need for predefined schemas."
   ]
  },
  {
   "cell_type": "markdown",
   "id": "ca3feca8",
   "metadata": {},
   "source": [
    "Ans2"
   ]
  },
  {
   "cell_type": "markdown",
   "id": "ab56ba37",
   "metadata": {},
   "source": [
    "Document-oriented data model: MongoDB stores data in flexible, JSON-like documents with dynamic schemas that can vary from \n",
    "one document to another. This makes it easier to store and access complex data structures.\n",
    "\n",
    "Scalability: MongoDB is designed to scale horizontally across multiple nodes, making it suitable for large-scale applications.\n",
    "\n",
    "High availability: MongoDB provides automatic failover and replication capabilities to ensure that data is always available,\n",
    "even in the event of hardware failures.\n",
    "\n",
    "Flexible data modeling: MongoDB allows developers to create rich, hierarchical data models that can be easily modified as needed.\n",
    "\n",
    "Indexing and querying: MongoDB supports rich queries and indexing capabilities, making it easier to retrieve data quickly and\n",
    "efficiently.\n",
    "\n",
    "Aggregation framework: MongoDB provides a powerful aggregation framework that allows developers to perform complex data analysis \n",
    "and transformation operations.\n",
    "\n",
    "Full-text search: MongoDB supports full-text search, making it easier to search and retrieve data based on text-based queries.\n",
    "\n",
    "GridFS: MongoDB provides a file storage system called GridFS, which allows developers to store and retrieve large \n",
    "files and binary data.\n",
    "\n",
    "Sharding: MongoDB provides automatic sharding capabilities, making it easier to scale databases horizontally across \n",
    "multiple nodes."
   ]
  },
  {
   "cell_type": "markdown",
   "id": "4dcbc7fc",
   "metadata": {},
   "source": [
    "Ans3"
   ]
  },
  {
   "cell_type": "markdown",
   "id": "f35b8d67",
   "metadata": {},
   "source": [
    "import pymongo\n",
    "\n",
    "client = pymongo.MongoClient(\"mongodb://localhost:27017/\")\n",
    "\n",
    "db = client[\"mydatabase\"]\n",
    "\n",
    "\n",
    "col = db[\"mycollection\"]\n",
    "\n",
    "# Insert a document into the collection\n",
    "doc = {\"name\": \"John\", \"age\": 30}\n",
    "result = col.insert_one(doc)\n",
    "print(\"Document inserted with ID:\", result.inserted_id)\n"
   ]
  },
  {
   "cell_type": "markdown",
   "id": "d1c05b5e",
   "metadata": {},
   "source": [
    "Ans4 & Ans5"
   ]
  },
  {
   "cell_type": "markdown",
   "id": "78511ef4",
   "metadata": {},
   "source": [
    "import pymongo\n",
    "\n",
    "client = pymongo.MongoClient(\"mongodb://localhost:27017/\")\n",
    "\n",
    "db = client[\"mydatabase\"]\n",
    "col = db[\"mycollection\"]\n",
    "\n",
    "# Insert one record\n",
    "doc = {\"name\": \"Alice\", \"age\": 25, \"gender\": \"Female\"}\n",
    "result = col.insert_one(doc)\n",
    "print(\"One record inserted with ID:\", result.inserted_id)\n",
    "\n",
    "# Insert many records\n",
    "docs = [\n",
    "  {\"name\": \"Bob\", \"age\": 35, \"gender\": \"Male\"},\n",
    "  {\"name\": \"Charlie\", \"age\": 45, \"gender\": \"Male\"},\n",
    "  {\"name\": \"Diana\", \"age\": 30, \"gender\": \"Female\"}\n",
    "]\n",
    "result = col.insert_many(docs)\n",
    "print(\"Multiple records inserted with IDs:\", result.inserted_ids)\n",
    "\n",
    "# Print inserted records using find_one()\n",
    "print(\"\\nOne record:\")\n",
    "print(col.find_one({\"name\": \"Alice\"}))\n",
    "\n",
    "# Print inserted records using find()\n",
    "print(\"\\nAll records:\")\n",
    "for doc in col.find():\n",
    "    print(doc)\n"
   ]
  },
  {
   "cell_type": "markdown",
   "id": "14b42518",
   "metadata": {},
   "source": [
    "Ans6"
   ]
  },
  {
   "cell_type": "markdown",
   "id": "cf370ca6",
   "metadata": {},
   "source": [
    "import pymongo\n",
    "\n",
    "# Connect to MongoDB server\n",
    "client = pymongo.MongoClient(\"mongodb://localhost:27017/\")\n",
    "\n",
    "# Select the database and collection\n",
    "db = client[\"mydatabase\"]\n",
    "col = db[\"mycollection\"]\n",
    "\n",
    "# Sort documents by age in ascending order\n",
    "docs = col.find().sort(\"age\", pymongo.ASCENDING)\n",
    "\n",
    "# Print sorted documents\n",
    "for doc in docs:\n",
    "    print(doc)\n"
   ]
  },
  {
   "cell_type": "markdown",
   "id": "e90003a3",
   "metadata": {},
   "source": [
    "Ans7"
   ]
  },
  {
   "cell_type": "markdown",
   "id": "a6e3667a",
   "metadata": {},
   "source": [
    "delete_one(filter) method is used to remove a single document from a collection that matches the specified filter. \n",
    "If multiple documents match the filter, only the first document will be deleted.\n",
    "\n",
    "delete_many(filter) method is used to remove multiple documents from a collection that match the specified filter.\n",
    "\n",
    "drop() method is used to remove an entire collection from the database. \n",
    "This method removes all documents in the collection, as well as the indexes and other metadata associated with the collection."
   ]
  }
 ],
 "metadata": {
  "kernelspec": {
   "display_name": "Python 3 (ipykernel)",
   "language": "python",
   "name": "python3"
  },
  "language_info": {
   "codemirror_mode": {
    "name": "ipython",
    "version": 3
   },
   "file_extension": ".py",
   "mimetype": "text/x-python",
   "name": "python",
   "nbconvert_exporter": "python",
   "pygments_lexer": "ipython3",
   "version": "3.9.7"
  }
 },
 "nbformat": 4,
 "nbformat_minor": 5
}
