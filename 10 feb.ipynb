{
 "cells": [
  {
   "cell_type": "markdown",
   "id": "d5f81130",
   "metadata": {},
   "source": [
    "Ans1 : there are several mode to file like \"w\",\"wb\",\"r\",\"t\",\"a\" "
   ]
  },
  {
   "cell_type": "code",
   "execution_count": 5,
   "id": "c3341230",
   "metadata": {},
   "outputs": [],
   "source": [
    "#for example\n",
    "file_obj = open(\"example.txt\", \"w\")\n",
    "file_obj.write(\"this txt is written using pyhton file\")\n",
    "file_obj.close() #till the time you don't close the file you won't be able to see any update"
   ]
  },
  {
   "cell_type": "markdown",
   "id": "37e34a68",
   "metadata": {},
   "source": [
    "Ans2 : When we open a file,the operating system allocates a certain amount of memory and other resources to keep track of the file and its contents.\n",
    "If we don't close the file after we are done with it, these resources remain allocated and unavailable for other processes or programs to use.\n",
    "This can lead to performance issues or even cause the program to crash if too many files are left open."
   ]
  },
  {
   "cell_type": "markdown",
   "id": "e0dad13c",
   "metadata": {},
   "source": [
    "Ans3"
   ]
  },
  {
   "cell_type": "code",
   "execution_count": 6,
   "id": "1c3095aa",
   "metadata": {},
   "outputs": [],
   "source": [
    "file_obj = open(\"example1.txt\", \"w\")\n",
    "file_obj.write(\"i want to become a data scientist\")\n",
    "file_obj.close()"
   ]
  },
  {
   "cell_type": "code",
   "execution_count": 15,
   "id": "440073c1",
   "metadata": {},
   "outputs": [
    {
     "data": {
      "text/plain": [
       "'i want to become a data scientist'"
      ]
     },
     "execution_count": 15,
     "metadata": {},
     "output_type": "execute_result"
    }
   ],
   "source": [
    "read_file = open(\"example1.txt\",\"r\")\n",
    "read_file.read()"
   ]
  },
  {
   "cell_type": "markdown",
   "id": "553643fb",
   "metadata": {},
   "source": [
    "Ans4"
   ]
  },
  {
   "cell_type": "markdown",
   "id": "15adad35",
   "metadata": {},
   "source": [
    "read : read the whole text\n",
    "readline : read the file using indexing\n",
    "readlines : read the new lines as per user mention"
   ]
  },
  {
   "cell_type": "markdown",
   "id": "e1bcc0af",
   "metadata": {},
   "source": [
    "Ans5 : In Python, the with statement is used to create a context in which a file is opened and used. The with statement ensures that the file is properly closed after the block of code that uses it is finished executing, regardless of whether an exception is raised or not."
   ]
  },
  {
   "cell_type": "markdown",
   "id": "909662dc",
   "metadata": {},
   "source": [
    "Ans6 : \n",
    "    write : simply wite in the file \n",
    "    writelines : The writelines() function is used to write a sequence of strings to a file"
   ]
  },
  {
   "cell_type": "code",
   "execution_count": 16,
   "id": "09601de7",
   "metadata": {},
   "outputs": [],
   "source": [
    "#for example\n",
    "with open(\"example.txt\", \"w\") as file:\n",
    "    file.write(\"Hello, world!\")"
   ]
  },
  {
   "cell_type": "code",
   "execution_count": 17,
   "id": "ceac5028",
   "metadata": {},
   "outputs": [],
   "source": [
    "with open(\"example.txt\", \"w\") as file:\n",
    "    lines = [\"Line 1\\n\", \"Line 2\\n\", \"Line 3\\n\"]\n",
    "    file.writelines(lines)\n"
   ]
  },
  {
   "cell_type": "code",
   "execution_count": null,
   "id": "9b97b8af",
   "metadata": {},
   "outputs": [],
   "source": []
  },
  {
   "cell_type": "code",
   "execution_count": null,
   "id": "bfab5ff9",
   "metadata": {},
   "outputs": [],
   "source": []
  }
 ],
 "metadata": {
  "kernelspec": {
   "display_name": "Python 3 (ipykernel)",
   "language": "python",
   "name": "python3"
  },
  "language_info": {
   "codemirror_mode": {
    "name": "ipython",
    "version": 3
   },
   "file_extension": ".py",
   "mimetype": "text/x-python",
   "name": "python",
   "nbconvert_exporter": "python",
   "pygments_lexer": "ipython3",
   "version": "3.9.7"
  }
 },
 "nbformat": 4,
 "nbformat_minor": 5
}
