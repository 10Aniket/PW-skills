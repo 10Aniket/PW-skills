{
 "cells": [
  {
   "cell_type": "markdown",
   "id": "f33c66f5",
   "metadata": {},
   "source": [
    "ans1"
   ]
  },
  {
   "cell_type": "markdown",
   "id": "21d3da8e",
   "metadata": {},
   "source": [
    "To calculate the Pearson correlation coefficient, you first need to calculate the covariance and standard deviations of both variables. Let's say you have collected data on the study time and exam scores of n students, denoted by x and y, respectively. The Pearson correlation coefficient, r, is given by:\n",
    "\n",
    "r = cov(x,y) / (sd(x) * sd(y))\n",
    "\n",
    "where cov(x,y) is the covariance of x and y, and sd(x) and sd(y) are the standard deviations of x and y, respectively."
   ]
  },
  {
   "cell_type": "markdown",
   "id": "0f0e72aa",
   "metadata": {},
   "source": [
    "ans2"
   ]
  },
  {
   "cell_type": "markdown",
   "id": "c4c0183a",
   "metadata": {},
   "source": [
    "ρ = 1 - ((6 x sum of squared differences)/(n x (n^2 - 1)))\n",
    "\n",
    "where n is the number of pairs of rankings.\n",
    "\n",
    "Using the formula, we get:\n",
    "\n",
    "ρ = 1 - ((6 x 112)/(10 x (10^2 - 1)))\n",
    "ρ = 1 - (672/990)\n",
    "ρ = 1 - 0.678\n",
    "ρ = 0.322\n",
    "\n",
    "Interpretation: The Spearman's rank correlation coefficient between sleep and job satisfaction is 0.322, indicating a moderate positive monotonic relationship between the two variables. This means that individuals who get more sleep tend to have higher job satisfaction scores, and individuals who get less sleep tend to have lower job satisfaction scores. However, it is important to note that correlation does not imply causation, and there may be other factors that influence both sleep and job satisfaction."
   ]
  },
  {
   "cell_type": "markdown",
   "id": "80d503a8",
   "metadata": {},
   "source": [
    "ans3"
   ]
  },
  {
   "cell_type": "code",
   "execution_count": 5,
   "id": "cf1f6d96",
   "metadata": {},
   "outputs": [
    {
     "name": "stdout",
     "output_type": "stream",
     "text": [
      "Pearson correlation coefficient: -0.9455346909314678\n",
      "Spearman's rank correlation coefficient: -0.9155370708381051\n"
     ]
    }
   ],
   "source": [
    "import numpy as np\n",
    "import pandas as pd\n",
    "from scipy.stats import pearsonr, spearmanr\n",
    "\n",
    "# create a dataframe for the data\n",
    "data = {'Exercise hours': [3, 2, 4, 3, 1, 2, 4, 3, 2, 1, 3, 2, 4, 3, 1,],\n",
    "        'BMI': [24.1, 27.2, 23.5, 26.3, 29.4, 25.8, 23.4, 25.9, 27.3, 29.1, 26.1, 28.2, 23.7, 25.6, 29.9]}\n",
    "\n",
    "df = pd.DataFrame(data)\n",
    "\n",
    "# calculate the Pearson correlation coefficient\n",
    "corr, p = pearsonr(df['Exercise hours'], df['BMI'])\n",
    "print(\"Pearson correlation coefficient:\", corr)\n",
    "\n",
    "# calculate the Spearman's rank correlation coefficient\n",
    "corr, p = spearmanr(df['Exercise hours'], df['BMI'])\n",
    "print(\"Spearman's rank correlation coefficient:\", corr)"
   ]
  },
  {
   "cell_type": "markdown",
   "id": "3eaf066a",
   "metadata": {},
   "source": [
    "ans4"
   ]
  },
  {
   "cell_type": "code",
   "execution_count": 6,
   "id": "2d355d47",
   "metadata": {},
   "outputs": [
    {
     "name": "stdout",
     "output_type": "stream",
     "text": [
      "Pearson correlation coefficient: -0.5291254731228034\n"
     ]
    }
   ],
   "source": [
    "import numpy as np\n",
    "import pandas as pd\n",
    "from scipy.stats import pearsonr\n",
    "\n",
    "# create a dataframe for the data\n",
    "data = {'TV hours': [3, 2, 4, 3, 1, 2, 4, 3, 2, 1, 3, 2, 4, 3, 1, 2, 4, 3, 2, 1, 3, 2, 4, 3, 1, 2, 4, 3, 2, 1, 3, 2, 4, 3, 1, 2, 4, 3, 2, 1, 3, 2, 4, 3, 1, 2, 4, 3, 2],\n",
    "        'Physical activity level': [2, 5, 4, 3, 6, 4, 2, 3, 4, 6, 3, 5, 2, 4, 6, 5, 2, 4, 3, 5, 3, 5, 2, 4, 6, 3, 2, 4, 3, 5, 6, 2, 4, 5, 3, 6, 4, 2, 3, 5, 4, 6, 3, 2, 4, 5, 3, 6, 2]}\n",
    "\n",
    "df = pd.DataFrame(data)\n",
    "\n",
    "# calculate the Pearson correlation coefficient\n",
    "corr, p = pearsonr(df['TV hours'], df['Physical activity level'])\n",
    "print(\"Pearson correlation coefficient:\", corr)"
   ]
  },
  {
   "cell_type": "markdown",
   "id": "39b7d306",
   "metadata": {},
   "source": [
    "ans5"
   ]
  },
  {
   "cell_type": "code",
   "execution_count": 9,
   "id": "f58dd30d",
   "metadata": {},
   "outputs": [
    {
     "data": {
      "text/plain": [
       "[<matplotlib.lines.Line2D at 0x1af127398e0>]"
      ]
     },
     "execution_count": 9,
     "metadata": {},
     "output_type": "execute_result"
    },
    {
     "data": {
      "image/png": "[encoded data removed]",
      "text/plain": [
       "<Figure size 432x288 with 1 Axes>"
      ]
     },
     "metadata": {
      "needs_background": "light"
     },
     "output_type": "display_data"
    }
   ],
   "source": [
    "import matplotlib.pyplot as plt\n",
    "data = { \"Age(Years)\" : [25,42,37,19,31,28],\n",
    "         \"Soft drink Preference\" : ['coke','pepsi','Mountain dew','Coke','Pepsi','Coke']}\n",
    "\n",
    "df = pd.DataFrame(data)\n",
    "plt.plot(df[\"Soft drink Preference\"],df[\"Age(Years)\"])"
   ]
  },
  {
   "cell_type": "markdown",
   "id": "5334569b",
   "metadata": {},
   "source": [
    "ans6"
   ]
  },
  {
   "cell_type": "code",
   "execution_count": 7,
   "id": "0509ea04",
   "metadata": {},
   "outputs": [
    {
     "name": "stdout",
     "output_type": "stream",
     "text": [
      "Pearson correlation coefficient: 0.9838647532890761\n"
     ]
    }
   ],
   "source": [
    "import numpy as np\n",
    "import pandas as pd\n",
    "from scipy.stats import pearsonr\n",
    "\n",
    "# create a dataframe for the data\n",
    "data = {'Sales calls per day': [25, 30, 20, 35, 40, 35, 30, 25, 20, 35, 40, 30, 25, 35, 30, 40, 25, 20, 30, 35, 40, 20, 30, 35, 25, 40, 20, 35, 30, 25],\n",
    "        'Sales made per week': [4, 5, 2, 6, 8, 7, 5, 4, 3, 7, 8, 5, 4, 7, 6, 8, 4, 2, 5, 7, 8, 2, 5, 7, 4, 8, 2, 6, 5, 4]}\n",
    "\n",
    "df = pd.DataFrame(data)\n",
    "\n",
    "# calculate the Pearson correlation coefficient\n",
    "corr, p = pearsonr(df['Sales calls per day'], df['Sales made per week'])\n",
    "print(\"Pearson correlation coefficient:\", corr)"
   ]
  },
  {
   "cell_type": "code",
   "execution_count": null,
   "id": "35171fce",
   "metadata": {},
   "outputs": [],
   "source": []
  },
  {
   "cell_type": "code",
   "execution_count": null,
   "id": "f7d3486e",
   "metadata": {},
   "outputs": [],
   "source": []
  },
  {
   "cell_type": "code",
   "execution_count": null,
   "id": "34188aac",
   "metadata": {},
   "outputs": [],
   "source": []
  },
  {
   "cell_type": "code",
   "execution_count": null,
   "id": "e3437891",
   "metadata": {},
   "outputs": [],
   "source": []
  },
  {
   "cell_type": "code",
   "execution_count": null,
   "id": "6bdaef17",
   "metadata": {},
   "outputs": [],
   "source": []
  },
  {
   "cell_type": "code",
   "execution_count": null,
   "id": "e172fbd5",
   "metadata": {},
   "outputs": [],
   "source": []
  },
  {
   "cell_type": "code",
   "execution_count": null,
   "id": "51a3c8c5",
   "metadata": {},
   "outputs": [],
   "source": []
  },
  {
   "cell_type": "code",
   "execution_count": null,
   "id": "8b833518",
   "metadata": {},
   "outputs": [],
   "source": []
  },
  {
   "cell_type": "code",
   "execution_count": null,
   "id": "71489850",
   "metadata": {},
   "outputs": [],
   "source": []
  }
 ],
 "metadata": {
  "kernelspec": {
   "display_name": "Python 3 (ipykernel)",
   "language": "python",
   "name": "python3"
  },
  "language_info": {
   "codemirror_mode": {
    "name": "ipython",
    "version": 3
   },
   "file_extension": ".py",
   "mimetype": "text/x-python",
   "name": "python",
   "nbconvert_exporter": "python",
   "pygments_lexer": "ipython3",
   "version": "3.9.7"
  }
 },
 "nbformat": 4,
 "nbformat_minor": 5
}
