{
 "cells": [
  {
   "cell_type": "markdown",
   "id": "fe6aadfb",
   "metadata": {},
   "source": [
    "ans1"
   ]
  },
  {
   "cell_type": "markdown",
   "id": "1fb508e7",
   "metadata": {},
   "source": [
    "In a time series with time-dependent seasonal components, the magnitude, duration, or shape of the seasonal pattern may not remain constant throughout the entire series. Instead, these components may evolve or exhibit different patterns over time. This could be due to various factors such as changes in consumer behavior, economic conditions, technological advancements, or other external factors that influence the underlying patterns."
   ]
  },
  {
   "cell_type": "markdown",
   "id": "0de7a632",
   "metadata": {},
   "source": [
    "ans2"
   ]
  },
  {
   "cell_type": "markdown",
   "id": "970172b3",
   "metadata": {},
   "source": [
    "Visual Inspection: Plotting the time series data and observing the patterns can provide initial insights into the presence of seasonality. By visually examining the data over different time periods, one can identify if there are changes or variations in the seasonal patterns.\n",
    "\n",
    "Seasonal Subseries Plot: This plot involves creating subseries plots for each season or period of interest. By dividing the data into smaller segments based on the seasonality period (e.g., months, quarters), it becomes easier to visualize and compare the patterns across different time periods.\n",
    "\n",
    "Time Series Decomposition: Decomposition techniques, such as seasonal decomposition of time series (STL), separate the time series into its trend, seasonal, and residual components. Analyzing the seasonal component can help identify if there are time-dependent changes in the seasonality.\n",
    "\n",
    "Statistical Tests: Statistical tests, such as the Augmented Dickey-Fuller (ADF) test or the Kwiatkowski-Phillips-Schmidt-Shin (KPSS) test, can assess the stationarity of the data and help identify if there are time-dependent changes in the seasonal properties.\n",
    "\n",
    "Machine Learning Models: Advanced machine learning models, such as dynamic harmonic regression or state space models, can capture the time-dependent changes in seasonal components by incorporating additional predictors or allowing for parameter variations over time."
   ]
  },
  {
   "cell_type": "markdown",
   "id": "c72f5765",
   "metadata": {},
   "source": [
    "ans3"
   ]
  },
  {
   "cell_type": "markdown",
   "id": "1e206ca7",
   "metadata": {},
   "source": [
    "External Events: Changes in external events, such as holidays, cultural or religious celebrations, or specific industry-related events, can impact seasonal patterns. For example, the introduction of new shopping events or shifts in consumer behavior during specific periods can alter seasonal components.\n",
    "\n",
    "Economic Factors: Economic conditions, such as changes in the overall economy, business cycles, or financial events, can influence seasonal patterns. For instance, recessions, inflation, or shifts in consumer spending habits can impact the timing and intensity of seasonal variations.\n",
    "\n",
    "Social and Demographic Factors: Social and demographic changes, such as population growth, migration, or shifts in consumer preferences, can affect seasonal components. For example, changing demographics in a region may lead to different patterns in seasonal demand for certain products or services.\n",
    "\n",
    "Technological Advancements: Advancements in technology can disrupt traditional seasonal patterns. For instance, the rise of e-commerce and online shopping has led to changes in consumer behavior during the holiday season, with more people opting for online purchases instead of in-store shopping.\n",
    "\n",
    "Regulatory or Policy Changes: Changes in regulations, government policies, or industry-specific policies can influence seasonal components. For example, tax holidays or changes in import/export policies may impact seasonal patterns for certain industries.\n",
    "\n",
    "Environmental Factors: Seasonal variations in weather conditions or natural events can affect seasonal patterns. For instance, weather patterns can influence demand for seasonal products like clothing, outdoor equipment, or energy consumption."
   ]
  },
  {
   "cell_type": "markdown",
   "id": "038b92f5",
   "metadata": {},
   "source": [
    "ans4"
   ]
  },
  {
   "cell_type": "markdown",
   "id": "b4e6747f",
   "metadata": {},
   "source": [
    "Autoregression is a time series model that uses observations from previous time steps as input to a regression equation to predict the value at the next time step. It is a very simple idea that can result in accurate forecasts on a range of time series problems."
   ]
  },
  {
   "cell_type": "markdown",
   "id": "00a9f0d6",
   "metadata": {},
   "source": [
    "ans5"
   ]
  },
  {
   "cell_type": "markdown",
   "id": "e84e284c",
   "metadata": {},
   "source": [
    "An autoregressive (AR) model forecasts future behavior based on past behavior data. This type of analysis is used when there is a correlation between the time series values and their preceding and succeeding values. Autoregressive modeling uses only past data to predict future behavior."
   ]
  },
  {
   "cell_type": "markdown",
   "id": "e00cfeb3",
   "metadata": {},
   "source": [
    "ans6"
   ]
  },
  {
   "cell_type": "markdown",
   "id": "d75107c3",
   "metadata": {},
   "source": [
    "The moving average model is a time series model that accounts for very short-run autocorrelation. It basically states that the next observation is the mean of every past observation. The order of the moving average model, q, can usually be estimated by looking at the ACF plot of the time series."
   ]
  },
  {
   "cell_type": "markdown",
   "id": "fa5d5fe0",
   "metadata": {},
   "source": [
    "ans7"
   ]
  },
  {
   "cell_type": "markdown",
   "id": "20094f92",
   "metadata": {},
   "source": [
    "The mixed ARMA model provides a comprehensive approach to modeling time series data by considering both the autoregressive and moving average components. It allows for capturing both short-term dependencies (moving average) and long-term dependencies (autoregressive) in the data, making it a powerful tool for time series analysis and forecasting."
   ]
  },
  {
   "cell_type": "code",
   "execution_count": null,
   "id": "9665e59a",
   "metadata": {},
   "outputs": [],
   "source": []
  },
  {
   "cell_type": "code",
   "execution_count": null,
   "id": "e5afdd8a",
   "metadata": {},
   "outputs": [],
   "source": []
  }
 ],
 "metadata": {
  "kernelspec": {
   "display_name": "Python 3 (ipykernel)",
   "language": "python",
   "name": "python3"
  },
  "language_info": {
   "codemirror_mode": {
    "name": "ipython",
    "version": 3
   },
   "file_extension": ".py",
   "mimetype": "text/x-python",
   "name": "python",
   "nbconvert_exporter": "python",
   "pygments_lexer": "ipython3",
   "version": "3.9.7"
  }
 },
 "nbformat": 4,
 "nbformat_minor": 5
}
