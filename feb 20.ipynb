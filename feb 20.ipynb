{
 "cells": [
  {
   "cell_type": "markdown",
   "id": "217cf8b1",
   "metadata": {},
   "source": [
    "Ans1"
   ]
  },
  {
   "cell_type": "markdown",
   "id": "e9dff36d",
   "metadata": {},
   "source": [
    "GET method:\n",
    "The GET method is used to retrieve data from a server. When a client sends a GET request, it appends the data to the URL as\n",
    "query parameters, which are visible in the URL bar of a web browser. The server processes the request and returns the requested\n",
    "data as a response.\n",
    "\n",
    "POST method:\n",
    "The POST method is used to submit data to a server. When a client sends a POST request, it appends the data in the request body, \n",
    "which is not visible in the URL bar of a web browser. The server processes the request and returns a response."
   ]
  },
  {
   "cell_type": "markdown",
   "id": "128eb561",
   "metadata": {},
   "source": [
    "Ans2"
   ]
  },
  {
   "cell_type": "markdown",
   "id": "35989205",
   "metadata": {},
   "source": [
    "Request is use to access the incoming data in Flask, you have to use the request object. The request object holds all incoming\n",
    "data from the request, which includes the mimetype, referrer, IP address, raw data, HTTP method, and headers, among other things."
   ]
  },
  {
   "cell_type": "markdown",
   "id": "7618dacc",
   "metadata": {},
   "source": [
    "Ans3"
   ]
  },
  {
   "cell_type": "markdown",
   "id": "adbcbbf3",
   "metadata": {},
   "source": [
    "In Flask, redirect() is a function that is used to redirect the user to a different URL. This function is useful when you want\n",
    "to redirect the user after a certain action has been performed, such as submitting a form or logging in."
   ]
  },
  {
   "cell_type": "markdown",
   "id": "ed80dcda",
   "metadata": {},
   "source": [
    "Ans4"
   ]
  },
  {
   "cell_type": "markdown",
   "id": "520846f4",
   "metadata": {},
   "source": [
    "render_template is a Flask function from the flask. templating package. render_template is used to generate output from a \n",
    "template file based on the Jinja2 engine that is found in the application's templates folder.\n",
    "Note that render_template is typically imported directly from the flask package instead of from flask."
   ]
  },
  {
   "cell_type": "markdown",
   "id": "c08d8678",
   "metadata": {},
   "source": [
    "Ans5"
   ]
  },
  {
   "cell_type": "code",
   "execution_count": null,
   "id": "237eca8d",
   "metadata": {},
   "outputs": [],
   "source": [
    "from flask import Flask, jsonify\n",
    "\n",
    "app = Flask(__name__)\n",
    "\n",
    "@app.route('/hello')\n",
    "def hello():\n",
    "    return jsonify({'message': 'Hello, World!'})\n",
    "\n",
    "if __name__ == '__main__':\n",
    "    app.run(debug=True)\n",
    "# this will do in postmon on GET request"
   ]
  }
 ],
 "metadata": {
  "kernelspec": {
   "display_name": "Python 3 (ipykernel)",
   "language": "python",
   "name": "python3"
  },
  "language_info": {
   "codemirror_mode": {
    "name": "ipython",
    "version": 3
   },
   "file_extension": ".py",
   "mimetype": "text/x-python",
   "name": "python",
   "nbconvert_exporter": "python",
   "pygments_lexer": "ipython3",
   "version": "3.9.7"
  }
 },
 "nbformat": 4,
 "nbformat_minor": 5
}
