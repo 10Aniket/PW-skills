{
 "cells": [
  {
   "cell_type": "code",
   "execution_count": null,
   "id": "085ef95b",
   "metadata": {},
   "outputs": [],
   "source": [
    "Ans1"
   ]
  },
  {
   "cell_type": "code",
   "execution_count": 2,
   "id": "e6963f79",
   "metadata": {},
   "outputs": [
    {
     "name": "stderr",
     "output_type": "stream",
     "text": [
      "C:\\Users\\ANIKET\\AppData\\Local\\Temp/ipykernel_6220/904223960.py:17: UserWarning: \n",
      "You are attempting to set `plot.legend.location` on a plot that has zero legends added, this will have no effect.\n",
      "\n",
      "Before legend properties can be set, you must add a Legend explicitly, or call a glyph method with a legend parameter set.\n",
      "\n",
      "  fig.legend.location = \"top_left\"\n"
     ]
    }
   ],
   "source": [
    "from bokeh.plotting import figure, show\n",
    "import numpy as np\n",
    "\n",
    "# Prepare the data\n",
    "x = np.linspace(0, 10, 100)\n",
    "y = np.sin(x)\n",
    "\n",
    "# Create a figure\n",
    "fig = figure(title=\"Sin Wave\", x_axis_label=\"x\", y_axis_label=\"y\")\n",
    "\n",
    "# Add a line glyph to the figure\n",
    "fig.line(x, y, line_width=2)\n",
    "\n",
    "# Customize the plot\n",
    "fig.background_fill_color = \"beige\"\n",
    "fig.grid.grid_line_color = \"white\"\n",
    "fig.legend.location = \"top_left\"\n",
    "\n",
    "# Display the plot\n",
    "show(fig)\n"
   ]
  },
  {
   "cell_type": "markdown",
   "id": "af51bcc4",
   "metadata": {},
   "source": [
    "Ans2"
   ]
  },
  {
   "cell_type": "code",
   "execution_count": 3,
   "id": "998523fb",
   "metadata": {},
   "outputs": [],
   "source": [
    "fig = figure(title=\"Glyph Example\")\n",
    "\n",
    "# Add glyphs to the figure\n",
    "fig.circle(x, y, size=15, color=\"navy\", alpha=0.5)\n",
    "fig.square(x, y, size=10, color=\"firebrick\", alpha=0.8)\n",
    "\n",
    "# Display the plot\n",
    "show(fig)"
   ]
  },
  {
   "cell_type": "markdown",
   "id": "a5ec9b06",
   "metadata": {},
   "source": [
    "Ans3"
   ]
  },
  {
   "cell_type": "code",
   "execution_count": 4,
   "id": "c9e2c446",
   "metadata": {},
   "outputs": [],
   "source": [
    "#Changing the title and axis labels\n",
    "fig = figure(title=\"My Plot\", x_axis_label=\"X\", y_axis_label=\"Y\")\n",
    "\n",
    "# Add glyphs to the figure\n",
    "fig.circle(x, y, size=15)\n",
    "\n",
    "# Display the plot\n",
    "show(fig)"
   ]
  },
  {
   "cell_type": "code",
   "execution_count": 5,
   "id": "de63205b",
   "metadata": {},
   "outputs": [],
   "source": [
    "#adding the legend\n",
    "# Prepare the data\n",
    "x1 = [1, 2, 3, 4, 5]\n",
    "y1 = [6, 7, 2, 3, 1]\n",
    "x2 = [1, 2, 3, 4, 5]\n",
    "y2 = [5, 4, 3, 2, 1]\n",
    "\n",
    "# Create a figure\n",
    "fig = figure()\n",
    "\n",
    "# Add glyphs to the figure with legends\n",
    "fig.circle(x1, y1, size=15, legend_label=\"Circle\")\n",
    "fig.line(x2, y2, line_width=2, color=\"red\", legend_label=\"Line\")\n",
    "\n",
    "# Add a legend to the figure\n",
    "fig.legend.location = \"top_left\"\n",
    "\n",
    "# Display the plot\n",
    "show(fig)"
   ]
  },
  {
   "cell_type": "markdown",
   "id": "411749f1",
   "metadata": {},
   "source": [
    "Ans4"
   ]
  },
  {
   "cell_type": "code",
   "execution_count": 7,
   "id": "1073e0a0",
   "metadata": {},
   "outputs": [
    {
     "data": {
      "text/plain": [
       "<bokeh.document.document.Document at 0x18522896df0>"
      ]
     },
     "execution_count": 7,
     "metadata": {},
     "output_type": "execute_result"
    }
   ],
   "source": [
    "from bokeh.io import curdoc\n",
    "from bokeh.plotting import figure\n",
    "from bokeh.models import ColumnDataSource\n",
    "import numpy as np\n",
    "\n",
    "# Create a data source\n",
    "source = ColumnDataSource(data=dict(x=np.random.normal(size=200), y=np.random.normal(size=200)))\n",
    "\n",
    "# Create a plot\n",
    "plot = figure(title=\"Real-time plot\", sizing_mode='stretch_both')\n",
    "plot.scatter(x='x', y='y', source=source)\n",
    "\n",
    "# Define a function to update the plot\n",
    "def update():\n",
    "    new_data = dict(x=np.random.normal(size=200), y=np.random.normal(size=200))\n",
    "    source.data = new_data\n",
    "\n",
    "# Add the plot to the current document\n",
    "curdoc().add_root(plot)\n",
    "\n",
    "# Add a periodic callback to update the plot every second\n",
    "curdoc()"
   ]
  },
  {
   "cell_type": "markdown",
   "id": "e11296f4",
   "metadata": {},
   "source": [
    "Ans5"
   ]
  },
  {
   "cell_type": "markdown",
   "id": "f1e3bb26",
   "metadata": {},
   "source": [
    "yes we can embed a Bokeh plot into a web page or dashboard using Flask or Django"
   ]
  }
 ],
 "metadata": {
  "kernelspec": {
   "display_name": "Python 3 (ipykernel)",
   "language": "python",
   "name": "python3"
  },
  "language_info": {
   "codemirror_mode": {
    "name": "ipython",
    "version": 3
   },
   "file_extension": ".py",
   "mimetype": "text/x-python",
   "name": "python",
   "nbconvert_exporter": "python",
   "pygments_lexer": "ipython3",
   "version": "3.9.7"
  }
 },
 "nbformat": 4,
 "nbformat_minor": 5
}
