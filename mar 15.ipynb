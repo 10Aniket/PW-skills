{
 "cells": [
  {
   "cell_type": "markdown",
   "id": "531a7685",
   "metadata": {},
   "source": [
    "ans1"
   ]
  },
  {
   "cell_type": "markdown",
   "id": "42630dc9",
   "metadata": {},
   "source": [
    "Artificial Intelligence is the concept of creating smart intelligent machines.\n",
    "Machine Learning is a subset of artificial intelligence that helps you build AI-driven applications\n",
    "Deep Learning is a subset of machine learning that uses vast volumes of data and complex algorithms to train a model."
   ]
  },
  {
   "cell_type": "markdown",
   "id": "5b14df02",
   "metadata": {},
   "source": [
    "ans2"
   ]
  },
  {
   "cell_type": "markdown",
   "id": "d547eb12",
   "metadata": {},
   "source": [
    "supervised machine learning bascally is the model where we have indpendent feature or y label for example f1,f2,f3 Target"
   ]
  },
  {
   "cell_type": "markdown",
   "id": "ff524345",
   "metadata": {},
   "source": [
    "ans3"
   ]
  },
  {
   "cell_type": "markdown",
   "id": "9e00d931",
   "metadata": {},
   "source": [
    "unsupervised machine learning don't have the label data for example f1,f2,f3"
   ]
  },
  {
   "cell_type": "markdown",
   "id": "3cbf1f27",
   "metadata": {},
   "source": [
    "ans4"
   ]
  },
  {
   "cell_type": "markdown",
   "id": "15f2f74b",
   "metadata": {},
   "source": [
    "Artificial Intelligence is the concept of creating smart intelligent machines. Machine Learning is a subset of artificial intelligence that helps you build AI-driven applications. Deep Learning is a subset of machine learning that uses vast volumes of data and complex algorithms to train a model and DataScience is combination of all work to be a good data scientist you need to know AI,ML and DL"
   ]
  },
  {
   "cell_type": "markdown",
   "id": "d49b8818",
   "metadata": {},
   "source": [
    "ans5"
   ]
  },
  {
   "cell_type": "markdown",
   "id": "b3f151ea",
   "metadata": {},
   "source": [
    "supervised machine learning bascally is the model where we have indpendent feature or y label for example f1,f2,f3 Target\n",
    "unsupervised machine learning don't have the label data for example f1,f2,f3\n",
    "Semi-supervised machine learning is a combination of supervised and unsupervised learning. It uses a small amount of labeled data and a large amount of unlabeled data,"
   ]
  },
  {
   "cell_type": "markdown",
   "id": "337ac015",
   "metadata": {},
   "source": [
    "ans6"
   ]
  },
  {
   "cell_type": "markdown",
   "id": "40b0ab84",
   "metadata": {},
   "source": [
    "train test split is used to validate that data and test the data on the machine learning model which is build train test split split the data train and test data. test data is not seen by the model so we can test the accuracy of the model on test data"
   ]
  },
  {
   "cell_type": "markdown",
   "id": "4ed4b55a",
   "metadata": {},
   "source": [
    "ans7"
   ]
  },
  {
   "cell_type": "markdown",
   "id": "db21669e",
   "metadata": {},
   "source": [
    "One common unsupervised learning technique used in anomaly detection is clustering, where the algorithm groups similar data points together based on their features. Any data points that do not belong to any of the clusters or are significantly different from the other data points in a cluster may be identified as anomalies."
   ]
  },
  {
   "cell_type": "markdown",
   "id": "a71a289f",
   "metadata": {},
   "source": [
    "ans8"
   ]
  },
  {
   "cell_type": "markdown",
   "id": "a61e45d5",
   "metadata": {},
   "source": [
    "supervised machine learning algorythm\n",
    "naive bayes, knn, xgb, randomforest, decisiontree\n",
    "unsupervised machine learning algorythm\n",
    "kmeansclustering, dbscan, hierarcyicalclutering"
   ]
  },
  {
   "cell_type": "code",
   "execution_count": null,
   "id": "8c34c353",
   "metadata": {},
   "outputs": [],
   "source": []
  }
 ],
 "metadata": {
  "kernelspec": {
   "display_name": "Python 3 (ipykernel)",
   "language": "python",
   "name": "python3"
  },
  "language_info": {
   "codemirror_mode": {
    "name": "ipython",
    "version": 3
   },
   "file_extension": ".py",
   "mimetype": "text/x-python",
   "name": "python",
   "nbconvert_exporter": "python",
   "pygments_lexer": "ipython3",
   "version": "3.9.7"
  }
 },
 "nbformat": 4,
 "nbformat_minor": 5
}
