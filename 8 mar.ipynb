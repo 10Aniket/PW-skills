{
 "cells": [
  {
   "cell_type": "markdown",
   "id": "7bfe1dc2",
   "metadata": {},
   "source": [
    "Ans1"
   ]
  },
  {
   "cell_type": "markdown",
   "id": "adf62f76",
   "metadata": {},
   "source": [
    "The probability density function (PDF) is a mathematical function that describes the probability distribution of \n",
    "a random variable in a continuous probability distribution. It gives the relative likelihood that a random variable takes\n",
    "on a particular value within a given range."
   ]
  },
  {
   "cell_type": "markdown",
   "id": "1804a8f6",
   "metadata": {},
   "source": [
    "Ans2"
   ]
  },
  {
   "cell_type": "markdown",
   "id": "9dfdf2f7",
   "metadata": {},
   "source": [
    "Normal Distribution: Also known as the Gaussian distribution, this is a continuous probability distribution that is symmetric\n",
    "around its mean. Many natural phenomena follow the normal distribution, such as height, weight, and IQ scores.\n",
    "\n",
    "Binomial Distribution: This is a discrete probability distribution that describes the number of successes in a fixed number\n",
    "of independent trials. For example, the number of heads obtained when flipping a coin ten times.\n",
    "\n",
    "Poisson Distribution: This is a discrete probability distribution that is often used to model the occurrence of rare events,\n",
    "such as the number of calls received by a call center in a day.\n",
    "\n",
    "Exponential Distribution: This is a continuous probability distribution that describes the time between events occurring\n",
    "in a Poisson process, such as the time between customer arrivals at a store.\n",
    "\n",
    "Uniform Distribution: This is a continuous probability distribution where all outcomes have equal probability,\n",
    "such as rolling a fair die.\n",
    "\n",
    "Beta Distribution: This is a continuous probability distribution that is often used to model probabilities of success\n",
    "or failure in a process, such as the proportion of defective products in a manufacturing process."
   ]
  },
  {
   "cell_type": "markdown",
   "id": "5fbcd157",
   "metadata": {},
   "source": [
    "Ans3"
   ]
  },
  {
   "cell_type": "code",
   "execution_count": 1,
   "id": "38b4ad8b",
   "metadata": {},
   "outputs": [
    {
     "name": "stdout",
     "output_type": "stream",
     "text": [
      "0.24197072451914337\n"
     ]
    }
   ],
   "source": [
    "import math\n",
    "\n",
    "def normal_pdf(x, mean, std_dev):\n",
    "    \"\"\"\n",
    "    Calculate the PDF of a normal distribution with given mean and standard deviation at a given point.\n",
    "    \"\"\"\n",
    "    exponent = -((x - mean)**2) / (2 * std_dev**2)\n",
    "    denominator = std_dev * math.sqrt(2 * math.pi)\n",
    "    return math.exp(exponent) / denominator\n",
    "\n",
    "pdf = normal_pdf(1, 0, 1)\n",
    "print(pdf)"
   ]
  },
  {
   "cell_type": "markdown",
   "id": "88fc7946",
   "metadata": {},
   "source": [
    "Ans4"
   ]
  },
  {
   "cell_type": "markdown",
   "id": "037c6368",
   "metadata": {},
   "source": [
    "The binomial distribution is a discrete probability distribution that describes the number of successes in a fixed number\n",
    "of independent trials.\n",
    "Each trial must have only two possible outcomes, which we can call \"success\" and \"failure\".\n",
    "The trials must be independent, meaning that the outcome of one trial does not affect the outcome of any other trial.\n",
    "The probability of success (p) must be constant for all trials.\n",
    "The total number of trials (n) must be fixed and known in advance.\n",
    "Example : flipping of coin , Manufacturing defects"
   ]
  },
  {
   "cell_type": "markdown",
   "id": "650f85bc",
   "metadata": {},
   "source": [
    "Ans5"
   ]
  },
  {
   "cell_type": "code",
   "execution_count": 1,
   "id": "2d20703a",
   "metadata": {},
   "outputs": [
    {
     "data": {
      "image/png": "[encoded data removed]",
      "text/plain": [
       "<Figure size 432x288 with 1 Axes>"
      ]
     },
     "metadata": {
      "needs_background": "light"
     },
     "output_type": "display_data"
    }
   ],
   "source": [
    "import numpy as np\n",
    "import matplotlib.pyplot as plt\n",
    "\n",
    "# Set the parameters of the distribution\n",
    "n = 1000  # sample size\n",
    "p = 0.4  # probability of success\n",
    "\n",
    "# Generate the random sample\n",
    "sample = np.random.binomial(n, p, size=n)\n",
    "\n",
    "# Plot a histogram of the sample\n",
    "plt.hist(sample, bins=50)\n",
    "plt.title(\"Binomial Distribution with n=1000, p=0.4\")\n",
    "plt.xlabel(\"Number of Successes\")\n",
    "plt.ylabel(\"Frequency\")\n",
    "plt.show()"
   ]
  },
  {
   "cell_type": "markdown",
   "id": "c2a616d9",
   "metadata": {},
   "source": [
    "Ans6"
   ]
  },
  {
   "cell_type": "code",
   "execution_count": 3,
   "id": "cd16a8d1",
   "metadata": {},
   "outputs": [
    {
     "name": "stdout",
     "output_type": "stream",
     "text": [
      "0.9863047314016171\n"
     ]
    }
   ],
   "source": [
    "import math\n",
    "\n",
    "def poisson_cdf(mean, k):\n",
    "    cdf = 0\n",
    "    for i in range(k+1):\n",
    "        cdf += math.exp(-mean) * (mean**i) / math.factorial(i)\n",
    "    return cdf\n",
    "print(poisson_cdf(5,10))"
   ]
  },
  {
   "cell_type": "markdown",
   "id": "cce9ca0f",
   "metadata": {},
   "source": [
    "Ans7"
   ]
  },
  {
   "cell_type": "markdown",
   "id": "6c6a15f2",
   "metadata": {},
   "source": [
    "The binomial distribution models the number of successes in a fixed number of independent trials,\n",
    "where each trial has the same probability of success.\n",
    "The Poisson distribution models the number of occurrences of an event in a fixed interval of time or space, \n",
    "given that the events occur randomly and independently with a constant rate."
   ]
  },
  {
   "cell_type": "markdown",
   "id": "9a13a581",
   "metadata": {},
   "source": [
    "Ans8"
   ]
  },
  {
   "cell_type": "code",
   "execution_count": 4,
   "id": "5ddc5155",
   "metadata": {},
   "outputs": [
    {
     "name": "stdout",
     "output_type": "stream",
     "text": [
      "Sample mean: 4.929\n",
      "Sample variance: 5.139098098098097\n"
     ]
    }
   ],
   "source": [
    "import numpy as np\n",
    "\n",
    "mean = 5  # mean of the Poisson distribution\n",
    "size = 1000  # sample size\n",
    "sample = np.random.poisson(mean, size=size)\n",
    "\n",
    "sample_mean = np.mean(sample)\n",
    "sample_var = np.var(sample, ddof=1)\n",
    "\n",
    "# Print the results\n",
    "print(\"Sample mean:\", sample_mean)\n",
    "print(\"Sample variance:\", sample_var)\n"
   ]
  },
  {
   "cell_type": "markdown",
   "id": "de36acde",
   "metadata": {},
   "source": [
    "Ans9"
   ]
  },
  {
   "cell_type": "markdown",
   "id": "6c682fc2",
   "metadata": {},
   "source": [
    "In the binomial distribution, the variance is affected by both the number of trials and the probability of success, \n",
    "while in the Poisson distribution, the variance is solely determined by the mean. In both distributions, \n",
    "the variance gives a measure of the spread of the distribution around its mean."
   ]
  },
  {
   "cell_type": "markdown",
   "id": "97fb254d",
   "metadata": {},
   "source": [
    "Ans10"
   ]
  },
  {
   "cell_type": "markdown",
   "id": "17840169",
   "metadata": {},
   "source": [
    "the least frequent data in a normal distribution appears in the tails of the distribution, \n",
    "which are the regions farthest from the mean."
   ]
  },
  {
   "cell_type": "code",
   "execution_count": null,
   "id": "d5f65250",
   "metadata": {},
   "outputs": [],
   "source": []
  },
  {
   "cell_type": "code",
   "execution_count": null,
   "id": "1db75d07",
   "metadata": {},
   "outputs": [],
   "source": []
  },
  {
   "cell_type": "code",
   "execution_count": null,
   "id": "82734bce",
   "metadata": {},
   "outputs": [],
   "source": []
  }
 ],
 "metadata": {
  "kernelspec": {
   "display_name": "Python 3 (ipykernel)",
   "language": "python",
   "name": "python3"
  },
  "language_info": {
   "codemirror_mode": {
    "name": "ipython",
    "version": 3
   },
   "file_extension": ".py",
   "mimetype": "text/x-python",
   "name": "python",
   "nbconvert_exporter": "python",
   "pygments_lexer": "ipython3",
   "version": "3.9.7"
  }
 },
 "nbformat": 4,
 "nbformat_minor": 5
}
