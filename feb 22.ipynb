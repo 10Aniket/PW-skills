{
 "cells": [
  {
   "cell_type": "code",
   "execution_count": 1,
   "id": "5f0618d9",
   "metadata": {},
   "outputs": [],
   "source": [
    "import requests\n",
    "from bs4 import BeautifulSoup\n",
    "\n",
    "url = \"https://www.youtube.com/@PW-Foundation/videos\""
   ]
  },
  {
   "cell_type": "markdown",
   "id": "ae72555b",
   "metadata": {},
   "source": [
    "Ans1"
   ]
  },
  {
   "cell_type": "code",
   "execution_count": 2,
   "id": "9ca4ff6f",
   "metadata": {},
   "outputs": [],
   "source": [
    "response = requests.get(url)\n",
    "\n",
    "soup = BeautifulSoup(response.text, 'html.parser')\n",
    "\n",
    "# Find all the video links\n",
    "video_links = soup.find_all('a', {'class': 'yt-simple-endpoint style-scope ytd-grid-video-renderer'})\n",
    "\n",
    "# Extract the video URLs of the first five videos\n",
    "for i, link in enumerate(video_links[:5]):\n",
    "    video_url = \"https://www.youtube.com\" + link['href']\n",
    "    print(f\"Video {i+1}: {video_url}\")"
   ]
  },
  {
   "cell_type": "markdown",
   "id": "d438a2fb",
   "metadata": {},
   "source": [
    "Ans2"
   ]
  },
  {
   "cell_type": "code",
   "execution_count": 3,
   "id": "97dd8efb",
   "metadata": {},
   "outputs": [],
   "source": [
    "response = requests.get(url)\n",
    "\n",
    "soup = BeautifulSoup(response.text, 'html.parser')\n",
    "\n",
    "# Find all the video thumbnail images\n",
    "thumbnails = soup.find_all('img', {'class': 'style-scope yt-img-shadow'})\n",
    "\n",
    "# Extract the thumbnail URLs of the first five videos\n",
    "for i, thumb in enumerate(thumbnails[:5]):\n",
    "    thumb_url = thumb['src']\n",
    "    print(f\"Thumbnail {i+1}: {thumb_url}\")"
   ]
  },
  {
   "cell_type": "markdown",
   "id": "40f2585d",
   "metadata": {},
   "source": [
    "Ans3"
   ]
  },
  {
   "cell_type": "code",
   "execution_count": 4,
   "id": "69d0635f",
   "metadata": {},
   "outputs": [],
   "source": [
    "response = requests.get(url)\n",
    "\n",
    "soup = BeautifulSoup(response.text, 'html.parser')\n",
    "\n",
    "# Find all the video links\n",
    "video_links = soup.find_all('a', {'class': 'yt-simple-endpoint style-scope ytd-grid-video-renderer'})\n",
    "\n",
    "# Extract the titles of the first five videos\n",
    "for i, link in enumerate(video_links[:5]):\n",
    "    title = link.find('span', {'class': 'style-scope ytd-grid-video-renderer'}).text\n",
    "    print(f\"Video {i+1} Title: {title}\")\n"
   ]
  },
  {
   "cell_type": "markdown",
   "id": "b1a04eeb",
   "metadata": {},
   "source": [
    "Ans4"
   ]
  },
  {
   "cell_type": "code",
   "execution_count": 5,
   "id": "f6b5e323",
   "metadata": {},
   "outputs": [],
   "source": [
    "response = requests.get(url)\n",
    "\n",
    "soup = BeautifulSoup(response.text, 'html.parser')\n",
    "\n",
    "# Find all the video links\n",
    "video_links = soup.find_all('a', {'class': 'yt-simple-endpoint style-scope ytd-grid-video-renderer'})\n",
    "\n",
    "# Extract the number of views of the first five videos\n",
    "for i, link in enumerate(video_links[:5]):\n",
    "    metadata = link.find_all('span', {'class': 'style-scope ytd-grid-video-renderer'})\n",
    "    views = metadata[0].text\n",
    "    print(f\"Video {i+1} Views: {views}\")"
   ]
  },
  {
   "cell_type": "markdown",
   "id": "583300bd",
   "metadata": {},
   "source": [
    "Ans5"
   ]
  },
  {
   "cell_type": "code",
   "execution_count": 6,
   "id": "37f987c3",
   "metadata": {},
   "outputs": [],
   "source": [
    "response = requests.get(url)\n",
    "\n",
    "soup = BeautifulSoup(response.text, 'html.parser')\n",
    "\n",
    "# Find all the video links\n",
    "video_links = soup.find_all('a', {'class': 'yt-simple-endpoint style-scope ytd-grid-video-renderer'})\n",
    "\n",
    "# Extract the time of posting of the first five videos\n",
    "for i, link in enumerate(video_links[:5]):\n",
    "    metadata = link.find_all('span', {'class': 'style-scope ytd-grid-video-renderer'})\n",
    "    time = metadata[-1].text\n",
    "    print(f\"Video {i+1} Time: {time}\")\n"
   ]
  },
  {
   "cell_type": "code",
   "execution_count": null,
   "id": "2f956050",
   "metadata": {},
   "outputs": [],
   "source": []
  }
 ],
 "metadata": {
  "kernelspec": {
   "display_name": "Python 3 (ipykernel)",
   "language": "python",
   "name": "python3"
  },
  "language_info": {
   "codemirror_mode": {
    "name": "ipython",
    "version": 3
   },
   "file_extension": ".py",
   "mimetype": "text/x-python",
   "name": "python",
   "nbconvert_exporter": "python",
   "pygments_lexer": "ipython3",
   "version": "3.9.7"
  }
 },
 "nbformat": 4,
 "nbformat_minor": 5
}
