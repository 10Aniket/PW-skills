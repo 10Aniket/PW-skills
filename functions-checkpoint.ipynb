{
 "cells": [
  {
   "cell_type": "markdown",
   "id": "117e9a68",
   "metadata": {},
   "source": [
    "Ans1 : def keyword is used to create the function"
   ]
  },
  {
   "cell_type": "code",
   "execution_count": 1,
   "id": "30921384",
   "metadata": {},
   "outputs": [],
   "source": [
    "def odds():\n",
    "    odd = []\n",
    "    for i in range(1,26):\n",
    "        if i%2 !=0:\n",
    "            odd.append(i)\n",
    "    return odd"
   ]
  },
  {
   "cell_type": "code",
   "execution_count": 2,
   "id": "bd0485e2",
   "metadata": {},
   "outputs": [
    {
     "data": {
      "text/plain": [
       "[1, 3, 5, 7, 9, 11, 13, 15, 17, 19, 21, 23, 25]"
      ]
     },
     "execution_count": 2,
     "metadata": {},
     "output_type": "execute_result"
    }
   ],
   "source": [
    "odds()"
   ]
  },
  {
   "cell_type": "markdown",
   "id": "8683d1ea",
   "metadata": {},
   "source": [
    "Ans2 : *args are used for the multiple arugmest & **kwargs is used to get the multiple agruments in key and value pair "
   ]
  },
  {
   "cell_type": "code",
   "execution_count": 3,
   "id": "fcb76478",
   "metadata": {},
   "outputs": [],
   "source": [
    "def multiple(*args):\n",
    "    return args"
   ]
  },
  {
   "cell_type": "code",
   "execution_count": 4,
   "id": "a5937e43",
   "metadata": {},
   "outputs": [
    {
     "data": {
      "text/plain": [
       "(45, 565, 84)"
      ]
     },
     "execution_count": 4,
     "metadata": {},
     "output_type": "execute_result"
    }
   ],
   "source": [
    "multiple(45,565,84)"
   ]
  },
  {
   "cell_type": "code",
   "execution_count": 5,
   "id": "e17422fa",
   "metadata": {},
   "outputs": [],
   "source": [
    "def keyargs(**kwargs):\n",
    "    return kwargs"
   ]
  },
  {
   "cell_type": "code",
   "execution_count": 6,
   "id": "6ade9166",
   "metadata": {},
   "outputs": [
    {
     "data": {
      "text/plain": [
       "{'firstname': 'jon', 'lastname': 'snow'}"
      ]
     },
     "execution_count": 6,
     "metadata": {},
     "output_type": "execute_result"
    }
   ],
   "source": [
    "keyargs(firstname = 'jon',lastname='snow')"
   ]
  },
  {
   "cell_type": "markdown",
   "id": "271f0385",
   "metadata": {},
   "source": [
    "Ans3 :  iterator can traverse through all the values."
   ]
  },
  {
   "cell_type": "code",
   "execution_count": 7,
   "id": "3d695253",
   "metadata": {},
   "outputs": [
    {
     "name": "stdout",
     "output_type": "stream",
     "text": [
      "2\n",
      "4\n",
      "6\n",
      "8\n",
      "10\n"
     ]
    }
   ],
   "source": [
    "my_list = [2, 4, 6, 8, 10, 12, 14, 16, 18, 20]\n",
    "\n",
    "my_iter = iter(my_list)\n",
    "\n",
    "for i in range(5):\n",
    "    print(next(my_iter))"
   ]
  },
  {
   "cell_type": "markdown",
   "id": "ca7d1202",
   "metadata": {},
   "source": [
    "Ans4 : genrator function can be paused and resumed any time using 'yeild' keyword"
   ]
  },
  {
   "cell_type": "code",
   "execution_count": 8,
   "id": "eb382474",
   "metadata": {},
   "outputs": [],
   "source": [
    "def my_generator(n):\n",
    "    for i in range(n):\n",
    "        yield i*2\n"
   ]
  },
  {
   "cell_type": "code",
   "execution_count": 9,
   "id": "d51dde55",
   "metadata": {},
   "outputs": [
    {
     "name": "stdout",
     "output_type": "stream",
     "text": [
      "0\n",
      "2\n",
      "4\n",
      "6\n",
      "8\n"
     ]
    }
   ],
   "source": [
    "gen = my_generator(5)\n",
    "for num in gen:\n",
    "    print(num)\n"
   ]
  },
  {
   "cell_type": "markdown",
   "id": "d6df0b60",
   "metadata": {},
   "source": [
    "Ans5"
   ]
  },
  {
   "cell_type": "code",
   "execution_count": 11,
   "id": "3271f732",
   "metadata": {},
   "outputs": [],
   "source": [
    "def primes():\n",
    "    primes_list = [2, 3]\n",
    "    yield 2\n",
    "    yield 3\n",
    "\n",
    "    for i in range(5, 1000, 2):\n",
    "        is_prime = True\n",
    "\n",
    "        for prime in primes_list:\n",
    "            if i % prime == 0:\n",
    "                is_prime = False\n",
    "                break\n",
    "        if is_prime:\n",
    "            primes_list.append(i)\n",
    "            yield i\n"
   ]
  },
  {
   "cell_type": "code",
   "execution_count": 12,
   "id": "cdb6d35a",
   "metadata": {},
   "outputs": [
    {
     "name": "stdout",
     "output_type": "stream",
     "text": [
      "2\n",
      "3\n",
      "5\n",
      "7\n",
      "11\n",
      "13\n",
      "17\n",
      "19\n",
      "23\n",
      "29\n",
      "31\n",
      "37\n",
      "41\n",
      "43\n",
      "47\n",
      "53\n",
      "59\n",
      "61\n",
      "67\n",
      "71\n"
     ]
    }
   ],
   "source": [
    "gen = primes()\n",
    "\n",
    "for i in range(20):\n",
    "    print(next(gen))\n"
   ]
  }
 ],
 "metadata": {
  "kernelspec": {
   "display_name": "Python 3 (ipykernel)",
   "language": "python",
   "name": "python3"
  },
  "language_info": {
   "codemirror_mode": {
    "name": "ipython",
    "version": 3
   },
   "file_extension": ".py",
   "mimetype": "text/x-python",
   "name": "python",
   "nbconvert_exporter": "python",
   "pygments_lexer": "ipython3",
   "version": "3.9.7"
  }
 },
 "nbformat": 4,
 "nbformat_minor": 5
}
