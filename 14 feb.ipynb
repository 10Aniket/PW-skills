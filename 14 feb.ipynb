{
 "cells": [
  {
   "cell_type": "markdown",
   "id": "1c72f29a",
   "metadata": {},
   "source": [
    "Ans1: Multithreading in Python is a way to perform multiple tasks simultaneously within a single process.\n",
    "    It involves creating and executing multiple threads of execution within a single program.\n",
    "    Each thread is a separate flow of execution,with its own call stack and code pointer, but they share the same memory space.\n",
    "    The threading module is used to handle threads in Python.\n",
    "    It provides a simple way to create and manage threads in a Python program."
   ]
  },
  {
   "cell_type": "markdown",
   "id": "7320e23c",
   "metadata": {},
   "source": [
    "Ans2:\n",
    "activeCount(): This function returns the number of currently active Thread objects in the current Python interpreter.\n",
    "    It is useful for monitoring the status of threads and checking if any threads are still running or have completed.\n",
    "    For example, threading.activeCount() can be used to check if all threads have completed before exiting the program.\n",
    "\n",
    "currentThread(): This function returns a reference to the current Thread object,\n",
    "    which represents the thread that is currently executing the Python code.\n",
    "    It is useful for getting information about the current thread, such as its name, ID, and state.\n",
    "    For example, threading.currentThread().getName() can be used to get the name of the current thread.\n",
    "\n",
    "enumerate(): This function returns a list of all currently active Thread objects in the current Python interpreter.\n",
    "    It is useful for getting information about all the threads that are currently running or have completed.\n",
    "    For example, threads = threading.enumerate() can be used to get a list of all currently active threads,\n",
    "    which can then be used to check the status of each thread."
   ]
  },
  {
   "cell_type": "markdown",
   "id": "25bc988d",
   "metadata": {},
   "source": [
    "Ans3 : \n",
    "run(): This is a method of the Thread class that contains the code that will be executed by the thread when it is started.\n",
    "    It is called automatically when a thread is started using the start() method.\n",
    "    In most cases, you will override this method in a subclass of Thread to define the code that should\n",
    "    be executed by the thread.\n",
    "\n",
    "start(): This is a method of the Thread class that starts the execution of a new thread.\n",
    "    It creates a new thread of execution and calls the run() method of the Thread object in that new thread.\n",
    "    The start() method returns immediately and does not wait for the thread to complete.\n",
    "    It is important to note that a thread can only be started once. If you try to start a thread that has already been started,\n",
    "    a RuntimeError will be raised.\n",
    "\n",
    "join(): This is a method of the Thread class that waits for the thread to complete its execution.\n",
    "    It blocks the calling thread until the thread being joined has finished running.\n",
    "    The join() method is typically used to ensure that a thread has completed its execution before continuing\n",
    "    with the rest of the program.\n",
    "\n",
    "isAlive(): This is a method of the Thread class that returns a boolean value indicating whether the thread is still running.\n",
    "    It returns True if the thread is still running, and False if the thread has completed its execution.\n",
    "    The isAlive() method can be used to check the status of a thread and determine whether it has completed\n",
    "    its task or is still running."
   ]
  },
  {
   "cell_type": "markdown",
   "id": "10d144f2",
   "metadata": {},
   "source": [
    "Ans4:"
   ]
  },
  {
   "cell_type": "code",
   "execution_count": 1,
   "id": "5328538d",
   "metadata": {},
   "outputs": [
    {
     "name": "stdout",
     "output_type": "stream",
     "text": [
      "1 squared is 1\n",
      "2 squared is 4\n",
      "3 squared is 9\n",
      "4 squared is 16\n",
      "5 squared is 25\n",
      "6 squared is 36\n",
      "7 squared is 49\n",
      "8 squared is 64\n",
      "9 squared is 81\n",
      "10 squared is 100\n",
      "1 cubed is 1\n",
      "2 cubed is 8\n",
      "3 cubed is 27\n",
      "4 cubed is 64\n",
      "5 cubed is 125\n",
      "6 cubed is 216\n",
      "7 cubed is 343\n",
      "8 cubed is 512\n",
      "9 cubed is 729\n",
      "10 cubed is 1000\n",
      "Program finished.\n"
     ]
    }
   ],
   "source": [
    "import threading\n",
    "\n",
    "\n",
    "def squares():\n",
    "    for i in range(1, 11):\n",
    "        print(f\"{i} squared is {i**2}\")\n",
    "\n",
    "def cubes():\n",
    "    for i in range(1, 11):\n",
    "        print(f\"{i} cubed is {i**3}\")\n",
    "\n",
    "t1 = threading.Thread(target=squares)\n",
    "t2 = threading.Thread(target=cubes)\n",
    "\n",
    "t1.start()\n",
    "t2.start()\n",
    "\n",
    "t1.join()\n",
    "t2.join()\n",
    "\n",
    "print(\"Program finished.\")\n"
   ]
  },
  {
   "cell_type": "markdown",
   "id": "f5f050ac",
   "metadata": {},
   "source": [
    "Ans5:\n",
    "#Advantages    \n",
    "Multithreading in Python streamlines the efficient utilization of resources as the threads share the same memory and data space.\n",
    "\n",
    "It also allows the concurrent appearance of multiple tasks and reduces the response time. This improves the performan\n",
    "\n",
    "#disadvantages\n",
    "Difficulty of writing code Multithreaded and multicontexted applications are not easy to write.\n",
    "Only experienced programmers should undertake coding for these types of applications.\n",
    "\n",
    "Difficulty of debugging\n",
    "It is much harder to replicate an error in a multithreaded or multicontexted application than \n",
    "it is to do so in a single-threaded, single-contexted application. As a result, it is more difficult, \n",
    "in the former case, to identify and verify root causes when errors occur."
   ]
  },
  {
   "cell_type": "markdown",
   "id": "66047dd2",
   "metadata": {},
   "source": [
    "Ans6 : A race condition occurs when two threads use the same variable at a given time.\n",
    "    Deadlock exists when two threads seek one lock simultaneously.\n",
    "    This situation will stop both threads from processing or executing the functions."
   ]
  }
 ],
 "metadata": {
  "kernelspec": {
   "display_name": "Python 3 (ipykernel)",
   "language": "python",
   "name": "python3"
  },
  "language_info": {
   "codemirror_mode": {
    "name": "ipython",
    "version": 3
   },
   "file_extension": ".py",
   "mimetype": "text/x-python",
   "name": "python",
   "nbconvert_exporter": "python",
   "pygments_lexer": "ipython3",
   "version": "3.9.7"
  }
 },
 "nbformat": 4,
 "nbformat_minor": 5
}
